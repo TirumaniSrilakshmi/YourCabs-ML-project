{
 "cells": [
  {
   "cell_type": "code",
   "execution_count": 1,
   "id": "314a7fb5-da13-4118-b910-3e7738b92411",
   "metadata": {},
   "outputs": [],
   "source": [
    "import pandas as pd\n",
    "import time\n",
    "import random\n",
    "from sklearn import metrics\n",
    "from sklearn.preprocessing import StandardScaler\n",
    "from sklearn.model_selection import KFold, cross_val_score\n",
    "from sklearn.model_selection import train_test_split, GridSearchCV\n",
    "import numpy as np\n",
    "import matplotlib.pyplot as plt\n",
    "import seaborn as sns\n",
    "from sklearn.metrics import confusion_matrix\n",
    "from sklearn.metrics import accuracy_score\n",
    "from sklearn.metrics import roc_curve, auc\n",
    "from sklearn.metrics import classification_report,recall_score,precision_score,roc_auc_score\n",
    "from sklearn.linear_model import LogisticRegression #LogisticRegression\n",
    "from sklearn.tree import DecisionTreeClassifier #DecisionTreeRegresor\n",
    "from sklearn.ensemble import RandomForestClassifier  # RandomForestRegressor\n",
    "from sklearn.ensemble import AdaBoostClassifier #Adaptive Boost\n",
    "from sklearn.neighbors import KNeighborsClassifier #KNN\n",
    "from sklearn.ensemble import GradientBoostingClassifier #Gradient Boost \n",
    "from sklearn.svm import SVC #SVC\n",
    "from sklearn.naive_bayes import GaussianNB #NaiveBayes\n",
    "from IPython.display import Image  \n",
    "from sklearn.tree import export_graphviz\n",
    "from io import StringIO\n",
    "import warnings\n",
    "warnings.filterwarnings('ignore')"
   ]
  },
  {
   "cell_type": "code",
   "execution_count": 2,
   "id": "4556c987-72c3-41ad-b93a-43b48c766058",
   "metadata": {},
   "outputs": [],
   "source": [
    "data = pd.read_csv(r\"C:\\Users\\kisho\\DataScience\\Machine Learning\\Practice\\cat3.csv\")"
   ]
  },
  {
   "cell_type": "code",
   "execution_count": 3,
   "id": "ee12d213-e2ee-4b74-9cac-93b9acdc959c",
   "metadata": {},
   "outputs": [
    {
     "data": {
      "text/html": [
       "<div>\n",
       "<style scoped>\n",
       "    .dataframe tbody tr th:only-of-type {\n",
       "        vertical-align: middle;\n",
       "    }\n",
       "\n",
       "    .dataframe tbody tr th {\n",
       "        vertical-align: top;\n",
       "    }\n",
       "\n",
       "    .dataframe thead th {\n",
       "        text-align: right;\n",
       "    }\n",
       "</style>\n",
       "<table border=\"1\" class=\"dataframe\">\n",
       "  <thead>\n",
       "    <tr style=\"text-align: right;\">\n",
       "      <th></th>\n",
       "      <th>Unnamed: 0</th>\n",
       "      <th>package_id</th>\n",
       "      <th>online_booking</th>\n",
       "      <th>mobile_site_booking</th>\n",
       "      <th>Car_Cancellation</th>\n",
       "      <th>from_month</th>\n",
       "      <th>from_datee</th>\n",
       "      <th>weekend</th>\n",
       "      <th>timeOfDay</th>\n",
       "      <th>timeDifference</th>\n",
       "      <th>cancel_zone</th>\n",
       "    </tr>\n",
       "  </thead>\n",
       "  <tbody>\n",
       "    <tr>\n",
       "      <th>0</th>\n",
       "      <td>8</td>\n",
       "      <td>2.0</td>\n",
       "      <td>0</td>\n",
       "      <td>0</td>\n",
       "      <td>0</td>\n",
       "      <td>1</td>\n",
       "      <td>1</td>\n",
       "      <td>0</td>\n",
       "      <td>3</td>\n",
       "      <td>7</td>\n",
       "      <td>1</td>\n",
       "    </tr>\n",
       "    <tr>\n",
       "      <th>1</th>\n",
       "      <td>20</td>\n",
       "      <td>2.0</td>\n",
       "      <td>0</td>\n",
       "      <td>0</td>\n",
       "      <td>0</td>\n",
       "      <td>1</td>\n",
       "      <td>1</td>\n",
       "      <td>0</td>\n",
       "      <td>3</td>\n",
       "      <td>2</td>\n",
       "      <td>1</td>\n",
       "    </tr>\n",
       "    <tr>\n",
       "      <th>2</th>\n",
       "      <td>23</td>\n",
       "      <td>1.0</td>\n",
       "      <td>0</td>\n",
       "      <td>0</td>\n",
       "      <td>0</td>\n",
       "      <td>1</td>\n",
       "      <td>1</td>\n",
       "      <td>0</td>\n",
       "      <td>3</td>\n",
       "      <td>2</td>\n",
       "      <td>1</td>\n",
       "    </tr>\n",
       "    <tr>\n",
       "      <th>3</th>\n",
       "      <td>34</td>\n",
       "      <td>1.0</td>\n",
       "      <td>1</td>\n",
       "      <td>0</td>\n",
       "      <td>0</td>\n",
       "      <td>1</td>\n",
       "      <td>1</td>\n",
       "      <td>0</td>\n",
       "      <td>4</td>\n",
       "      <td>3</td>\n",
       "      <td>1</td>\n",
       "    </tr>\n",
       "    <tr>\n",
       "      <th>4</th>\n",
       "      <td>47</td>\n",
       "      <td>2.0</td>\n",
       "      <td>0</td>\n",
       "      <td>0</td>\n",
       "      <td>0</td>\n",
       "      <td>1</td>\n",
       "      <td>2</td>\n",
       "      <td>0</td>\n",
       "      <td>6</td>\n",
       "      <td>-16</td>\n",
       "      <td>1</td>\n",
       "    </tr>\n",
       "  </tbody>\n",
       "</table>\n",
       "</div>"
      ],
      "text/plain": [
       "   Unnamed: 0  package_id  online_booking  mobile_site_booking  \\\n",
       "0           8         2.0               0                    0   \n",
       "1          20         2.0               0                    0   \n",
       "2          23         1.0               0                    0   \n",
       "3          34         1.0               1                    0   \n",
       "4          47         2.0               0                    0   \n",
       "\n",
       "   Car_Cancellation  from_month  from_datee  weekend  timeOfDay  \\\n",
       "0                 0           1           1        0          3   \n",
       "1                 0           1           1        0          3   \n",
       "2                 0           1           1        0          3   \n",
       "3                 0           1           1        0          4   \n",
       "4                 0           1           2        0          6   \n",
       "\n",
       "   timeDifference  cancel_zone  \n",
       "0               7            1  \n",
       "1               2            1  \n",
       "2               2            1  \n",
       "3               3            1  \n",
       "4             -16            1  "
      ]
     },
     "execution_count": 3,
     "metadata": {},
     "output_type": "execute_result"
    }
   ],
   "source": [
    "data.head()"
   ]
  },
  {
   "cell_type": "code",
   "execution_count": 4,
   "id": "55ebccfd-bc4b-48c9-9b36-859d01b2240d",
   "metadata": {},
   "outputs": [
    {
     "data": {
      "text/html": [
       "<div>\n",
       "<style scoped>\n",
       "    .dataframe tbody tr th:only-of-type {\n",
       "        vertical-align: middle;\n",
       "    }\n",
       "\n",
       "    .dataframe tbody tr th {\n",
       "        vertical-align: top;\n",
       "    }\n",
       "\n",
       "    .dataframe thead th {\n",
       "        text-align: right;\n",
       "    }\n",
       "</style>\n",
       "<table border=\"1\" class=\"dataframe\">\n",
       "  <thead>\n",
       "    <tr style=\"text-align: right;\">\n",
       "      <th></th>\n",
       "      <th>package_id</th>\n",
       "      <th>online_booking</th>\n",
       "      <th>mobile_site_booking</th>\n",
       "      <th>Car_Cancellation</th>\n",
       "      <th>from_month</th>\n",
       "      <th>from_datee</th>\n",
       "      <th>weekend</th>\n",
       "      <th>timeOfDay</th>\n",
       "      <th>timeDifference</th>\n",
       "      <th>cancel_zone</th>\n",
       "    </tr>\n",
       "  </thead>\n",
       "  <tbody>\n",
       "    <tr>\n",
       "      <th>0</th>\n",
       "      <td>2.0</td>\n",
       "      <td>0</td>\n",
       "      <td>0</td>\n",
       "      <td>0</td>\n",
       "      <td>1</td>\n",
       "      <td>1</td>\n",
       "      <td>0</td>\n",
       "      <td>3</td>\n",
       "      <td>7</td>\n",
       "      <td>1</td>\n",
       "    </tr>\n",
       "    <tr>\n",
       "      <th>1</th>\n",
       "      <td>2.0</td>\n",
       "      <td>0</td>\n",
       "      <td>0</td>\n",
       "      <td>0</td>\n",
       "      <td>1</td>\n",
       "      <td>1</td>\n",
       "      <td>0</td>\n",
       "      <td>3</td>\n",
       "      <td>2</td>\n",
       "      <td>1</td>\n",
       "    </tr>\n",
       "    <tr>\n",
       "      <th>2</th>\n",
       "      <td>1.0</td>\n",
       "      <td>0</td>\n",
       "      <td>0</td>\n",
       "      <td>0</td>\n",
       "      <td>1</td>\n",
       "      <td>1</td>\n",
       "      <td>0</td>\n",
       "      <td>3</td>\n",
       "      <td>2</td>\n",
       "      <td>1</td>\n",
       "    </tr>\n",
       "  </tbody>\n",
       "</table>\n",
       "</div>"
      ],
      "text/plain": [
       "   package_id  online_booking  mobile_site_booking  Car_Cancellation  \\\n",
       "0         2.0               0                    0                 0   \n",
       "1         2.0               0                    0                 0   \n",
       "2         1.0               0                    0                 0   \n",
       "\n",
       "   from_month  from_datee  weekend  timeOfDay  timeDifference  cancel_zone  \n",
       "0           1           1        0          3               7            1  \n",
       "1           1           1        0          3               2            1  \n",
       "2           1           1        0          3               2            1  "
      ]
     },
     "execution_count": 4,
     "metadata": {},
     "output_type": "execute_result"
    }
   ],
   "source": [
    "data = data.drop('Unnamed: 0',axis=1)\n",
    "data.head(3)"
   ]
  },
  {
   "cell_type": "code",
   "execution_count": 5,
   "id": "7dfbff27-e1bd-46d3-a8df-7e5c03aa9278",
   "metadata": {},
   "outputs": [
    {
     "data": {
      "text/plain": [
       "(7550, 10)"
      ]
     },
     "execution_count": 5,
     "metadata": {},
     "output_type": "execute_result"
    }
   ],
   "source": [
    "data.shape"
   ]
  },
  {
   "cell_type": "code",
   "execution_count": 6,
   "id": "b4d29742-47e4-437e-af6c-1175faee339d",
   "metadata": {},
   "outputs": [
    {
     "data": {
      "text/plain": [
       "Index(['package_id', 'online_booking', 'mobile_site_booking',\n",
       "       'Car_Cancellation', 'from_month', 'from_datee', 'weekend', 'timeOfDay',\n",
       "       'timeDifference', 'cancel_zone'],\n",
       "      dtype='object')"
      ]
     },
     "execution_count": 6,
     "metadata": {},
     "output_type": "execute_result"
    }
   ],
   "source": [
    "data.columns"
   ]
  },
  {
   "cell_type": "code",
   "execution_count": 7,
   "id": "620e1bad-cc3e-4085-bbf3-b6f80359e6cd",
   "metadata": {},
   "outputs": [
    {
     "data": {
      "text/plain": [
       "array([[  2.,   0.,   0., ...,   3.,   7.,   1.],\n",
       "       [  2.,   0.,   0., ...,   3.,   2.,   1.],\n",
       "       [  1.,   0.,   0., ...,   3.,   2.,   1.],\n",
       "       ...,\n",
       "       [  2.,   1.,   0., ...,   6., -12.,   0.],\n",
       "       [  2.,   0.,   0., ...,   3.,   1.,   1.],\n",
       "       [  1.,   0.,   0., ...,   4.,   4.,   1.]])"
      ]
     },
     "execution_count": 7,
     "metadata": {},
     "output_type": "execute_result"
    }
   ],
   "source": [
    "X = data.loc[:,data.columns!='Car_Cancellation'].values\n",
    "X"
   ]
  },
  {
   "cell_type": "code",
   "execution_count": 8,
   "id": "024182c0-525c-41a5-8482-24eca34b5000",
   "metadata": {},
   "outputs": [
    {
     "data": {
      "text/plain": [
       "array([0, 0, 0, ..., 0, 0, 0], dtype=int64)"
      ]
     },
     "execution_count": 8,
     "metadata": {},
     "output_type": "execute_result"
    }
   ],
   "source": [
    "y = data['Car_Cancellation'].values\n",
    "y"
   ]
  },
  {
   "cell_type": "code",
   "execution_count": 9,
   "id": "fb64c9da-a603-4f20-b5ae-671a28880238",
   "metadata": {},
   "outputs": [
    {
     "name": "stdout",
     "output_type": "stream",
     "text": [
      "Shape of features X: (7550, 9)\n",
      "Shape of target Y: (7550,)\n"
     ]
    }
   ],
   "source": [
    "print('Shape of features X:',X.shape)\n",
    "print('Shape of target Y:',y.shape)\n"
   ]
  },
  {
   "cell_type": "code",
   "execution_count": 10,
   "id": "6cf593f6-bec3-402c-b01b-6e6acd49e269",
   "metadata": {},
   "outputs": [],
   "source": [
    "x_train,x_test,y_train,y_test = train_test_split(X,y,test_size=0.4, random_state = 40)"
   ]
  },
  {
   "cell_type": "code",
   "execution_count": 11,
   "id": "f34497fc-1235-4a2e-8a38-b6f43369f4a1",
   "metadata": {},
   "outputs": [
    {
     "name": "stdout",
     "output_type": "stream",
     "text": [
      "Data of training features X : (4530, 9)\n",
      "Data of testing features X : (3020, 9)\n",
      "Data of training features Y : (4530,)\n",
      "Data of testing features X : (3020,)\n"
     ]
    }
   ],
   "source": [
    "print('Data of training features X :',x_train.shape)\n",
    "print('Data of testing features X :',x_test.shape)\n",
    "print('Data of training features Y :',y_train.shape)\n",
    "print('Data of testing features X :',y_test.shape)"
   ]
  },
  {
   "cell_type": "code",
   "execution_count": 12,
   "id": "edc69538-531c-4369-953e-42d71fe297a0",
   "metadata": {},
   "outputs": [
    {
     "name": "stdout",
     "output_type": "stream",
     "text": [
      "[[  3.   1.   0. ...   3.   4.   1.]\n",
      " [  2.   1.   0. ...   2. -11.   1.]\n",
      " [  1.   0.   0. ...   4.   1.   0.]\n",
      " ...\n",
      " [  2.   1.   0. ...   2.   2.   1.]\n",
      " [  1.   1.   0. ...   2. -12.   1.]\n",
      " [  2.   1.   0. ...   2. -14.   1.]]\n",
      "[[  4.   1.   0. ...   1. -13.   0.]\n",
      " [  4.   0.   0. ...   6. -15.   1.]\n",
      " [  1.   0.   0. ...   4.   6.   0.]\n",
      " ...\n",
      " [  1.   0.   0. ...   4.   4.   1.]\n",
      " [  1.   0.   0. ...   2.   2.   0.]\n",
      " [  2.   1.   0. ...   1. -10.   0.]]\n",
      "[0 0 0 ... 0 0 0]\n",
      "[0 0 0 ... 0 0 0]\n"
     ]
    }
   ],
   "source": [
    "print(x_train)\n",
    "print(x_test)\n",
    "print(y_train)\n",
    "print(y_test)"
   ]
  },
  {
   "cell_type": "code",
   "execution_count": 13,
   "id": "0caef86d-1250-4dcc-88f6-feae37b3dca5",
   "metadata": {},
   "outputs": [],
   "source": [
    "# Using Standard Scalar\n",
    "std_scaler = StandardScaler()"
   ]
  },
  {
   "cell_type": "code",
   "execution_count": 14,
   "id": "99f36738-a6ae-45c1-a5d1-d254d3581024",
   "metadata": {},
   "outputs": [],
   "source": [
    "x_train = std_scaler.fit_transform(x_train)\n",
    "x_test = std_scaler.fit_transform(x_test)"
   ]
  },
  {
   "cell_type": "code",
   "execution_count": 15,
   "id": "71a689f2-e1bf-4008-ac4a-3f0bdd4cb8a2",
   "metadata": {},
   "outputs": [
    {
     "name": "stdout",
     "output_type": "stream",
     "text": [
      "[[ 0.68398718  1.62796868 -0.15848913 ...  0.44692414  0.8560775\n",
      "   0.69672522]\n",
      " [-0.00825186  1.62796868 -0.15848913 ... -0.40444943 -1.22225564\n",
      "   0.69672522]\n",
      " [-0.7004909  -0.61426243 -0.15848913 ...  1.29829772  0.44041087\n",
      "  -1.33819756]\n",
      " ...\n",
      " [-0.00825186  1.62796868 -0.15848913 ... -0.40444943  0.57896642\n",
      "   0.69672522]\n",
      " [-0.7004909   1.62796868 -0.15848913 ... -0.40444943 -1.36081118\n",
      "   0.69672522]\n",
      " [-0.00825186  1.62796868 -0.15848913 ... -0.40444943 -1.63792227\n",
      "   0.69672522]]\n",
      "[[ 1.30692039  1.53478192 -0.17324446 ... -1.25502571 -1.51812548\n",
      "  -1.3116551 ]\n",
      " [ 1.30692039 -0.65155836 -0.17324446 ...  2.96754296 -1.79360099\n",
      "   0.7186875 ]\n",
      " [-0.71126586 -0.65155836 -0.17324446 ...  1.27851549  1.09889189\n",
      "  -1.3116551 ]\n",
      " ...\n",
      " [-0.71126586 -0.65155836 -0.17324446 ...  1.27851549  0.82341637\n",
      "   0.7186875 ]\n",
      " [-0.71126586 -0.65155836 -0.17324446 ... -0.41051197  0.54794086\n",
      "  -1.3116551 ]\n",
      " [-0.03853711  1.53478192 -0.17324446 ... -1.25502571 -1.10491221\n",
      "  -1.3116551 ]]\n"
     ]
    }
   ],
   "source": [
    "print(x_train)\n",
    "print(x_test)"
   ]
  },
  {
   "cell_type": "code",
   "execution_count": 16,
   "id": "24583faa-3b85-47ab-b895-4a5498d5fcf5",
   "metadata": {},
   "outputs": [],
   "source": [
    "# logistic Regression\n",
    "model_logreg = LogisticRegression(random_state = 0)"
   ]
  },
  {
   "cell_type": "code",
   "execution_count": 17,
   "id": "aa9e37d4-4d3e-4621-bb41-b319116f28cc",
   "metadata": {},
   "outputs": [
    {
     "data": {
      "text/html": [
       "<style>#sk-container-id-1 {color: black;background-color: white;}#sk-container-id-1 pre{padding: 0;}#sk-container-id-1 div.sk-toggleable {background-color: white;}#sk-container-id-1 label.sk-toggleable__label {cursor: pointer;display: block;width: 100%;margin-bottom: 0;padding: 0.3em;box-sizing: border-box;text-align: center;}#sk-container-id-1 label.sk-toggleable__label-arrow:before {content: \"▸\";float: left;margin-right: 0.25em;color: #696969;}#sk-container-id-1 label.sk-toggleable__label-arrow:hover:before {color: black;}#sk-container-id-1 div.sk-estimator:hover label.sk-toggleable__label-arrow:before {color: black;}#sk-container-id-1 div.sk-toggleable__content {max-height: 0;max-width: 0;overflow: hidden;text-align: left;background-color: #f0f8ff;}#sk-container-id-1 div.sk-toggleable__content pre {margin: 0.2em;color: black;border-radius: 0.25em;background-color: #f0f8ff;}#sk-container-id-1 input.sk-toggleable__control:checked~div.sk-toggleable__content {max-height: 200px;max-width: 100%;overflow: auto;}#sk-container-id-1 input.sk-toggleable__control:checked~label.sk-toggleable__label-arrow:before {content: \"▾\";}#sk-container-id-1 div.sk-estimator input.sk-toggleable__control:checked~label.sk-toggleable__label {background-color: #d4ebff;}#sk-container-id-1 div.sk-label input.sk-toggleable__control:checked~label.sk-toggleable__label {background-color: #d4ebff;}#sk-container-id-1 input.sk-hidden--visually {border: 0;clip: rect(1px 1px 1px 1px);clip: rect(1px, 1px, 1px, 1px);height: 1px;margin: -1px;overflow: hidden;padding: 0;position: absolute;width: 1px;}#sk-container-id-1 div.sk-estimator {font-family: monospace;background-color: #f0f8ff;border: 1px dotted black;border-radius: 0.25em;box-sizing: border-box;margin-bottom: 0.5em;}#sk-container-id-1 div.sk-estimator:hover {background-color: #d4ebff;}#sk-container-id-1 div.sk-parallel-item::after {content: \"\";width: 100%;border-bottom: 1px solid gray;flex-grow: 1;}#sk-container-id-1 div.sk-label:hover label.sk-toggleable__label {background-color: #d4ebff;}#sk-container-id-1 div.sk-serial::before {content: \"\";position: absolute;border-left: 1px solid gray;box-sizing: border-box;top: 0;bottom: 0;left: 50%;z-index: 0;}#sk-container-id-1 div.sk-serial {display: flex;flex-direction: column;align-items: center;background-color: white;padding-right: 0.2em;padding-left: 0.2em;position: relative;}#sk-container-id-1 div.sk-item {position: relative;z-index: 1;}#sk-container-id-1 div.sk-parallel {display: flex;align-items: stretch;justify-content: center;background-color: white;position: relative;}#sk-container-id-1 div.sk-item::before, #sk-container-id-1 div.sk-parallel-item::before {content: \"\";position: absolute;border-left: 1px solid gray;box-sizing: border-box;top: 0;bottom: 0;left: 50%;z-index: -1;}#sk-container-id-1 div.sk-parallel-item {display: flex;flex-direction: column;z-index: 1;position: relative;background-color: white;}#sk-container-id-1 div.sk-parallel-item:first-child::after {align-self: flex-end;width: 50%;}#sk-container-id-1 div.sk-parallel-item:last-child::after {align-self: flex-start;width: 50%;}#sk-container-id-1 div.sk-parallel-item:only-child::after {width: 0;}#sk-container-id-1 div.sk-dashed-wrapped {border: 1px dashed gray;margin: 0 0.4em 0.5em 0.4em;box-sizing: border-box;padding-bottom: 0.4em;background-color: white;}#sk-container-id-1 div.sk-label label {font-family: monospace;font-weight: bold;display: inline-block;line-height: 1.2em;}#sk-container-id-1 div.sk-label-container {text-align: center;}#sk-container-id-1 div.sk-container {/* jupyter's `normalize.less` sets `[hidden] { display: none; }` but bootstrap.min.css set `[hidden] { display: none !important; }` so we also need the `!important` here to be able to override the default hidden behavior on the sphinx rendered scikit-learn.org. See: https://github.com/scikit-learn/scikit-learn/issues/21755 */display: inline-block !important;position: relative;}#sk-container-id-1 div.sk-text-repr-fallback {display: none;}</style><div id=\"sk-container-id-1\" class=\"sk-top-container\"><div class=\"sk-text-repr-fallback\"><pre>LogisticRegression(random_state=0)</pre><b>In a Jupyter environment, please rerun this cell to show the HTML representation or trust the notebook. <br />On GitHub, the HTML representation is unable to render, please try loading this page with nbviewer.org.</b></div><div class=\"sk-container\" hidden><div class=\"sk-item\"><div class=\"sk-estimator sk-toggleable\"><input class=\"sk-toggleable__control sk-hidden--visually\" id=\"sk-estimator-id-1\" type=\"checkbox\" checked><label for=\"sk-estimator-id-1\" class=\"sk-toggleable__label sk-toggleable__label-arrow\">LogisticRegression</label><div class=\"sk-toggleable__content\"><pre>LogisticRegression(random_state=0)</pre></div></div></div></div></div>"
      ],
      "text/plain": [
       "LogisticRegression(random_state=0)"
      ]
     },
     "execution_count": 17,
     "metadata": {},
     "output_type": "execute_result"
    }
   ],
   "source": [
    "model_logreg.fit(x_train,y_train)"
   ]
  },
  {
   "cell_type": "code",
   "execution_count": 18,
   "id": "ccec9339-9f67-47fa-a0e2-70571c8df69d",
   "metadata": {},
   "outputs": [],
   "source": [
    "y_pred = model_logreg.predict(x_test)"
   ]
  },
  {
   "cell_type": "code",
   "execution_count": 19,
   "id": "8bd24ef4-d8a7-4e8c-ae84-b8ee6ad40150",
   "metadata": {},
   "outputs": [
    {
     "data": {
      "text/plain": [
       "array([0, 0, 0, ..., 0, 0, 0], dtype=int64)"
      ]
     },
     "execution_count": 19,
     "metadata": {},
     "output_type": "execute_result"
    }
   ],
   "source": [
    "y_pred"
   ]
  },
  {
   "cell_type": "code",
   "execution_count": 20,
   "id": "ba8f7e0d-4c7f-4dbf-847d-394b2da1ad1a",
   "metadata": {},
   "outputs": [
    {
     "data": {
      "text/plain": [
       "array([[2877,   11],\n",
       "       [ 128,    4]], dtype=int64)"
      ]
     },
     "execution_count": 20,
     "metadata": {},
     "output_type": "execute_result"
    }
   ],
   "source": [
    "Conf_matrix_logreg = confusion_matrix(y_test,y_pred)\n",
    "Conf_matrix_logreg"
   ]
  },
  {
   "cell_type": "code",
   "execution_count": 21,
   "id": "fe81e1d5-6d6a-46e4-a31d-3215052f4c07",
   "metadata": {},
   "outputs": [
    {
     "data": {
      "text/plain": [
       "<Axes: >"
      ]
     },
     "execution_count": 21,
     "metadata": {},
     "output_type": "execute_result"
    },
    {
     "data": {
      "image/png": "[encoded data removed]",
      "text/plain": [
       "<Figure size 640x480 with 2 Axes>"
      ]
     },
     "metadata": {},
     "output_type": "display_data"
    }
   ],
   "source": [
    "sns.heatmap(Conf_matrix_logreg,annot = True)"
   ]
  },
  {
   "cell_type": "code",
   "execution_count": 22,
   "id": "09d690ed-c41e-49de-8508-34770d7e71f7",
   "metadata": {},
   "outputs": [
    {
     "data": {
      "text/plain": [
       "0.9539735099337748"
      ]
     },
     "execution_count": 22,
     "metadata": {},
     "output_type": "execute_result"
    }
   ],
   "source": [
    "accuracy_logreg = metrics.accuracy_score(y_test,y_pred)\n",
    "accuracy_logreg"
   ]
  },
  {
   "cell_type": "code",
   "execution_count": 23,
   "id": "2eb2115c-ad27-4510-83ba-5e14141b07a5",
   "metadata": {},
   "outputs": [
    {
     "data": {
      "text/plain": [
       "0.26666666666666666"
      ]
     },
     "execution_count": 23,
     "metadata": {},
     "output_type": "execute_result"
    }
   ],
   "source": [
    "precision_logreg = metrics.precision_score(y_test,y_pred)\n",
    "precision_logreg"
   ]
  },
  {
   "cell_type": "code",
   "execution_count": 24,
   "id": "d097cfbe-d2f5-470f-9b8a-c01a8b974b8c",
   "metadata": {},
   "outputs": [
    {
     "data": {
      "text/plain": [
       "0.030303030303030304"
      ]
     },
     "execution_count": 24,
     "metadata": {},
     "output_type": "execute_result"
    }
   ],
   "source": [
    "recall_logreg = metrics.recall_score(y_test,y_pred)\n",
    "recall_logreg"
   ]
  },
  {
   "cell_type": "code",
   "execution_count": 25,
   "id": "0928a1fe-eb43-4a72-8df9-1b9dcf19109d",
   "metadata": {},
   "outputs": [
    {
     "data": {
      "text/plain": [
       "array([0.00659013, 0.07518252, 0.00154673, ..., 0.02423322, 0.0005969 ,\n",
       "       0.00189977])"
      ]
     },
     "execution_count": 25,
     "metadata": {},
     "output_type": "execute_result"
    }
   ],
   "source": [
    "y_pred_proba = model_logreg.predict_proba(x_test)[::,1]\n",
    "y_pred_proba"
   ]
  },
  {
   "cell_type": "code",
   "execution_count": 26,
   "id": "2d037e05-980a-4052-8ba5-aff9d760a80e",
   "metadata": {},
   "outputs": [
    {
     "data": {
      "text/plain": [
       "Text(0, 0.5, 'TPR---->')"
      ]
     },
     "execution_count": 26,
     "metadata": {},
     "output_type": "execute_result"
    },
    {
     "data": {
      "image/png": "[encoded data removed]",
      "text/plain": [
       "<Figure size 1500x600 with 1 Axes>"
      ]
     },
     "metadata": {},
     "output_type": "display_data"
    }
   ],
   "source": [
    "fpr,tpr,_ = metrics.roc_curve(y_test,y_pred_proba)\n",
    "auc = metrics.roc_auc_score(y_test,y_pred_proba)\n",
    "plt.figure(figsize = (15,6))\n",
    "plt.title(\"ROC AUC CURVE\")\n",
    "plt.plot(fpr,tpr,label = 'AUC = ' +str(auc))\n",
    "plt.legend(loc = 4)\n",
    "plt.xlabel('FPR---->')\n",
    "plt.ylabel('TPR---->')"
   ]
  },
  {
   "cell_type": "code",
   "execution_count": 53,
   "id": "f6cfb8c0-5028-44db-8a11-46b7abd51341",
   "metadata": {},
   "outputs": [
    {
     "name": "stdout",
     "output_type": "stream",
     "text": [
      "Training Score 0.9571743929359824\n",
      "Testing Score 0.9549668874172186\n"
     ]
    }
   ],
   "source": [
    "# Decision Tree\n",
    "\n",
    "model_dt2 = DecisionTreeClassifier(random_state=1,max_depth=2)\n",
    "\n",
    "model_dt2.fit(x_train,y_train)\n",
    "\n",
    "model_dt2_score_train = model_dt2.score(x_train,y_train)\n",
    "\n",
    "model_dt2_score_test = model_dt2.score(x_test,y_test)\n",
    "\n",
    "print('Training Score',model_dt2_score_train)\n",
    "\n",
    "print('Testing Score',model_dt2_score_test)"
   ]
  },
  {
   "cell_type": "code",
   "execution_count": 55,
   "id": "c99b5d67-b2a4-4ed7-97fe-a60e73c566e3",
   "metadata": {},
   "outputs": [
    {
     "name": "stdout",
     "output_type": "stream",
     "text": [
      "Training Score 0.9589403973509933\n",
      "Testing Score 0.954635761589404\n"
     ]
    }
   ],
   "source": [
    "model_dt4 = DecisionTreeClassifier(random_state=1,max_depth=4)\n",
    "\n",
    "model_dt4.fit(x_train,y_train)\n",
    "\n",
    "model_dt4_score_train = model_dt4.score(x_train,y_train)\n",
    "\n",
    "model_dt4_score_test = model_dt4.score(x_test,y_test)\n",
    "\n",
    "print('Training Score',model_dt4_score_train)\n",
    "\n",
    "print('Testing Score',model_dt4_score_test)"
   ]
  },
  {
   "cell_type": "code",
   "execution_count": 57,
   "id": "74341789-2533-487d-85d2-3264d0fe166a",
   "metadata": {},
   "outputs": [
    {
     "name": "stdout",
     "output_type": "stream",
     "text": [
      "Training Score 0.9598233995584989\n",
      "Testing Score 0.9536423841059603\n"
     ]
    }
   ],
   "source": [
    "model_dt6 = DecisionTreeClassifier(random_state=1,max_depth=6)\n",
    "\n",
    "model_dt6.fit(x_train,y_train)\n",
    "\n",
    "model_dt6_score_train = model_dt6.score(x_train,y_train)\n",
    "\n",
    "model_dt6_score_test = model_dt6.score(x_test,y_test)\n",
    "\n",
    "print('Training Score',model_dt6_score_train)\n",
    "\n",
    "print('Testing Score',model_dt6_score_test)"
   ]
  },
  {
   "cell_type": "code",
   "execution_count": 59,
   "id": "a9942f60-85ff-499a-916c-228930641065",
   "metadata": {},
   "outputs": [
    {
     "name": "stdout",
     "output_type": "stream",
     "text": [
      "Training Score 0.9618101545253863\n",
      "Testing Score 0.9526490066225165\n"
     ]
    }
   ],
   "source": [
    "model_dt8 = DecisionTreeClassifier(random_state=1,max_depth=8)\n",
    "\n",
    "model_dt8.fit(x_train,y_train)\n",
    "\n",
    "model_dt8_score_train = model_dt8.score(x_train,y_train)\n",
    "\n",
    "model_dt8_score_test = model_dt8.score(x_test,y_test)\n",
    "\n",
    "print('Training Score',model_dt8_score_train)\n",
    "\n",
    "print('Testing Score',model_dt8_score_test)"
   ]
  },
  {
   "cell_type": "code",
   "execution_count": 94,
   "id": "807a49ba-556c-4903-8475-e22cd09b2b4d",
   "metadata": {},
   "outputs": [
    {
     "name": "stdout",
     "output_type": "stream",
     "text": [
      "model_dt8_score_train:  0.9613686534216336\n",
      "model_dt8_score_test:  0.954635761589404\n"
     ]
    }
   ],
   "source": [
    "model_dt8 = DecisionTreeClassifier(max_depth = 8, criterion = 'entropy')\n",
    "model_dt8.fit(x_train,y_train)\n",
    "y_pred_dt8 = model_dt8.predict(x_test)\n",
    "y_pred_proba_dt8 = model_dt8.predict_proba(x_test)[:,1]\n",
    "\n",
    "model_dt8_score_train = model_dt8.score(x_train,y_train)\n",
    "model_dt8_score_test = model_dt8.score(x_test,y_test)\n",
    "\n",
    "print('model_dt8_score_train: ',model_dt8_score_train)\n",
    "print('model_dt8_score_test: ',model_dt8_score_test)"
   ]
  },
  {
   "cell_type": "code",
   "execution_count": 96,
   "id": "9b07abf0-0e7a-4e32-b943-d279a7add4b0",
   "metadata": {},
   "outputs": [
    {
     "data": {
      "text/plain": [
       "array([[2869,   19],\n",
       "       [ 118,   14]], dtype=int64)"
      ]
     },
     "execution_count": 96,
     "metadata": {},
     "output_type": "execute_result"
    }
   ],
   "source": [
    "#Confusion Metrics\n",
    "con_matrix_dt = confusion_matrix(y_test,y_pred_dt8)\n",
    "con_matrix_dt"
   ]
  },
  {
   "cell_type": "code",
   "execution_count": 98,
   "id": "8615ae84-b0b5-4e0f-845f-15d68406ed24",
   "metadata": {},
   "outputs": [
    {
     "data": {
      "text/plain": [
       "<Axes: >"
      ]
     },
     "execution_count": 98,
     "metadata": {},
     "output_type": "execute_result"
    },
    {
     "data": {
      "image/png": "[encoded data removed]",
      "text/plain": [
       "<Figure size 640x480 with 2 Axes>"
      ]
     },
     "metadata": {},
     "output_type": "display_data"
    }
   ],
   "source": [
    "sns.heatmap(con_matrix_dt,annot = True)"
   ]
  },
  {
   "cell_type": "code",
   "execution_count": 100,
   "id": "981e381e-5c70-48ef-bf00-7001ad1152c4",
   "metadata": {},
   "outputs": [
    {
     "data": {
      "text/plain": [
       "0.954635761589404"
      ]
     },
     "execution_count": 100,
     "metadata": {},
     "output_type": "execute_result"
    }
   ],
   "source": [
    "accuracy_dt = metrics.accuracy_score(y_test,y_pred_dt8)\n",
    "accuracy_dt"
   ]
  },
  {
   "cell_type": "code",
   "execution_count": 102,
   "id": "92624b30-01ec-434c-8031-4e0f945a45d0",
   "metadata": {},
   "outputs": [
    {
     "data": {
      "text/plain": [
       "0.42424242424242425"
      ]
     },
     "execution_count": 102,
     "metadata": {},
     "output_type": "execute_result"
    }
   ],
   "source": [
    "precision_dt = metrics.precision_score(y_test,y_pred_dt8)\n",
    "precision_dt"
   ]
  },
  {
   "cell_type": "code",
   "execution_count": 104,
   "id": "2a32ac61-4bd7-4c40-9fba-f75cca61e872",
   "metadata": {},
   "outputs": [
    {
     "data": {
      "text/plain": [
       "0.10606060606060606"
      ]
     },
     "execution_count": 104,
     "metadata": {},
     "output_type": "execute_result"
    }
   ],
   "source": [
    "recall_dt = metrics.recall_score(y_test,y_pred_dt8)\n",
    "recall_dt"
   ]
  },
  {
   "cell_type": "code",
   "execution_count": null,
   "id": "6a62ba8b-1610-4e3a-aa73-e16b85d1caf6",
   "metadata": {},
   "outputs": [],
   "source": []
  },
  {
   "cell_type": "code",
   "execution_count": 107,
   "id": "08255e87-9d9a-445d-aeef-b82bb27a74a6",
   "metadata": {},
   "outputs": [
    {
     "data": {
      "image/png": "[encoded data removed]",
      "text/plain": [
       "<Figure size 1500x600 with 1 Axes>"
      ]
     },
     "metadata": {},
     "output_type": "display_data"
    }
   ],
   "source": [
    "fpr,tpr,_ = metrics.roc_curve(y_test,y_pred_proba_dt8)\n",
    "auc = metrics.roc_auc_score(y_test,y_pred_proba_dt8)\n",
    "plt.figure(figsize = (15,6))\n",
    "plt.plot(fpr,tpr,label = 'auc='+str(auc))\n",
    "plt.legend(loc=4)\n",
    "plt.title('ROC AUC CURVE')\n",
    "plt.xlabel('FPR---->')\n",
    "plt.ylabel('TPR---->')\n",
    "plt.show()"
   ]
  },
  {
   "cell_type": "code",
   "execution_count": null,
   "id": "c1d663f4-f7f0-4c18-ad04-8517cf3c55b4",
   "metadata": {},
   "outputs": [],
   "source": []
  },
  {
   "cell_type": "code",
   "execution_count": null,
   "id": "1b44eac9-b61c-43b3-a4c6-009fd319e961",
   "metadata": {},
   "outputs": [],
   "source": []
  }
 ],
 "metadata": {
  "kernelspec": {
   "display_name": "Python 3 (ipykernel)",
   "language": "python",
   "name": "python3"
  },
  "language_info": {
   "codemirror_mode": {
    "name": "ipython",
    "version": 3
   },
   "file_extension": ".py",
   "mimetype": "text/x-python",
   "name": "python",
   "nbconvert_exporter": "python",
   "pygments_lexer": "ipython3",
   "version": "3.11.7"
  }
 },
 "nbformat": 4,
 "nbformat_minor": 5
}
