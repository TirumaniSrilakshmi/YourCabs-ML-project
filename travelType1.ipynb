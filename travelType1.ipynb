{
 "cells": [
  {
   "cell_type": "code",
   "execution_count": 7,
   "id": "982ccb2d-4689-4eca-b14f-2ab7d968b2cb",
   "metadata": {},
   "outputs": [],
   "source": [
    "import pandas as pd\n",
    "import time\n",
    "import random\n",
    "from sklearn import metrics\n",
    "from sklearn.preprocessing import StandardScaler\n",
    "from sklearn.model_selection import KFold, cross_val_score\n",
    "from sklearn.model_selection import train_test_split, GridSearchCV\n",
    "import numpy as np\n",
    "import matplotlib.pyplot as plt\n",
    "import seaborn as sns\n",
    "from sklearn.metrics import confusion_matrix\n",
    "from sklearn.metrics import accuracy_score\n",
    "from sklearn.metrics import roc_curve, auc\n",
    "from sklearn.metrics import classification_report,recall_score,precision_score,roc_auc_score\n",
    "from sklearn.linear_model import LogisticRegression #LogisticRegression\n",
    "from sklearn.tree import DecisionTreeClassifier #DecisionTreeRegresor\n",
    "from sklearn.ensemble import RandomForestClassifier  # RandomForestRegressor\n",
    "from sklearn.ensemble import AdaBoostClassifier #Adaptive Boost\n",
    "from sklearn.neighbors import KNeighborsClassifier #KNN\n",
    "from sklearn.ensemble import GradientBoostingClassifier #Gradient Boost \n",
    "from sklearn.svm import SVC #SVC\n",
    "from sklearn.naive_bayes import GaussianNB #NaiveBayes\n",
    "from IPython.display import Image  \n",
    "from sklearn.tree import export_graphviz\n",
    "from io import StringIO\n",
    "import warnings\n",
    "warnings.filterwarnings('ignore')"
   ]
  },
  {
   "cell_type": "code",
   "execution_count": 8,
   "id": "772a7460-26bd-4029-bab5-0a1c65efedb1",
   "metadata": {},
   "outputs": [],
   "source": [
    "data = pd.read_csv(r\"C:\\Users\\kisho\\DataScience\\Machine Learning\\Practice\\cat1.csv\")"
   ]
  },
  {
   "cell_type": "code",
   "execution_count": 9,
   "id": "9a11c5fa-c00e-4310-a703-77c204a72a98",
   "metadata": {},
   "outputs": [
    {
     "data": {
      "text/html": [
       "<div>\n",
       "<style scoped>\n",
       "    .dataframe tbody tr th:only-of-type {\n",
       "        vertical-align: middle;\n",
       "    }\n",
       "\n",
       "    .dataframe tbody tr th {\n",
       "        vertical-align: top;\n",
       "    }\n",
       "\n",
       "    .dataframe thead th {\n",
       "        text-align: right;\n",
       "    }\n",
       "</style>\n",
       "<table border=\"1\" class=\"dataframe\">\n",
       "  <thead>\n",
       "    <tr style=\"text-align: right;\">\n",
       "      <th></th>\n",
       "      <th>Unnamed: 0</th>\n",
       "      <th>from_city_id</th>\n",
       "      <th>online_booking</th>\n",
       "      <th>mobile_site_booking</th>\n",
       "      <th>Car_Cancellation</th>\n",
       "      <th>from_datee</th>\n",
       "      <th>booking_month</th>\n",
       "      <th>weekend</th>\n",
       "      <th>timeOfDay</th>\n",
       "      <th>timeDifference</th>\n",
       "      <th>cancel_zone</th>\n",
       "    </tr>\n",
       "  </thead>\n",
       "  <tbody>\n",
       "    <tr>\n",
       "      <th>0</th>\n",
       "      <td>6</td>\n",
       "      <td>15.0</td>\n",
       "      <td>0</td>\n",
       "      <td>0</td>\n",
       "      <td>0</td>\n",
       "      <td>1</td>\n",
       "      <td>1</td>\n",
       "      <td>0</td>\n",
       "      <td>2</td>\n",
       "      <td>0</td>\n",
       "      <td>1</td>\n",
       "    </tr>\n",
       "    <tr>\n",
       "      <th>1</th>\n",
       "      <td>17</td>\n",
       "      <td>15.0</td>\n",
       "      <td>1</td>\n",
       "      <td>0</td>\n",
       "      <td>0</td>\n",
       "      <td>12</td>\n",
       "      <td>1</td>\n",
       "      <td>1</td>\n",
       "      <td>1</td>\n",
       "      <td>-4</td>\n",
       "      <td>0</td>\n",
       "    </tr>\n",
       "    <tr>\n",
       "      <th>2</th>\n",
       "      <td>24</td>\n",
       "      <td>15.0</td>\n",
       "      <td>0</td>\n",
       "      <td>0</td>\n",
       "      <td>0</td>\n",
       "      <td>5</td>\n",
       "      <td>1</td>\n",
       "      <td>1</td>\n",
       "      <td>1</td>\n",
       "      <td>-6</td>\n",
       "      <td>0</td>\n",
       "    </tr>\n",
       "    <tr>\n",
       "      <th>3</th>\n",
       "      <td>158</td>\n",
       "      <td>1.0</td>\n",
       "      <td>1</td>\n",
       "      <td>0</td>\n",
       "      <td>0</td>\n",
       "      <td>4</td>\n",
       "      <td>1</td>\n",
       "      <td>0</td>\n",
       "      <td>2</td>\n",
       "      <td>-3</td>\n",
       "      <td>0</td>\n",
       "    </tr>\n",
       "    <tr>\n",
       "      <th>4</th>\n",
       "      <td>216</td>\n",
       "      <td>15.0</td>\n",
       "      <td>1</td>\n",
       "      <td>0</td>\n",
       "      <td>0</td>\n",
       "      <td>6</td>\n",
       "      <td>1</td>\n",
       "      <td>1</td>\n",
       "      <td>1</td>\n",
       "      <td>-2</td>\n",
       "      <td>0</td>\n",
       "    </tr>\n",
       "  </tbody>\n",
       "</table>\n",
       "</div>"
      ],
      "text/plain": [
       "   Unnamed: 0  from_city_id  online_booking  mobile_site_booking  \\\n",
       "0           6          15.0               0                    0   \n",
       "1          17          15.0               1                    0   \n",
       "2          24          15.0               0                    0   \n",
       "3         158           1.0               1                    0   \n",
       "4         216          15.0               1                    0   \n",
       "\n",
       "   Car_Cancellation  from_datee  booking_month  weekend  timeOfDay  \\\n",
       "0                 0           1              1        0          2   \n",
       "1                 0          12              1        1          1   \n",
       "2                 0           5              1        1          1   \n",
       "3                 0           4              1        0          2   \n",
       "4                 0           6              1        1          1   \n",
       "\n",
       "   timeDifference  cancel_zone  \n",
       "0               0            1  \n",
       "1              -4            0  \n",
       "2              -6            0  \n",
       "3              -3            0  \n",
       "4              -2            0  "
      ]
     },
     "execution_count": 9,
     "metadata": {},
     "output_type": "execute_result"
    }
   ],
   "source": [
    "data.head()"
   ]
  },
  {
   "cell_type": "code",
   "execution_count": 10,
   "id": "3cf915f3-0589-45fb-a814-e454dc123254",
   "metadata": {},
   "outputs": [
    {
     "data": {
      "text/html": [
       "<div>\n",
       "<style scoped>\n",
       "    .dataframe tbody tr th:only-of-type {\n",
       "        vertical-align: middle;\n",
       "    }\n",
       "\n",
       "    .dataframe tbody tr th {\n",
       "        vertical-align: top;\n",
       "    }\n",
       "\n",
       "    .dataframe thead th {\n",
       "        text-align: right;\n",
       "    }\n",
       "</style>\n",
       "<table border=\"1\" class=\"dataframe\">\n",
       "  <thead>\n",
       "    <tr style=\"text-align: right;\">\n",
       "      <th></th>\n",
       "      <th>from_city_id</th>\n",
       "      <th>online_booking</th>\n",
       "      <th>mobile_site_booking</th>\n",
       "      <th>Car_Cancellation</th>\n",
       "      <th>from_datee</th>\n",
       "      <th>booking_month</th>\n",
       "      <th>weekend</th>\n",
       "      <th>timeOfDay</th>\n",
       "      <th>timeDifference</th>\n",
       "      <th>cancel_zone</th>\n",
       "    </tr>\n",
       "  </thead>\n",
       "  <tbody>\n",
       "    <tr>\n",
       "      <th>0</th>\n",
       "      <td>15.0</td>\n",
       "      <td>0</td>\n",
       "      <td>0</td>\n",
       "      <td>0</td>\n",
       "      <td>1</td>\n",
       "      <td>1</td>\n",
       "      <td>0</td>\n",
       "      <td>2</td>\n",
       "      <td>0</td>\n",
       "      <td>1</td>\n",
       "    </tr>\n",
       "    <tr>\n",
       "      <th>1</th>\n",
       "      <td>15.0</td>\n",
       "      <td>1</td>\n",
       "      <td>0</td>\n",
       "      <td>0</td>\n",
       "      <td>12</td>\n",
       "      <td>1</td>\n",
       "      <td>1</td>\n",
       "      <td>1</td>\n",
       "      <td>-4</td>\n",
       "      <td>0</td>\n",
       "    </tr>\n",
       "    <tr>\n",
       "      <th>2</th>\n",
       "      <td>15.0</td>\n",
       "      <td>0</td>\n",
       "      <td>0</td>\n",
       "      <td>0</td>\n",
       "      <td>5</td>\n",
       "      <td>1</td>\n",
       "      <td>1</td>\n",
       "      <td>1</td>\n",
       "      <td>-6</td>\n",
       "      <td>0</td>\n",
       "    </tr>\n",
       "  </tbody>\n",
       "</table>\n",
       "</div>"
      ],
      "text/plain": [
       "   from_city_id  online_booking  mobile_site_booking  Car_Cancellation  \\\n",
       "0          15.0               0                    0                 0   \n",
       "1          15.0               1                    0                 0   \n",
       "2          15.0               0                    0                 0   \n",
       "\n",
       "   from_datee  booking_month  weekend  timeOfDay  timeDifference  cancel_zone  \n",
       "0           1              1        0          2               0            1  \n",
       "1          12              1        1          1              -4            0  \n",
       "2           5              1        1          1              -6            0  "
      ]
     },
     "execution_count": 10,
     "metadata": {},
     "output_type": "execute_result"
    }
   ],
   "source": [
    "data = data.drop('Unnamed: 0',axis=1)\n",
    "data.head(3)"
   ]
  },
  {
   "cell_type": "code",
   "execution_count": 11,
   "id": "b979cf09-cf45-476e-874f-43634ef67a01",
   "metadata": {},
   "outputs": [
    {
     "data": {
      "text/plain": [
       "(1589, 10)"
      ]
     },
     "execution_count": 11,
     "metadata": {},
     "output_type": "execute_result"
    }
   ],
   "source": [
    "data.shape"
   ]
  },
  {
   "cell_type": "code",
   "execution_count": 12,
   "id": "907df47b-0bd9-4cdf-abd4-99fed17b988c",
   "metadata": {},
   "outputs": [
    {
     "data": {
      "text/plain": [
       "Index(['from_city_id', 'online_booking', 'mobile_site_booking',\n",
       "       'Car_Cancellation', 'from_datee', 'booking_month', 'weekend',\n",
       "       'timeOfDay', 'timeDifference', 'cancel_zone'],\n",
       "      dtype='object')"
      ]
     },
     "execution_count": 12,
     "metadata": {},
     "output_type": "execute_result"
    }
   ],
   "source": [
    "data.columns"
   ]
  },
  {
   "cell_type": "code",
   "execution_count": 13,
   "id": "bc70c913-98ca-42d7-93cc-48f18fc5cb04",
   "metadata": {},
   "outputs": [],
   "source": [
    "names =['from_city_id', 'online_booking', 'mobile_site_booking',\n",
    "       'Car_Cancellation', 'from_datee', 'booking_month', 'weekend',\n",
    "       'timeOfDay', 'timeDifference', 'cancel_zone'],\n",
    "\n",
    "dx = ['Cancel', 'notCancel']"
   ]
  },
  {
   "cell_type": "code",
   "execution_count": 14,
   "id": "548b03ba-1a22-4e16-aa9b-02c1fcc06ce2",
   "metadata": {},
   "outputs": [
    {
     "data": {
      "text/plain": [
       "array([[ 15.,   0.,   0., ...,   2.,   0.,   1.],\n",
       "       [ 15.,   1.,   0., ...,   1.,  -4.,   0.],\n",
       "       [ 15.,   0.,   0., ...,   1.,  -6.,   0.],\n",
       "       ...,\n",
       "       [ 15.,   1.,   0., ...,   1., -16.,   0.],\n",
       "       [ 15.,   0.,   0., ...,   2.,   3.,   1.],\n",
       "       [ 15.,   0.,   0., ...,   3.,   4.,   0.]])"
      ]
     },
     "execution_count": 14,
     "metadata": {},
     "output_type": "execute_result"
    }
   ],
   "source": [
    "X = data.loc[:,data.columns!='Car_Cancellation'].values\n",
    "X"
   ]
  },
  {
   "cell_type": "code",
   "execution_count": 15,
   "id": "425b3b3a-2168-4271-8542-6354cfb31ee2",
   "metadata": {},
   "outputs": [
    {
     "data": {
      "text/plain": [
       "array([0, 0, 0, ..., 0, 0, 0], dtype=int64)"
      ]
     },
     "execution_count": 15,
     "metadata": {},
     "output_type": "execute_result"
    }
   ],
   "source": [
    "y = data.Car_Cancellation.values\n",
    "y"
   ]
  },
  {
   "cell_type": "code",
   "execution_count": 16,
   "id": "e7363373-4b4b-47ee-9b97-f1d48695404a",
   "metadata": {},
   "outputs": [
    {
     "name": "stdout",
     "output_type": "stream",
     "text": [
      "Shape of features set X:  (1589, 9)\n",
      "Shape of target Y:  (1589,)\n"
     ]
    }
   ],
   "source": [
    "print(\"Shape of features set X: \",X.shape)\n",
    "print(\"Shape of target Y: \",y.shape)"
   ]
  },
  {
   "cell_type": "code",
   "execution_count": 17,
   "id": "692039a0-1ab7-497d-aeb7-d72cf93c3ad3",
   "metadata": {},
   "outputs": [],
   "source": [
    "x_train,x_test,y_train,y_test = train_test_split(X,y,test_size=0.4,random_state=42)"
   ]
  },
  {
   "cell_type": "code",
   "execution_count": 18,
   "id": "de6505d3-518e-438a-9d15-1a049b28243a",
   "metadata": {},
   "outputs": [
    {
     "name": "stdout",
     "output_type": "stream",
     "text": [
      "Data of training features:  (953, 9)\n",
      "Data of testing features:  (636, 9)\n",
      "\n",
      "\n",
      "Data of training target:  (953,)\n",
      "Data of testing target:  (636,)\n"
     ]
    }
   ],
   "source": [
    "print(\"Data of training features: \",x_train.shape)\n",
    "print(\"Data of testing features: \",x_test.shape)\n",
    "print(\"\\n\")\n",
    "print(\"Data of training target: \",y_train.shape)\n",
    "print(\"Data of testing target: \",y_test.shape)"
   ]
  },
  {
   "cell_type": "code",
   "execution_count": 19,
   "id": "93c84b6b-0d16-44e0-aaa7-781c2165c418",
   "metadata": {},
   "outputs": [],
   "source": [
    "std_scaler = StandardScaler()\n",
    "x_train = std_scaler.fit_transform(x_train)\n",
    "x_test = std_scaler.fit_transform(x_test)"
   ]
  },
  {
   "cell_type": "code",
   "execution_count": 20,
   "id": "52e8bdba-59d8-454a-8165-462f6917b979",
   "metadata": {},
   "outputs": [
    {
     "data": {
      "text/plain": [
       "array([[ 0.23792135, -0.8559949 , -0.14262753, ..., -0.64358516,\n",
       "         0.32403891, -0.78483716],\n",
       "       [ 0.23792135,  1.16823126, -0.14262753, ...,  0.57456113,\n",
       "         0.05362816, -0.78483716],\n",
       "       [ 0.23792135, -0.8559949 , -0.14262753, ...,  1.79270743,\n",
       "         1.27047656, -0.78483716],\n",
       "       ...,\n",
       "       [ 0.23792135, -0.8559949 , -0.14262753, ..., -0.64358516,\n",
       "        -0.2167826 , -0.78483716],\n",
       "       [ 0.23792135, -0.8559949 , -0.14262753, ..., -0.03451201,\n",
       "        -0.62239874, -0.78483716],\n",
       "       [ 0.23792135, -0.8559949 , -0.14262753, ..., -0.64358516,\n",
       "        -0.48719336, -0.78483716]])"
      ]
     },
     "execution_count": 20,
     "metadata": {},
     "output_type": "execute_result"
    }
   ],
   "source": [
    "x_train"
   ]
  },
  {
   "cell_type": "code",
   "execution_count": 21,
   "id": "5b231805-0f5d-4f28-aa83-60e59b6522bb",
   "metadata": {},
   "outputs": [
    {
     "data": {
      "text/plain": [
       "array([[ 0.24251592, -0.87559504, -0.13266499, ..., -0.6764421 ,\n",
       "        -0.55584048, -0.77395236],\n",
       "       [ 0.24251592, -0.87559504, -0.13266499, ..., -0.6764421 ,\n",
       "        -1.22284905,  1.22699765],\n",
       "       [ 4.48279419, -0.87559504,  7.53778361, ..., -0.6764421 ,\n",
       "        -0.02223362, -0.77395236],\n",
       "       ...,\n",
       "       [ 0.24251592, -0.87559504, -0.13266499, ..., -0.10661803,\n",
       "         1.17838181, -0.77395236],\n",
       "       [ 0.24251592, -0.87559504, -0.13266499, ..., -0.6764421 ,\n",
       "        -0.28903705, -0.77395236],\n",
       "       [ 0.24251592,  1.14208048, -0.13266499, ..., -0.6764421 ,\n",
       "        -1.08944733, -0.77395236]])"
      ]
     },
     "execution_count": 21,
     "metadata": {},
     "output_type": "execute_result"
    }
   ],
   "source": [
    "x_test"
   ]
  },
  {
   "cell_type": "code",
   "execution_count": 22,
   "id": "d78a8e16-538e-4394-a5e2-b73257152112",
   "metadata": {},
   "outputs": [
    {
     "data": {
      "text/html": [
       "<style>#sk-container-id-1 {color: black;background-color: white;}#sk-container-id-1 pre{padding: 0;}#sk-container-id-1 div.sk-toggleable {background-color: white;}#sk-container-id-1 label.sk-toggleable__label {cursor: pointer;display: block;width: 100%;margin-bottom: 0;padding: 0.3em;box-sizing: border-box;text-align: center;}#sk-container-id-1 label.sk-toggleable__label-arrow:before {content: \"▸\";float: left;margin-right: 0.25em;color: #696969;}#sk-container-id-1 label.sk-toggleable__label-arrow:hover:before {color: black;}#sk-container-id-1 div.sk-estimator:hover label.sk-toggleable__label-arrow:before {color: black;}#sk-container-id-1 div.sk-toggleable__content {max-height: 0;max-width: 0;overflow: hidden;text-align: left;background-color: #f0f8ff;}#sk-container-id-1 div.sk-toggleable__content pre {margin: 0.2em;color: black;border-radius: 0.25em;background-color: #f0f8ff;}#sk-container-id-1 input.sk-toggleable__control:checked~div.sk-toggleable__content {max-height: 200px;max-width: 100%;overflow: auto;}#sk-container-id-1 input.sk-toggleable__control:checked~label.sk-toggleable__label-arrow:before {content: \"▾\";}#sk-container-id-1 div.sk-estimator input.sk-toggleable__control:checked~label.sk-toggleable__label {background-color: #d4ebff;}#sk-container-id-1 div.sk-label input.sk-toggleable__control:checked~label.sk-toggleable__label {background-color: #d4ebff;}#sk-container-id-1 input.sk-hidden--visually {border: 0;clip: rect(1px 1px 1px 1px);clip: rect(1px, 1px, 1px, 1px);height: 1px;margin: -1px;overflow: hidden;padding: 0;position: absolute;width: 1px;}#sk-container-id-1 div.sk-estimator {font-family: monospace;background-color: #f0f8ff;border: 1px dotted black;border-radius: 0.25em;box-sizing: border-box;margin-bottom: 0.5em;}#sk-container-id-1 div.sk-estimator:hover {background-color: #d4ebff;}#sk-container-id-1 div.sk-parallel-item::after {content: \"\";width: 100%;border-bottom: 1px solid gray;flex-grow: 1;}#sk-container-id-1 div.sk-label:hover label.sk-toggleable__label {background-color: #d4ebff;}#sk-container-id-1 div.sk-serial::before {content: \"\";position: absolute;border-left: 1px solid gray;box-sizing: border-box;top: 0;bottom: 0;left: 50%;z-index: 0;}#sk-container-id-1 div.sk-serial {display: flex;flex-direction: column;align-items: center;background-color: white;padding-right: 0.2em;padding-left: 0.2em;position: relative;}#sk-container-id-1 div.sk-item {position: relative;z-index: 1;}#sk-container-id-1 div.sk-parallel {display: flex;align-items: stretch;justify-content: center;background-color: white;position: relative;}#sk-container-id-1 div.sk-item::before, #sk-container-id-1 div.sk-parallel-item::before {content: \"\";position: absolute;border-left: 1px solid gray;box-sizing: border-box;top: 0;bottom: 0;left: 50%;z-index: -1;}#sk-container-id-1 div.sk-parallel-item {display: flex;flex-direction: column;z-index: 1;position: relative;background-color: white;}#sk-container-id-1 div.sk-parallel-item:first-child::after {align-self: flex-end;width: 50%;}#sk-container-id-1 div.sk-parallel-item:last-child::after {align-self: flex-start;width: 50%;}#sk-container-id-1 div.sk-parallel-item:only-child::after {width: 0;}#sk-container-id-1 div.sk-dashed-wrapped {border: 1px dashed gray;margin: 0 0.4em 0.5em 0.4em;box-sizing: border-box;padding-bottom: 0.4em;background-color: white;}#sk-container-id-1 div.sk-label label {font-family: monospace;font-weight: bold;display: inline-block;line-height: 1.2em;}#sk-container-id-1 div.sk-label-container {text-align: center;}#sk-container-id-1 div.sk-container {/* jupyter's `normalize.less` sets `[hidden] { display: none; }` but bootstrap.min.css set `[hidden] { display: none !important; }` so we also need the `!important` here to be able to override the default hidden behavior on the sphinx rendered scikit-learn.org. See: https://github.com/scikit-learn/scikit-learn/issues/21755 */display: inline-block !important;position: relative;}#sk-container-id-1 div.sk-text-repr-fallback {display: none;}</style><div id=\"sk-container-id-1\" class=\"sk-top-container\"><div class=\"sk-text-repr-fallback\"><pre>LogisticRegression(random_state=0)</pre><b>In a Jupyter environment, please rerun this cell to show the HTML representation or trust the notebook. <br />On GitHub, the HTML representation is unable to render, please try loading this page with nbviewer.org.</b></div><div class=\"sk-container\" hidden><div class=\"sk-item\"><div class=\"sk-estimator sk-toggleable\"><input class=\"sk-toggleable__control sk-hidden--visually\" id=\"sk-estimator-id-1\" type=\"checkbox\" checked><label for=\"sk-estimator-id-1\" class=\"sk-toggleable__label sk-toggleable__label-arrow\">LogisticRegression</label><div class=\"sk-toggleable__content\"><pre>LogisticRegression(random_state=0)</pre></div></div></div></div></div>"
      ],
      "text/plain": [
       "LogisticRegression(random_state=0)"
      ]
     },
     "execution_count": 22,
     "metadata": {},
     "output_type": "execute_result"
    }
   ],
   "source": [
    "#Model 1 - Logistic Regression\n",
    "model_logreg = LogisticRegression(random_state=0)\n",
    "model_logreg.fit(x_train,y_train)"
   ]
  },
  {
   "cell_type": "code",
   "execution_count": 23,
   "id": "0104d996-7d3a-4431-ace1-53c3187c3ab9",
   "metadata": {},
   "outputs": [
    {
     "data": {
      "text/plain": [
       "array([0, 0, 0, 0, 0, 0, 0, 0, 0, 0, 0, 0, 0, 0, 0, 0, 0, 0, 0, 0, 0, 0,\n",
       "       0, 0, 0, 0, 0, 0, 0, 0, 0, 0, 0, 0, 0, 0, 0, 0, 0, 0, 0, 0, 0, 0,\n",
       "       0, 0, 0, 0, 0, 0, 0, 0, 0, 0, 0, 0, 0, 0, 0, 0, 0, 0, 0, 0, 0, 0,\n",
       "       0, 0, 0, 0, 0, 0, 0, 0, 0, 0, 0, 0, 0, 0, 0, 0, 0, 0, 0, 0, 0, 0,\n",
       "       0, 0, 0, 0, 0, 0, 0, 0, 0, 0, 0, 0, 0, 0, 0, 0, 0, 0, 0, 0, 0, 0,\n",
       "       0, 0, 0, 0, 0, 0, 0, 0, 0, 0, 0, 0, 0, 0, 0, 1, 0, 0, 0, 0, 0, 0,\n",
       "       0, 0, 0, 0, 0, 0, 0, 0, 0, 0, 0, 0, 0, 0, 0, 0, 0, 0], dtype=int64)"
      ]
     },
     "execution_count": 23,
     "metadata": {},
     "output_type": "execute_result"
    }
   ],
   "source": [
    "y_pred = model_logreg.predict(x_test)\n",
    "y_pred[0:150]"
   ]
  },
  {
   "cell_type": "code",
   "execution_count": 24,
   "id": "d966e999-2dab-4c91-8800-d87952300850",
   "metadata": {},
   "outputs": [
    {
     "data": {
      "text/plain": [
       "array([0, 0, 0, 0, 0, 0, 0, 0, 0, 0, 0, 0, 0, 0, 0, 0, 0, 0, 0, 0, 0, 0,\n",
       "       0, 0, 0, 0, 0, 0, 0, 0, 0, 0, 0, 0, 0, 0, 0, 0, 0, 0, 0, 0, 0, 0,\n",
       "       0, 0, 0, 0, 0, 0, 0, 0, 0, 0, 0, 0, 0, 0, 0, 0, 0, 0, 0, 0, 0, 0,\n",
       "       0, 0, 0, 0, 0, 0, 0, 0, 0, 0, 0, 0, 0, 0, 0, 0, 0, 0, 0, 0, 0, 0,\n",
       "       0, 0, 0, 0, 0, 0, 0, 0, 0, 0, 0, 0, 0, 0, 0, 0, 0, 0, 0, 0, 0, 0,\n",
       "       0, 0, 0, 0, 0, 0, 0, 0, 0, 0, 0, 0, 0, 0, 0, 1, 0, 0, 0, 0, 0, 0,\n",
       "       0, 0, 0, 0, 0, 0, 0, 0, 0, 0, 0, 0, 0, 0, 0, 0, 0, 0], dtype=int64)"
      ]
     },
     "execution_count": 24,
     "metadata": {},
     "output_type": "execute_result"
    }
   ],
   "source": [
    "y_test[0:150]"
   ]
  },
  {
   "cell_type": "code",
   "execution_count": 25,
   "id": "7f075d53-7420-4ec2-90f1-0ccba7eedfab",
   "metadata": {},
   "outputs": [
    {
     "data": {
      "text/plain": [
       "array([[629,   0],\n",
       "       [  5,   2]], dtype=int64)"
      ]
     },
     "execution_count": 25,
     "metadata": {},
     "output_type": "execute_result"
    }
   ],
   "source": [
    "conf_matrix_logreg = confusion_matrix(y_test,y_pred)\n",
    "conf_matrix_logreg"
   ]
  },
  {
   "cell_type": "code",
   "execution_count": 26,
   "id": "79fa09c1-5438-4daf-8178-cee6117c3817",
   "metadata": {},
   "outputs": [
    {
     "data": {
      "text/plain": [
       "<Axes: >"
      ]
     },
     "execution_count": 26,
     "metadata": {},
     "output_type": "execute_result"
    },
    {
     "data": {
      "image/png": "[encoded data removed]",
      "text/plain": [
       "<Figure size 640x480 with 2 Axes>"
      ]
     },
     "metadata": {},
     "output_type": "display_data"
    }
   ],
   "source": [
    "sns.heatmap(conf_matrix_logreg,annot=True)"
   ]
  },
  {
   "cell_type": "code",
   "execution_count": 27,
   "id": "aab10b5f-bd48-4b12-a579-52706da9b017",
   "metadata": {},
   "outputs": [
    {
     "data": {
      "text/plain": [
       "0.9921383647798742"
      ]
     },
     "execution_count": 27,
     "metadata": {},
     "output_type": "execute_result"
    }
   ],
   "source": [
    "accuracy_logreg = metrics.accuracy_score(y_test,y_pred)\n",
    "accuracy_logreg"
   ]
  },
  {
   "cell_type": "code",
   "execution_count": 28,
   "id": "77041b32-5562-4148-bc01-995e6a7ad0de",
   "metadata": {},
   "outputs": [
    {
     "data": {
      "text/plain": [
       "1.0"
      ]
     },
     "execution_count": 28,
     "metadata": {},
     "output_type": "execute_result"
    }
   ],
   "source": [
    "precision_logreg = metrics.precision_score(y_test,y_pred)\n",
    "precision_logreg"
   ]
  },
  {
   "cell_type": "code",
   "execution_count": 29,
   "id": "8409bcab-fed3-4901-9913-1493b20fb46e",
   "metadata": {},
   "outputs": [
    {
     "data": {
      "text/plain": [
       "0.2857142857142857"
      ]
     },
     "execution_count": 29,
     "metadata": {},
     "output_type": "execute_result"
    }
   ],
   "source": [
    "recall_logreg = metrics.recall_score(y_test,y_pred)\n",
    "recall_logreg"
   ]
  },
  {
   "cell_type": "code",
   "execution_count": 30,
   "id": "f80089f4-3651-4636-adb0-9f55747c8cd4",
   "metadata": {},
   "outputs": [
    {
     "data": {
      "text/plain": [
       "0.9266409266409267"
      ]
     },
     "execution_count": 30,
     "metadata": {},
     "output_type": "execute_result"
    }
   ],
   "source": [
    "y_pred_proba = model_logreg.predict_proba(x_test)[::,1]\n",
    "auc_logreg = metrics.roc_auc_score(y_test,y_pred_proba)\n",
    "auc_logreg"
   ]
  },
  {
   "cell_type": "code",
   "execution_count": 31,
   "id": "1ccdd53f-3f61-4e6f-a9bc-107646111be8",
   "metadata": {},
   "outputs": [
    {
     "data": {
      "image/png": "[encoded data removed]",
      "text/plain": [
       "<Figure size 1200x1000 with 1 Axes>"
      ]
     },
     "metadata": {},
     "output_type": "display_data"
    }
   ],
   "source": [
    "y_pred_proba = model_logreg.predict_proba(x_test)[::,1]\n",
    "fpr, tpr, _ = metrics.roc_curve(y_test,  y_pred_proba)\n",
    "auc = metrics.roc_auc_score(y_test, y_pred_proba)\n",
    "plt.figure(figsize=(12,10))\n",
    "plt.plot(fpr,tpr,label=\"auc=\"+str(auc))\n",
    "plt.legend(loc=4)\n",
    "plt.title(\"Receiver Operating Characteristic Curve (ROC)\")\n",
    "plt.xlabel(\"FPR ---->\")\n",
    "plt.ylabel(\"TPR ---->\")\n",
    "plt.show()"
   ]
  },
  {
   "cell_type": "code",
   "execution_count": 32,
   "id": "feb72a43-7bfb-4457-a04f-57fc686d92ea",
   "metadata": {},
   "outputs": [
    {
     "name": "stdout",
     "output_type": "stream",
     "text": [
      "Training Score 0.9863588667366212\n",
      "Testing Score 0.9874213836477987\n"
     ]
    }
   ],
   "source": [
    "model_dt2 = DecisionTreeClassifier(random_state=1,max_depth=2)\n",
    "\n",
    "model_dt2.fit(x_train,y_train)\n",
    "\n",
    "model_dt2_score_train = model_dt2.score(x_train,y_train)\n",
    "\n",
    "model_dt2_score_test = model_dt2.score(x_test,y_test)\n",
    "\n",
    "print('Training Score',model_dt2_score_train)\n",
    "\n",
    "print('Testing Score',model_dt2_score_test)"
   ]
  },
  {
   "cell_type": "code",
   "execution_count": 33,
   "id": "dc3ac8d5-5cd5-436d-8ebc-28be4b8d281a",
   "metadata": {},
   "outputs": [
    {
     "name": "stdout",
     "output_type": "stream",
     "text": [
      "Training Score 0.9884575026232949\n",
      "Testing Score 0.9827044025157232\n"
     ]
    }
   ],
   "source": [
    "model_dt4 = DecisionTreeClassifier(random_state=1,max_depth=4)\n",
    "\n",
    "model_dt4.fit(x_train,y_train)\n",
    "\n",
    "model_dt4_score_train = model_dt4.score(x_train,y_train)\n",
    "\n",
    "model_dt4_score_test = model_dt4.score(x_test,y_test)\n",
    "\n",
    "print('Training Score',model_dt4_score_train)\n",
    "\n",
    "print('Testing Score',model_dt4_score_test)"
   ]
  },
  {
   "cell_type": "code",
   "execution_count": 34,
   "id": "96fff69c-03f8-408f-81cf-dde4bb572858",
   "metadata": {},
   "outputs": [
    {
     "name": "stdout",
     "output_type": "stream",
     "text": [
      "Training Score 0.9958027282266527\n",
      "Testing Score 0.9858490566037735\n"
     ]
    }
   ],
   "source": [
    "model_dt6 = DecisionTreeClassifier(random_state=1,max_depth=6)\n",
    "\n",
    "model_dt6.fit(x_train,y_train)\n",
    "\n",
    "model_dt6_score_train = model_dt6.score(x_train,y_train)\n",
    "\n",
    "model_dt6_score_test = model_dt6.score(x_test,y_test)\n",
    "\n",
    "print('Training Score',model_dt6_score_train)\n",
    "\n",
    "print('Testing Score',model_dt6_score_test)"
   ]
  },
  {
   "cell_type": "code",
   "execution_count": 35,
   "id": "bc5b759f-c295-475f-83ab-258c00c3c10c",
   "metadata": {},
   "outputs": [
    {
     "name": "stdout",
     "output_type": "stream",
     "text": [
      "Training Score 0.9989506820566632\n",
      "Testing Score 0.9842767295597484\n"
     ]
    }
   ],
   "source": [
    "model_dt8 = DecisionTreeClassifier(random_state=1,max_depth=8)\n",
    "\n",
    "model_dt8.fit(x_train,y_train)\n",
    "\n",
    "model_dt8_score_train = model_dt8.score(x_train,y_train)\n",
    "\n",
    "model_dt8_score_test = model_dt8.score(x_test,y_test)\n",
    "\n",
    "print('Training Score',model_dt8_score_train)\n",
    "\n",
    "print('Testing Score',model_dt8_score_test)"
   ]
  },
  {
   "cell_type": "code",
   "execution_count": 36,
   "id": "cec2505f-a7fa-4cbc-beb4-25d7e7490bbb",
   "metadata": {},
   "outputs": [
    {
     "name": "stdout",
     "output_type": "stream",
     "text": [
      "0.9853095487932844\n",
      "0.9889937106918238\n"
     ]
    }
   ],
   "source": [
    "model_dt4 = DecisionTreeClassifier(max_depth=4,criterion='entropy')\n",
    "\n",
    "model_dt4.fit(x_train,y_train)\n",
    "\n",
    "y_pred_dt4 = model_dt4.predict(x_test)\n",
    "y_pred_proba_dt4 = model_dt4.predict_proba(x_test)[:,1]\n",
    "# y_pred_dt\n",
    "\n",
    "model_dt4_score_train = model_dt4.score(x_train,y_train)\n",
    "print(model_dt4_score_train)\n",
    "\n",
    "model_dt4_score_test = model_dt4.score(x_test,y_test)\n",
    "print(model_dt4_score_test)"
   ]
  },
  {
   "cell_type": "code",
   "execution_count": 37,
   "id": "b8065311-3061-4176-8975-563a6c4751ce",
   "metadata": {},
   "outputs": [
    {
     "data": {
      "text/plain": [
       "array([0, 0, 0, 0, 0, 0, 0, 0, 0, 0, 0, 0, 0, 0, 0, 0, 0, 0, 0, 0, 0, 0,\n",
       "       0, 0, 0, 0, 0, 0, 0, 0, 0, 0, 0, 0, 0, 0, 0, 0, 0, 0, 0, 0, 0, 0,\n",
       "       0, 0, 0, 0, 0, 0, 0, 0, 0, 0, 0, 0, 0, 0, 0, 0, 0, 0, 0, 0, 0, 0,\n",
       "       0, 0, 0, 0, 0, 0, 0, 0, 0, 0, 0, 0, 0, 0, 0, 0, 0, 0, 0, 0, 0, 0,\n",
       "       0, 0, 0, 0, 0, 0, 0, 0, 0, 0, 0, 0, 0, 0, 0, 0, 0, 0, 0, 0, 0, 0,\n",
       "       0, 0, 0, 0, 0, 0, 0, 0, 0, 0, 0, 0, 0, 0, 0, 0, 0, 0, 0, 0, 0, 0,\n",
       "       0, 0, 0, 0, 0, 0, 0, 0, 0, 0, 0, 0, 0, 0, 0, 0, 0, 0, 0, 0, 0, 0,\n",
       "       0, 0, 0, 0, 0, 0, 0, 0, 0, 0, 0, 0, 0, 0, 0, 0, 0, 0, 0, 0, 0, 0,\n",
       "       0, 0, 0, 0, 0, 0, 0, 0, 0, 0, 0, 0, 0, 0, 0, 0, 0, 0, 0, 0, 0, 0,\n",
       "       0, 0, 0, 0, 0, 0, 0, 0, 0, 0, 0, 0, 0, 0, 0, 0, 0, 0, 0, 0, 0, 0,\n",
       "       0, 0, 0, 0, 0, 0, 0, 0, 0, 0, 0, 0, 0, 0, 0, 0, 0, 0, 0, 0, 0, 0,\n",
       "       0, 0, 0, 0, 0, 0, 0, 0, 0, 0, 0, 0, 0, 0, 0, 0, 0, 0, 0, 0, 0, 0,\n",
       "       0, 0, 0, 0, 0, 0, 0, 0, 0, 0, 0, 0, 0, 0, 0, 0, 0, 0, 0, 0, 0, 0,\n",
       "       0, 0, 0, 0, 0, 0, 0, 0, 0, 0, 0, 0, 0, 0, 0, 0, 0, 0, 0, 0, 0, 0,\n",
       "       0, 0, 0, 0, 0, 0, 0, 0, 0, 0, 0, 0, 0, 0, 0, 0, 0, 0, 0, 0, 0, 0,\n",
       "       0, 0, 0, 0, 0, 0, 0, 0, 0, 0, 0, 0, 0, 0, 0, 0, 0, 0, 0, 0, 0, 0,\n",
       "       0, 0, 0, 0, 0, 0, 0, 0, 0, 0, 0, 0, 0, 0, 0, 0, 0, 0, 0, 0, 0, 0,\n",
       "       0, 0, 0, 0, 0, 0, 0, 0, 0, 0, 0, 0, 0, 0, 0, 0, 0, 0, 0, 0, 0, 0,\n",
       "       0, 0, 0, 0, 0, 0, 0, 0, 0, 0, 0, 0, 0, 0, 0, 0, 0, 0, 0, 0, 0, 0,\n",
       "       0, 0, 0, 0, 0, 0, 0, 0, 0, 0, 0, 0, 0, 0, 0, 0, 0, 0, 0, 0, 0, 0,\n",
       "       0, 0, 0, 0, 0, 0, 0, 0, 0, 0, 0, 0, 0, 0, 0, 0, 0, 0, 0, 0, 0, 0,\n",
       "       0, 0, 0, 0, 0, 0, 0, 0, 0, 0, 0, 0, 0, 0, 0, 0, 0, 0, 0, 0, 0, 0,\n",
       "       0, 0, 0, 0, 0, 0, 0, 0, 0, 0, 0, 0, 0, 0, 0, 0, 0, 0, 0, 0, 0, 0,\n",
       "       0, 0, 0, 0, 0, 0, 0, 0, 0, 0, 0, 0, 0, 0, 0, 0, 0, 0, 0, 0, 0, 0,\n",
       "       0, 0, 0, 0, 0, 0, 0, 0, 0, 0, 0, 0, 0, 0, 0, 0, 0, 0, 0, 0, 0, 0,\n",
       "       0, 0, 0, 0, 0, 0, 0, 0, 0, 0, 0, 0, 0, 0, 0, 0, 0, 0, 0, 0, 0, 0,\n",
       "       0, 0, 0, 0, 0, 0, 0, 0, 0, 0, 0, 0, 0, 0, 0, 0, 0, 0, 0, 0, 0, 0,\n",
       "       0, 0, 0, 0, 0, 0, 0, 0, 0, 0, 0, 0, 0, 0, 0, 0, 0, 0, 0, 0, 0, 0,\n",
       "       0, 0, 0, 0, 0, 0, 0, 0, 0, 0, 0, 0, 0, 0, 0, 0, 0, 0, 0, 0],\n",
       "      dtype=int64)"
      ]
     },
     "execution_count": 37,
     "metadata": {},
     "output_type": "execute_result"
    }
   ],
   "source": [
    "y_pred_dt4"
   ]
  },
  {
   "cell_type": "code",
   "execution_count": 38,
   "id": "c4557f27-cb92-4fe9-87f0-2cde288412f8",
   "metadata": {},
   "outputs": [
    {
     "name": "stdout",
     "output_type": "stream",
     "text": [
      "0.9889937106918238\n"
     ]
    }
   ],
   "source": [
    "predictions = model_dt4.predict(x_test)\n",
    "print(model_dt4.score(x_test,y_test))\n",
    "y_actual_result = y_test[0]"
   ]
  },
  {
   "cell_type": "code",
   "execution_count": 39,
   "id": "3a0bff4d-ea0d-4df9-ac0a-da0bb4267e9f",
   "metadata": {},
   "outputs": [
    {
     "data": {
      "text/plain": [
       "array([[629,   0],\n",
       "       [  7,   0]], dtype=int64)"
      ]
     },
     "execution_count": 39,
     "metadata": {},
     "output_type": "execute_result"
    }
   ],
   "source": [
    "conf_matrix_dt = confusion_matrix(y_test,y_pred_dt4)\n",
    "conf_matrix_dt"
   ]
  },
  {
   "cell_type": "code",
   "execution_count": 40,
   "id": "73a16c14-544a-4821-9e22-30bcaa37ef05",
   "metadata": {},
   "outputs": [
    {
     "data": {
      "text/plain": [
       "<Axes: >"
      ]
     },
     "execution_count": 40,
     "metadata": {},
     "output_type": "execute_result"
    },
    {
     "data": {
      "image/png": "[encoded data removed]",
      "text/plain": [
       "<Figure size 640x480 with 2 Axes>"
      ]
     },
     "metadata": {},
     "output_type": "display_data"
    }
   ],
   "source": [
    "sns.heatmap(conf_matrix_dt,annot=True)"
   ]
  },
  {
   "cell_type": "code",
   "execution_count": 41,
   "id": "4bd29842-c002-4446-ab18-7b3c21f02212",
   "metadata": {},
   "outputs": [
    {
     "data": {
      "text/plain": [
       "0.9889937106918238"
      ]
     },
     "execution_count": 41,
     "metadata": {},
     "output_type": "execute_result"
    }
   ],
   "source": [
    "accuracy_dt = metrics.accuracy_score(y_test,y_pred_dt4)\n",
    "accuracy_dt"
   ]
  },
  {
   "cell_type": "code",
   "execution_count": 42,
   "id": "67580cff-bc6f-4c24-b6b2-4d2dfba9c39d",
   "metadata": {},
   "outputs": [
    {
     "data": {
      "text/plain": [
       "0.0"
      ]
     },
     "execution_count": 42,
     "metadata": {},
     "output_type": "execute_result"
    }
   ],
   "source": [
    "precision_dt = metrics.precision_score(y_test,y_pred_dt4)\n",
    "precision_dt"
   ]
  },
  {
   "cell_type": "code",
   "execution_count": 43,
   "id": "bcffccc0-cf48-47f9-8ae0-488b67d98a53",
   "metadata": {},
   "outputs": [
    {
     "data": {
      "text/plain": [
       "0.0"
      ]
     },
     "execution_count": 43,
     "metadata": {},
     "output_type": "execute_result"
    }
   ],
   "source": [
    "recall_dt = metrics.recall_score(y_test,y_pred_dt4)\n",
    "recall_dt"
   ]
  },
  {
   "cell_type": "code",
   "execution_count": 44,
   "id": "302ba179-c75a-4317-9474-9d1b68fce8ea",
   "metadata": {},
   "outputs": [
    {
     "data": {
      "text/plain": [
       "0.6804451510333863"
      ]
     },
     "execution_count": 44,
     "metadata": {},
     "output_type": "execute_result"
    }
   ],
   "source": [
    "y_pred_proba = model_dt4.predict_proba(x_test)[::,1]\n",
    "auc_dt = metrics.roc_auc_score(y_test,y_pred_proba)\n",
    "auc_dt"
   ]
  },
  {
   "cell_type": "code",
   "execution_count": 45,
   "id": "f9ffac83-99ec-45fa-a765-81bbd01b7a2b",
   "metadata": {},
   "outputs": [
    {
     "data": {
      "image/png": "[encoded data removed]",
      "text/plain": [
       "<Figure size 1200x1000 with 1 Axes>"
      ]
     },
     "metadata": {},
     "output_type": "display_data"
    }
   ],
   "source": [
    "fpr, tpr, _ = metrics.roc_curve(y_test,  y_pred_proba)\n",
    "auc = metrics.roc_auc_score(y_test, y_pred_proba)\n",
    "plt.figure(figsize=(12,10))\n",
    "plt.plot(fpr,tpr,label=\"auc=\"+str(auc))\n",
    "plt.legend(loc=4)\n",
    "plt.title(\"Receiver Operating Characteristic Curve (ROC)\")\n",
    "plt.xlabel(\"FPR ---->\")\n",
    "plt.ylabel(\"TPR ---->\")\n",
    "plt.show()"
   ]
  },
  {
   "cell_type": "code",
   "execution_count": 46,
   "id": "774b22c9-436d-459a-b9fb-a3a85802913b",
   "metadata": {},
   "outputs": [
    {
     "data": {
      "text/plain": [
       "Index(['from_city_id', 'online_booking', 'mobile_site_booking',\n",
       "       'Car_Cancellation', 'from_datee', 'booking_month', 'weekend',\n",
       "       'timeOfDay', 'timeDifference', 'cancel_zone'],\n",
       "      dtype='object')"
      ]
     },
     "execution_count": 46,
     "metadata": {},
     "output_type": "execute_result"
    }
   ],
   "source": [
    "#Random forest classifier\n",
    "data.columns"
   ]
  },
  {
   "cell_type": "code",
   "execution_count": 47,
   "id": "ef70fa82-7921-4304-b387-c7fb90d7f29e",
   "metadata": {},
   "outputs": [],
   "source": [
    "names = ['from_city_id', 'online_booking', 'mobile_site_booking',\n",
    "       'Car_Cancellation', 'from_datee', 'booking_month', 'weekend',\n",
    "       'timeOfDay', 'timeDifference', 'cancel_zone']\n",
    "\n",
    "dx = ['Cancel', 'NotCancel']"
   ]
  },
  {
   "cell_type": "code",
   "execution_count": 48,
   "id": "0b8e8248-b7a6-4d59-8125-0f3a7f771136",
   "metadata": {},
   "outputs": [],
   "source": [
    "names_index = names[2:]"
   ]
  },
  {
   "cell_type": "code",
   "execution_count": 49,
   "id": "ab3d4cfc-03f7-424f-8cf1-930b7fdfa23d",
   "metadata": {},
   "outputs": [],
   "source": [
    "x_train, x_test, y_train, y_test = train_test_split(X,y,test_size=0.4,random_state=40)"
   ]
  },
  {
   "cell_type": "code",
   "execution_count": 50,
   "id": "160d8bf6-ebb0-497b-b623-cf6054afc17c",
   "metadata": {},
   "outputs": [],
   "source": [
    "fit_rf = RandomForestClassifier(random_state=40)"
   ]
  },
  {
   "cell_type": "code",
   "execution_count": 95,
   "id": "e0b53558-4592-40a7-a22d-800ab96926c5",
   "metadata": {},
   "outputs": [
    {
     "name": "stdout",
     "output_type": "stream",
     "text": [
      "Best Parameters using Grid search: \n",
      " {'bootstrap': True, 'criterion': 'gini', 'max_depth': 4, 'max_features': None}\n",
      "Time taken in grid search: 57.69\n"
     ]
    }
   ],
   "source": [
    "np.random.seed(40)\n",
    "start = time.time()\n",
    "\n",
    "param_dist = {'max_depth':[2,3,4,5],\n",
    "             'bootstrap':[True,False],\n",
    "             'max_features':['auto','sqrt','log2',None],\n",
    "             'criterion':['gini','entropy']}\n",
    "\n",
    "cv_rf = GridSearchCV(fit_rf,cv=10,param_grid=param_dist,n_jobs=3)\n",
    "\n",
    "cv_rf.fit(x_train,y_train)\n",
    "\n",
    "print('Best Parameters using Grid search: \\n',cv_rf.best_params_)\n",
    "\n",
    "end = time.time()\n",
    "print('Time taken in grid search: %0.2f'%(end-start))"
   ]
  },
  {
   "cell_type": "code",
   "execution_count": 100,
   "id": "02b80ee2-1f48-4efb-81e9-075bbedc74ad",
   "metadata": {},
   "outputs": [
    {
     "data": {
      "text/html": [
       "<style>#sk-container-id-3 {color: black;background-color: white;}#sk-container-id-3 pre{padding: 0;}#sk-container-id-3 div.sk-toggleable {background-color: white;}#sk-container-id-3 label.sk-toggleable__label {cursor: pointer;display: block;width: 100%;margin-bottom: 0;padding: 0.3em;box-sizing: border-box;text-align: center;}#sk-container-id-3 label.sk-toggleable__label-arrow:before {content: \"▸\";float: left;margin-right: 0.25em;color: #696969;}#sk-container-id-3 label.sk-toggleable__label-arrow:hover:before {color: black;}#sk-container-id-3 div.sk-estimator:hover label.sk-toggleable__label-arrow:before {color: black;}#sk-container-id-3 div.sk-toggleable__content {max-height: 0;max-width: 0;overflow: hidden;text-align: left;background-color: #f0f8ff;}#sk-container-id-3 div.sk-toggleable__content pre {margin: 0.2em;color: black;border-radius: 0.25em;background-color: #f0f8ff;}#sk-container-id-3 input.sk-toggleable__control:checked~div.sk-toggleable__content {max-height: 200px;max-width: 100%;overflow: auto;}#sk-container-id-3 input.sk-toggleable__control:checked~label.sk-toggleable__label-arrow:before {content: \"▾\";}#sk-container-id-3 div.sk-estimator input.sk-toggleable__control:checked~label.sk-toggleable__label {background-color: #d4ebff;}#sk-container-id-3 div.sk-label input.sk-toggleable__control:checked~label.sk-toggleable__label {background-color: #d4ebff;}#sk-container-id-3 input.sk-hidden--visually {border: 0;clip: rect(1px 1px 1px 1px);clip: rect(1px, 1px, 1px, 1px);height: 1px;margin: -1px;overflow: hidden;padding: 0;position: absolute;width: 1px;}#sk-container-id-3 div.sk-estimator {font-family: monospace;background-color: #f0f8ff;border: 1px dotted black;border-radius: 0.25em;box-sizing: border-box;margin-bottom: 0.5em;}#sk-container-id-3 div.sk-estimator:hover {background-color: #d4ebff;}#sk-container-id-3 div.sk-parallel-item::after {content: \"\";width: 100%;border-bottom: 1px solid gray;flex-grow: 1;}#sk-container-id-3 div.sk-label:hover label.sk-toggleable__label {background-color: #d4ebff;}#sk-container-id-3 div.sk-serial::before {content: \"\";position: absolute;border-left: 1px solid gray;box-sizing: border-box;top: 0;bottom: 0;left: 50%;z-index: 0;}#sk-container-id-3 div.sk-serial {display: flex;flex-direction: column;align-items: center;background-color: white;padding-right: 0.2em;padding-left: 0.2em;position: relative;}#sk-container-id-3 div.sk-item {position: relative;z-index: 1;}#sk-container-id-3 div.sk-parallel {display: flex;align-items: stretch;justify-content: center;background-color: white;position: relative;}#sk-container-id-3 div.sk-item::before, #sk-container-id-3 div.sk-parallel-item::before {content: \"\";position: absolute;border-left: 1px solid gray;box-sizing: border-box;top: 0;bottom: 0;left: 50%;z-index: -1;}#sk-container-id-3 div.sk-parallel-item {display: flex;flex-direction: column;z-index: 1;position: relative;background-color: white;}#sk-container-id-3 div.sk-parallel-item:first-child::after {align-self: flex-end;width: 50%;}#sk-container-id-3 div.sk-parallel-item:last-child::after {align-self: flex-start;width: 50%;}#sk-container-id-3 div.sk-parallel-item:only-child::after {width: 0;}#sk-container-id-3 div.sk-dashed-wrapped {border: 1px dashed gray;margin: 0 0.4em 0.5em 0.4em;box-sizing: border-box;padding-bottom: 0.4em;background-color: white;}#sk-container-id-3 div.sk-label label {font-family: monospace;font-weight: bold;display: inline-block;line-height: 1.2em;}#sk-container-id-3 div.sk-label-container {text-align: center;}#sk-container-id-3 div.sk-container {/* jupyter's `normalize.less` sets `[hidden] { display: none; }` but bootstrap.min.css set `[hidden] { display: none !important; }` so we also need the `!important` here to be able to override the default hidden behavior on the sphinx rendered scikit-learn.org. See: https://github.com/scikit-learn/scikit-learn/issues/21755 */display: inline-block !important;position: relative;}#sk-container-id-3 div.sk-text-repr-fallback {display: none;}</style><div id=\"sk-container-id-3\" class=\"sk-top-container\"><div class=\"sk-text-repr-fallback\"><pre>RandomForestClassifier(max_depth=4, max_features=None, n_estimators=1000,\n",
       "                       oob_score=True, random_state=40, warm_start=True)</pre><b>In a Jupyter environment, please rerun this cell to show the HTML representation or trust the notebook. <br />On GitHub, the HTML representation is unable to render, please try loading this page with nbviewer.org.</b></div><div class=\"sk-container\" hidden><div class=\"sk-item\"><div class=\"sk-estimator sk-toggleable\"><input class=\"sk-toggleable__control sk-hidden--visually\" id=\"sk-estimator-id-3\" type=\"checkbox\" checked><label for=\"sk-estimator-id-3\" class=\"sk-toggleable__label sk-toggleable__label-arrow\">RandomForestClassifier</label><div class=\"sk-toggleable__content\"><pre>RandomForestClassifier(max_depth=4, max_features=None, n_estimators=1000,\n",
       "                       oob_score=True, random_state=40, warm_start=True)</pre></div></div></div></div></div>"
      ],
      "text/plain": [
       "RandomForestClassifier(max_depth=4, max_features=None, n_estimators=1000,\n",
       "                       oob_score=True, random_state=40, warm_start=True)"
      ]
     },
     "execution_count": 100,
     "metadata": {},
     "output_type": "execute_result"
    }
   ],
   "source": [
    "fit_rf.set_params(criterion='gini',max_features = None,max_depth = 4)"
   ]
  },
  {
   "cell_type": "code",
   "execution_count": 97,
   "id": "df50ff5b-00b7-41b9-b233-3b77ca8fa305",
   "metadata": {},
   "outputs": [],
   "source": [
    "#oob\n",
    "fit_rf.set_params(warm_start=True, \n",
    "                  oob_score=True)\n",
    "\n",
    "min_estimators = 100\n",
    "max_estimators = 1000\n",
    "\n",
    "error_rate = {}\n",
    "\n",
    "for i in range(min_estimators, max_estimators + 1):\n",
    "    fit_rf.set_params(n_estimators=i)\n",
    "    fit_rf.fit(x_train, y_train)\n",
    "\n",
    "    oob_error = 1 - fit_rf.oob_score_\n",
    "    error_rate[i] = oob_error"
   ]
  },
  {
   "cell_type": "code",
   "execution_count": 103,
   "id": "34d13226-30b9-4bdb-9e3e-718d5b1da28f",
   "metadata": {},
   "outputs": [
    {
     "data": {
      "text/plain": [
       "{100: 0.012591815320041944,\n",
       " 101: 0.012591815320041944,\n",
       " 102: 0.012591815320041944,\n",
       " 103: 0.012591815320041944,\n",
       " 104: 0.01364113326337879,\n",
       " 105: 0.012591815320041944,\n",
       " 106: 0.012591815320041944,\n",
       " 107: 0.012591815320041944,\n",
       " 108: 0.012591815320041944,\n",
       " 109: 0.012591815320041944,\n",
       " 110: 0.012591815320041944,\n",
       " 111: 0.012591815320041944,\n",
       " 112: 0.012591815320041944,\n",
       " 113: 0.012591815320041944,\n",
       " 114: 0.012591815320041944,\n",
       " 115: 0.012591815320041944,\n",
       " 116: 0.012591815320041944,\n",
       " 117: 0.01364113326337879,\n",
       " 118: 0.01364113326337879,\n",
       " 119: 0.01364113326337879,\n",
       " 120: 0.01364113326337879,\n",
       " 121: 0.01364113326337879,\n",
       " 122: 0.01364113326337879,\n",
       " 123: 0.01364113326337879,\n",
       " 124: 0.01364113326337879,\n",
       " 125: 0.01364113326337879,\n",
       " 126: 0.01364113326337879,\n",
       " 127: 0.01364113326337879,\n",
       " 128: 0.01364113326337879,\n",
       " 129: 0.01364113326337879,\n",
       " 130: 0.012591815320041944,\n",
       " 131: 0.012591815320041944,\n",
       " 132: 0.012591815320041944,\n",
       " 133: 0.012591815320041944,\n",
       " 134: 0.012591815320041944,\n",
       " 135: 0.012591815320041944,\n",
       " 136: 0.012591815320041944,\n",
       " 137: 0.012591815320041944,\n",
       " 138: 0.012591815320041944,\n",
       " 139: 0.012591815320041944,\n",
       " 140: 0.012591815320041944,\n",
       " 141: 0.012591815320041944,\n",
       " 142: 0.012591815320041944,\n",
       " 143: 0.012591815320041944,\n",
       " 144: 0.012591815320041944,\n",
       " 145: 0.012591815320041944,\n",
       " 146: 0.012591815320041944,\n",
       " 147: 0.012591815320041944,\n",
       " 148: 0.012591815320041944,\n",
       " 149: 0.012591815320041944,\n",
       " 150: 0.012591815320041944,\n",
       " 151: 0.012591815320041944,\n",
       " 152: 0.012591815320041944,\n",
       " 153: 0.012591815320041944,\n",
       " 154: 0.012591815320041944,\n",
       " 155: 0.012591815320041944,\n",
       " 156: 0.012591815320041944,\n",
       " 157: 0.012591815320041944,\n",
       " 158: 0.012591815320041944,\n",
       " 159: 0.012591815320041944,\n",
       " 160: 0.012591815320041944,\n",
       " 161: 0.012591815320041944,\n",
       " 162: 0.012591815320041944,\n",
       " 163: 0.012591815320041944,\n",
       " 164: 0.012591815320041944,\n",
       " 165: 0.012591815320041944,\n",
       " 166: 0.012591815320041944,\n",
       " 167: 0.012591815320041944,\n",
       " 168: 0.012591815320041944,\n",
       " 169: 0.012591815320041944,\n",
       " 170: 0.012591815320041944,\n",
       " 171: 0.012591815320041944,\n",
       " 172: 0.012591815320041944,\n",
       " 173: 0.012591815320041944,\n",
       " 174: 0.012591815320041944,\n",
       " 175: 0.012591815320041944,\n",
       " 176: 0.012591815320041944,\n",
       " 177: 0.012591815320041944,\n",
       " 178: 0.012591815320041944,\n",
       " 179: 0.012591815320041944,\n",
       " 180: 0.012591815320041944,\n",
       " 181: 0.012591815320041944,\n",
       " 182: 0.012591815320041944,\n",
       " 183: 0.01364113326337879,\n",
       " 184: 0.01364113326337879,\n",
       " 185: 0.01364113326337879,\n",
       " 186: 0.012591815320041944,\n",
       " 187: 0.012591815320041944,\n",
       " 188: 0.012591815320041944,\n",
       " 189: 0.012591815320041944,\n",
       " 190: 0.012591815320041944,\n",
       " 191: 0.012591815320041944,\n",
       " 192: 0.012591815320041944,\n",
       " 193: 0.012591815320041944,\n",
       " 194: 0.012591815320041944,\n",
       " 195: 0.012591815320041944,\n",
       " 196: 0.012591815320041944,\n",
       " 197: 0.01364113326337879,\n",
       " 198: 0.01364113326337879,\n",
       " 199: 0.01364113326337879,\n",
       " 200: 0.01364113326337879,\n",
       " 201: 0.012591815320041944,\n",
       " 202: 0.012591815320041944,\n",
       " 203: 0.012591815320041944,\n",
       " 204: 0.012591815320041944,\n",
       " 205: 0.012591815320041944,\n",
       " 206: 0.012591815320041944,\n",
       " 207: 0.012591815320041944,\n",
       " 208: 0.012591815320041944,\n",
       " 209: 0.012591815320041944,\n",
       " 210: 0.012591815320041944,\n",
       " 211: 0.012591815320041944,\n",
       " 212: 0.012591815320041944,\n",
       " 213: 0.012591815320041944,\n",
       " 214: 0.012591815320041944,\n",
       " 215: 0.012591815320041944,\n",
       " 216: 0.012591815320041944,\n",
       " 217: 0.012591815320041944,\n",
       " 218: 0.012591815320041944,\n",
       " 219: 0.012591815320041944,\n",
       " 220: 0.012591815320041944,\n",
       " 221: 0.012591815320041944,\n",
       " 222: 0.012591815320041944,\n",
       " 223: 0.012591815320041944,\n",
       " 224: 0.012591815320041944,\n",
       " 225: 0.012591815320041944,\n",
       " 226: 0.012591815320041944,\n",
       " 227: 0.012591815320041944,\n",
       " 228: 0.012591815320041944,\n",
       " 229: 0.012591815320041944,\n",
       " 230: 0.012591815320041944,\n",
       " 231: 0.012591815320041944,\n",
       " 232: 0.012591815320041944,\n",
       " 233: 0.012591815320041944,\n",
       " 234: 0.012591815320041944,\n",
       " 235: 0.012591815320041944,\n",
       " 236: 0.012591815320041944,\n",
       " 237: 0.012591815320041944,\n",
       " 238: 0.012591815320041944,\n",
       " 239: 0.012591815320041944,\n",
       " 240: 0.012591815320041944,\n",
       " 241: 0.012591815320041944,\n",
       " 242: 0.012591815320041944,\n",
       " 243: 0.012591815320041944,\n",
       " 244: 0.012591815320041944,\n",
       " 245: 0.012591815320041944,\n",
       " 246: 0.012591815320041944,\n",
       " 247: 0.012591815320041944,\n",
       " 248: 0.012591815320041944,\n",
       " 249: 0.012591815320041944,\n",
       " 250: 0.012591815320041944,\n",
       " 251: 0.012591815320041944,\n",
       " 252: 0.01364113326337879,\n",
       " 253: 0.01364113326337879,\n",
       " 254: 0.01364113326337879,\n",
       " 255: 0.01364113326337879,\n",
       " 256: 0.01364113326337879,\n",
       " 257: 0.01364113326337879,\n",
       " 258: 0.01364113326337879,\n",
       " 259: 0.01364113326337879,\n",
       " 260: 0.01364113326337879,\n",
       " 261: 0.01364113326337879,\n",
       " 262: 0.01364113326337879,\n",
       " 263: 0.01364113326337879,\n",
       " 264: 0.01364113326337879,\n",
       " 265: 0.01364113326337879,\n",
       " 266: 0.01364113326337879,\n",
       " 267: 0.01364113326337879,\n",
       " 268: 0.01364113326337879,\n",
       " 269: 0.01364113326337879,\n",
       " 270: 0.01364113326337879,\n",
       " 271: 0.01364113326337879,\n",
       " 272: 0.01364113326337879,\n",
       " 273: 0.01364113326337879,\n",
       " 274: 0.01364113326337879,\n",
       " 275: 0.01364113326337879,\n",
       " 276: 0.01364113326337879,\n",
       " 277: 0.01364113326337879,\n",
       " 278: 0.01364113326337879,\n",
       " 279: 0.01364113326337879,\n",
       " 280: 0.01364113326337879,\n",
       " 281: 0.01364113326337879,\n",
       " 282: 0.01364113326337879,\n",
       " 283: 0.01364113326337879,\n",
       " 284: 0.01364113326337879,\n",
       " 285: 0.01364113326337879,\n",
       " 286: 0.01364113326337879,\n",
       " 287: 0.01364113326337879,\n",
       " 288: 0.01364113326337879,\n",
       " 289: 0.01364113326337879,\n",
       " 290: 0.01364113326337879,\n",
       " 291: 0.01364113326337879,\n",
       " 292: 0.01364113326337879,\n",
       " 293: 0.01364113326337879,\n",
       " 294: 0.01364113326337879,\n",
       " 295: 0.01364113326337879,\n",
       " 296: 0.01364113326337879,\n",
       " 297: 0.01364113326337879,\n",
       " 298: 0.01364113326337879,\n",
       " 299: 0.01364113326337879,\n",
       " 300: 0.01364113326337879,\n",
       " 301: 0.01364113326337879,\n",
       " 302: 0.01364113326337879,\n",
       " 303: 0.01364113326337879,\n",
       " 304: 0.01364113326337879,\n",
       " 305: 0.01364113326337879,\n",
       " 306: 0.01364113326337879,\n",
       " 307: 0.01364113326337879,\n",
       " 308: 0.01364113326337879,\n",
       " 309: 0.01364113326337879,\n",
       " 310: 0.01364113326337879,\n",
       " 311: 0.01364113326337879,\n",
       " 312: 0.01364113326337879,\n",
       " 313: 0.01364113326337879,\n",
       " 314: 0.01364113326337879,\n",
       " 315: 0.01364113326337879,\n",
       " 316: 0.01364113326337879,\n",
       " 317: 0.01364113326337879,\n",
       " 318: 0.01364113326337879,\n",
       " 319: 0.01364113326337879,\n",
       " 320: 0.01364113326337879,\n",
       " 321: 0.01364113326337879,\n",
       " 322: 0.01364113326337879,\n",
       " 323: 0.01364113326337879,\n",
       " 324: 0.01364113326337879,\n",
       " 325: 0.01364113326337879,\n",
       " 326: 0.01364113326337879,\n",
       " 327: 0.01364113326337879,\n",
       " 328: 0.01364113326337879,\n",
       " 329: 0.01364113326337879,\n",
       " 330: 0.01364113326337879,\n",
       " 331: 0.01364113326337879,\n",
       " 332: 0.01364113326337879,\n",
       " 333: 0.01364113326337879,\n",
       " 334: 0.01364113326337879,\n",
       " 335: 0.01364113326337879,\n",
       " 336: 0.01364113326337879,\n",
       " 337: 0.01364113326337879,\n",
       " 338: 0.01364113326337879,\n",
       " 339: 0.01364113326337879,\n",
       " 340: 0.01364113326337879,\n",
       " 341: 0.01364113326337879,\n",
       " 342: 0.01364113326337879,\n",
       " 343: 0.01364113326337879,\n",
       " 344: 0.01364113326337879,\n",
       " 345: 0.01364113326337879,\n",
       " 346: 0.01364113326337879,\n",
       " 347: 0.01364113326337879,\n",
       " 348: 0.01364113326337879,\n",
       " 349: 0.01364113326337879,\n",
       " 350: 0.01364113326337879,\n",
       " 351: 0.01364113326337879,\n",
       " 352: 0.01364113326337879,\n",
       " 353: 0.01364113326337879,\n",
       " 354: 0.01364113326337879,\n",
       " 355: 0.01364113326337879,\n",
       " 356: 0.01364113326337879,\n",
       " 357: 0.01364113326337879,\n",
       " 358: 0.01364113326337879,\n",
       " 359: 0.01364113326337879,\n",
       " 360: 0.01364113326337879,\n",
       " 361: 0.01364113326337879,\n",
       " 362: 0.01364113326337879,\n",
       " 363: 0.01364113326337879,\n",
       " 364: 0.01364113326337879,\n",
       " 365: 0.01364113326337879,\n",
       " 366: 0.012591815320041944,\n",
       " 367: 0.012591815320041944,\n",
       " 368: 0.012591815320041944,\n",
       " 369: 0.012591815320041944,\n",
       " 370: 0.012591815320041944,\n",
       " 371: 0.012591815320041944,\n",
       " 372: 0.012591815320041944,\n",
       " 373: 0.012591815320041944,\n",
       " 374: 0.012591815320041944,\n",
       " 375: 0.012591815320041944,\n",
       " 376: 0.012591815320041944,\n",
       " 377: 0.012591815320041944,\n",
       " 378: 0.012591815320041944,\n",
       " 379: 0.012591815320041944,\n",
       " 380: 0.012591815320041944,\n",
       " 381: 0.012591815320041944,\n",
       " 382: 0.012591815320041944,\n",
       " 383: 0.012591815320041944,\n",
       " 384: 0.012591815320041944,\n",
       " 385: 0.012591815320041944,\n",
       " 386: 0.012591815320041944,\n",
       " 387: 0.012591815320041944,\n",
       " 388: 0.01364113326337879,\n",
       " 389: 0.012591815320041944,\n",
       " 390: 0.012591815320041944,\n",
       " 391: 0.012591815320041944,\n",
       " 392: 0.012591815320041944,\n",
       " 393: 0.012591815320041944,\n",
       " 394: 0.012591815320041944,\n",
       " 395: 0.012591815320041944,\n",
       " 396: 0.012591815320041944,\n",
       " 397: 0.01364113326337879,\n",
       " 398: 0.012591815320041944,\n",
       " 399: 0.012591815320041944,\n",
       " 400: 0.012591815320041944,\n",
       " 401: 0.012591815320041944,\n",
       " 402: 0.012591815320041944,\n",
       " 403: 0.012591815320041944,\n",
       " 404: 0.012591815320041944,\n",
       " 405: 0.012591815320041944,\n",
       " 406: 0.012591815320041944,\n",
       " 407: 0.012591815320041944,\n",
       " 408: 0.012591815320041944,\n",
       " 409: 0.012591815320041944,\n",
       " 410: 0.012591815320041944,\n",
       " 411: 0.012591815320041944,\n",
       " 412: 0.012591815320041944,\n",
       " 413: 0.012591815320041944,\n",
       " 414: 0.012591815320041944,\n",
       " 415: 0.012591815320041944,\n",
       " 416: 0.012591815320041944,\n",
       " 417: 0.012591815320041944,\n",
       " 418: 0.012591815320041944,\n",
       " 419: 0.012591815320041944,\n",
       " 420: 0.012591815320041944,\n",
       " 421: 0.012591815320041944,\n",
       " 422: 0.012591815320041944,\n",
       " 423: 0.012591815320041944,\n",
       " 424: 0.012591815320041944,\n",
       " 425: 0.012591815320041944,\n",
       " 426: 0.012591815320041944,\n",
       " 427: 0.012591815320041944,\n",
       " 428: 0.012591815320041944,\n",
       " 429: 0.012591815320041944,\n",
       " 430: 0.012591815320041944,\n",
       " 431: 0.012591815320041944,\n",
       " 432: 0.012591815320041944,\n",
       " 433: 0.012591815320041944,\n",
       " 434: 0.012591815320041944,\n",
       " 435: 0.012591815320041944,\n",
       " 436: 0.012591815320041944,\n",
       " 437: 0.012591815320041944,\n",
       " 438: 0.012591815320041944,\n",
       " 439: 0.012591815320041944,\n",
       " 440: 0.012591815320041944,\n",
       " 441: 0.012591815320041944,\n",
       " 442: 0.012591815320041944,\n",
       " 443: 0.012591815320041944,\n",
       " 444: 0.012591815320041944,\n",
       " 445: 0.012591815320041944,\n",
       " 446: 0.012591815320041944,\n",
       " 447: 0.012591815320041944,\n",
       " 448: 0.012591815320041944,\n",
       " 449: 0.012591815320041944,\n",
       " 450: 0.012591815320041944,\n",
       " 451: 0.012591815320041944,\n",
       " 452: 0.012591815320041944,\n",
       " 453: 0.012591815320041944,\n",
       " 454: 0.012591815320041944,\n",
       " 455: 0.012591815320041944,\n",
       " 456: 0.012591815320041944,\n",
       " 457: 0.012591815320041944,\n",
       " 458: 0.012591815320041944,\n",
       " 459: 0.012591815320041944,\n",
       " 460: 0.012591815320041944,\n",
       " 461: 0.012591815320041944,\n",
       " 462: 0.012591815320041944,\n",
       " 463: 0.012591815320041944,\n",
       " 464: 0.01364113326337879,\n",
       " 465: 0.01364113326337879,\n",
       " 466: 0.01364113326337879,\n",
       " 467: 0.012591815320041944,\n",
       " 468: 0.012591815320041944,\n",
       " 469: 0.012591815320041944,\n",
       " 470: 0.012591815320041944,\n",
       " 471: 0.012591815320041944,\n",
       " 472: 0.01364113326337879,\n",
       " 473: 0.012591815320041944,\n",
       " 474: 0.012591815320041944,\n",
       " 475: 0.01364113326337879,\n",
       " 476: 0.01364113326337879,\n",
       " 477: 0.01364113326337879,\n",
       " 478: 0.01364113326337879,\n",
       " 479: 0.01364113326337879,\n",
       " 480: 0.01364113326337879,\n",
       " 481: 0.01364113326337879,\n",
       " 482: 0.01364113326337879,\n",
       " 483: 0.01364113326337879,\n",
       " 484: 0.01364113326337879,\n",
       " 485: 0.01364113326337879,\n",
       " 486: 0.01364113326337879,\n",
       " 487: 0.01364113326337879,\n",
       " 488: 0.01364113326337879,\n",
       " 489: 0.01364113326337879,\n",
       " 490: 0.01364113326337879,\n",
       " 491: 0.01364113326337879,\n",
       " 492: 0.01364113326337879,\n",
       " 493: 0.01364113326337879,\n",
       " 494: 0.01364113326337879,\n",
       " 495: 0.01364113326337879,\n",
       " 496: 0.01364113326337879,\n",
       " 497: 0.01364113326337879,\n",
       " 498: 0.01364113326337879,\n",
       " 499: 0.01364113326337879,\n",
       " 500: 0.01364113326337879,\n",
       " 501: 0.01364113326337879,\n",
       " 502: 0.01364113326337879,\n",
       " 503: 0.01364113326337879,\n",
       " 504: 0.01364113326337879,\n",
       " 505: 0.01364113326337879,\n",
       " 506: 0.01364113326337879,\n",
       " 507: 0.01364113326337879,\n",
       " 508: 0.01364113326337879,\n",
       " 509: 0.01364113326337879,\n",
       " 510: 0.01364113326337879,\n",
       " 511: 0.01364113326337879,\n",
       " 512: 0.01364113326337879,\n",
       " 513: 0.01364113326337879,\n",
       " 514: 0.01364113326337879,\n",
       " 515: 0.01364113326337879,\n",
       " 516: 0.01364113326337879,\n",
       " 517: 0.01364113326337879,\n",
       " 518: 0.012591815320041944,\n",
       " 519: 0.012591815320041944,\n",
       " 520: 0.012591815320041944,\n",
       " 521: 0.01364113326337879,\n",
       " 522: 0.01364113326337879,\n",
       " 523: 0.01364113326337879,\n",
       " 524: 0.01364113326337879,\n",
       " 525: 0.012591815320041944,\n",
       " 526: 0.012591815320041944,\n",
       " 527: 0.012591815320041944,\n",
       " 528: 0.012591815320041944,\n",
       " 529: 0.012591815320041944,\n",
       " 530: 0.012591815320041944,\n",
       " 531: 0.012591815320041944,\n",
       " 532: 0.012591815320041944,\n",
       " 533: 0.012591815320041944,\n",
       " 534: 0.012591815320041944,\n",
       " 535: 0.01364113326337879,\n",
       " 536: 0.01364113326337879,\n",
       " 537: 0.012591815320041944,\n",
       " 538: 0.012591815320041944,\n",
       " 539: 0.012591815320041944,\n",
       " 540: 0.012591815320041944,\n",
       " 541: 0.012591815320041944,\n",
       " 542: 0.012591815320041944,\n",
       " 543: 0.012591815320041944,\n",
       " 544: 0.012591815320041944,\n",
       " 545: 0.012591815320041944,\n",
       " 546: 0.012591815320041944,\n",
       " 547: 0.012591815320041944,\n",
       " 548: 0.012591815320041944,\n",
       " 549: 0.012591815320041944,\n",
       " 550: 0.012591815320041944,\n",
       " 551: 0.012591815320041944,\n",
       " 552: 0.012591815320041944,\n",
       " 553: 0.012591815320041944,\n",
       " 554: 0.012591815320041944,\n",
       " 555: 0.012591815320041944,\n",
       " 556: 0.012591815320041944,\n",
       " 557: 0.012591815320041944,\n",
       " 558: 0.012591815320041944,\n",
       " 559: 0.012591815320041944,\n",
       " 560: 0.012591815320041944,\n",
       " 561: 0.012591815320041944,\n",
       " 562: 0.012591815320041944,\n",
       " 563: 0.012591815320041944,\n",
       " 564: 0.012591815320041944,\n",
       " 565: 0.012591815320041944,\n",
       " 566: 0.012591815320041944,\n",
       " 567: 0.012591815320041944,\n",
       " 568: 0.012591815320041944,\n",
       " 569: 0.012591815320041944,\n",
       " 570: 0.012591815320041944,\n",
       " 571: 0.012591815320041944,\n",
       " 572: 0.012591815320041944,\n",
       " 573: 0.012591815320041944,\n",
       " 574: 0.012591815320041944,\n",
       " 575: 0.012591815320041944,\n",
       " 576: 0.012591815320041944,\n",
       " 577: 0.012591815320041944,\n",
       " 578: 0.012591815320041944,\n",
       " 579: 0.012591815320041944,\n",
       " 580: 0.012591815320041944,\n",
       " 581: 0.012591815320041944,\n",
       " 582: 0.012591815320041944,\n",
       " 583: 0.012591815320041944,\n",
       " 584: 0.012591815320041944,\n",
       " 585: 0.012591815320041944,\n",
       " 586: 0.012591815320041944,\n",
       " 587: 0.012591815320041944,\n",
       " 588: 0.012591815320041944,\n",
       " 589: 0.012591815320041944,\n",
       " 590: 0.012591815320041944,\n",
       " 591: 0.012591815320041944,\n",
       " 592: 0.012591815320041944,\n",
       " 593: 0.012591815320041944,\n",
       " 594: 0.012591815320041944,\n",
       " 595: 0.012591815320041944,\n",
       " 596: 0.012591815320041944,\n",
       " 597: 0.01364113326337879,\n",
       " 598: 0.01364113326337879,\n",
       " 599: 0.01364113326337879,\n",
       " 600: 0.01364113326337879,\n",
       " 601: 0.01364113326337879,\n",
       " 602: 0.01364113326337879,\n",
       " 603: 0.01364113326337879,\n",
       " 604: 0.01364113326337879,\n",
       " 605: 0.01364113326337879,\n",
       " 606: 0.01364113326337879,\n",
       " 607: 0.01364113326337879,\n",
       " 608: 0.01364113326337879,\n",
       " 609: 0.01364113326337879,\n",
       " 610: 0.01364113326337879,\n",
       " 611: 0.01364113326337879,\n",
       " 612: 0.01364113326337879,\n",
       " 613: 0.01364113326337879,\n",
       " 614: 0.01364113326337879,\n",
       " 615: 0.01364113326337879,\n",
       " 616: 0.01364113326337879,\n",
       " 617: 0.01364113326337879,\n",
       " 618: 0.01364113326337879,\n",
       " 619: 0.01364113326337879,\n",
       " 620: 0.01364113326337879,\n",
       " 621: 0.01364113326337879,\n",
       " 622: 0.01364113326337879,\n",
       " 623: 0.01364113326337879,\n",
       " 624: 0.01364113326337879,\n",
       " 625: 0.01364113326337879,\n",
       " 626: 0.01364113326337879,\n",
       " 627: 0.01364113326337879,\n",
       " 628: 0.01364113326337879,\n",
       " 629: 0.01364113326337879,\n",
       " 630: 0.01364113326337879,\n",
       " 631: 0.01364113326337879,\n",
       " 632: 0.01364113326337879,\n",
       " 633: 0.01364113326337879,\n",
       " 634: 0.01364113326337879,\n",
       " 635: 0.01364113326337879,\n",
       " 636: 0.01364113326337879,\n",
       " 637: 0.01364113326337879,\n",
       " 638: 0.01364113326337879,\n",
       " 639: 0.01364113326337879,\n",
       " 640: 0.01364113326337879,\n",
       " 641: 0.01364113326337879,\n",
       " 642: 0.01364113326337879,\n",
       " 643: 0.01364113326337879,\n",
       " 644: 0.01364113326337879,\n",
       " 645: 0.01364113326337879,\n",
       " 646: 0.01364113326337879,\n",
       " 647: 0.01364113326337879,\n",
       " 648: 0.01364113326337879,\n",
       " 649: 0.01364113326337879,\n",
       " 650: 0.01364113326337879,\n",
       " 651: 0.01364113326337879,\n",
       " 652: 0.01364113326337879,\n",
       " 653: 0.01364113326337879,\n",
       " 654: 0.01364113326337879,\n",
       " 655: 0.01364113326337879,\n",
       " 656: 0.01364113326337879,\n",
       " 657: 0.01364113326337879,\n",
       " 658: 0.01364113326337879,\n",
       " 659: 0.01364113326337879,\n",
       " 660: 0.01364113326337879,\n",
       " 661: 0.01364113326337879,\n",
       " 662: 0.01364113326337879,\n",
       " 663: 0.01364113326337879,\n",
       " 664: 0.01364113326337879,\n",
       " 665: 0.01364113326337879,\n",
       " 666: 0.01364113326337879,\n",
       " 667: 0.01364113326337879,\n",
       " 668: 0.01364113326337879,\n",
       " 669: 0.01364113326337879,\n",
       " 670: 0.01364113326337879,\n",
       " 671: 0.01364113326337879,\n",
       " 672: 0.01364113326337879,\n",
       " 673: 0.01364113326337879,\n",
       " 674: 0.01364113326337879,\n",
       " 675: 0.01364113326337879,\n",
       " 676: 0.01364113326337879,\n",
       " 677: 0.01364113326337879,\n",
       " 678: 0.01364113326337879,\n",
       " 679: 0.01364113326337879,\n",
       " 680: 0.01364113326337879,\n",
       " 681: 0.01364113326337879,\n",
       " 682: 0.01364113326337879,\n",
       " 683: 0.01364113326337879,\n",
       " 684: 0.01364113326337879,\n",
       " 685: 0.01364113326337879,\n",
       " 686: 0.01364113326337879,\n",
       " 687: 0.01364113326337879,\n",
       " 688: 0.01364113326337879,\n",
       " 689: 0.01364113326337879,\n",
       " 690: 0.01364113326337879,\n",
       " 691: 0.01364113326337879,\n",
       " 692: 0.01364113326337879,\n",
       " 693: 0.01364113326337879,\n",
       " 694: 0.01364113326337879,\n",
       " 695: 0.01364113326337879,\n",
       " 696: 0.01364113326337879,\n",
       " 697: 0.01364113326337879,\n",
       " 698: 0.01364113326337879,\n",
       " 699: 0.01364113326337879,\n",
       " 700: 0.01364113326337879,\n",
       " 701: 0.01364113326337879,\n",
       " 702: 0.01364113326337879,\n",
       " 703: 0.01364113326337879,\n",
       " 704: 0.01364113326337879,\n",
       " 705: 0.01364113326337879,\n",
       " 706: 0.01364113326337879,\n",
       " 707: 0.01364113326337879,\n",
       " 708: 0.01364113326337879,\n",
       " 709: 0.01364113326337879,\n",
       " 710: 0.01364113326337879,\n",
       " 711: 0.01364113326337879,\n",
       " 712: 0.01364113326337879,\n",
       " 713: 0.01364113326337879,\n",
       " 714: 0.01364113326337879,\n",
       " 715: 0.01364113326337879,\n",
       " 716: 0.01364113326337879,\n",
       " 717: 0.01364113326337879,\n",
       " 718: 0.01364113326337879,\n",
       " 719: 0.01364113326337879,\n",
       " 720: 0.01364113326337879,\n",
       " 721: 0.01364113326337879,\n",
       " 722: 0.01364113326337879,\n",
       " 723: 0.01364113326337879,\n",
       " 724: 0.01364113326337879,\n",
       " 725: 0.01364113326337879,\n",
       " 726: 0.01364113326337879,\n",
       " 727: 0.01364113326337879,\n",
       " 728: 0.01364113326337879,\n",
       " 729: 0.01364113326337879,\n",
       " 730: 0.01364113326337879,\n",
       " 731: 0.01364113326337879,\n",
       " 732: 0.01364113326337879,\n",
       " 733: 0.01364113326337879,\n",
       " 734: 0.01364113326337879,\n",
       " 735: 0.01364113326337879,\n",
       " 736: 0.01364113326337879,\n",
       " 737: 0.01364113326337879,\n",
       " 738: 0.01364113326337879,\n",
       " 739: 0.01364113326337879,\n",
       " 740: 0.01364113326337879,\n",
       " 741: 0.01364113326337879,\n",
       " 742: 0.01364113326337879,\n",
       " 743: 0.01364113326337879,\n",
       " 744: 0.01364113326337879,\n",
       " 745: 0.01364113326337879,\n",
       " 746: 0.01364113326337879,\n",
       " 747: 0.01364113326337879,\n",
       " 748: 0.01364113326337879,\n",
       " 749: 0.01364113326337879,\n",
       " 750: 0.01364113326337879,\n",
       " 751: 0.01364113326337879,\n",
       " 752: 0.01364113326337879,\n",
       " 753: 0.01364113326337879,\n",
       " 754: 0.01364113326337879,\n",
       " 755: 0.01364113326337879,\n",
       " 756: 0.01364113326337879,\n",
       " 757: 0.01364113326337879,\n",
       " 758: 0.01364113326337879,\n",
       " 759: 0.01364113326337879,\n",
       " 760: 0.01364113326337879,\n",
       " 761: 0.01364113326337879,\n",
       " 762: 0.01364113326337879,\n",
       " 763: 0.01364113326337879,\n",
       " 764: 0.01364113326337879,\n",
       " 765: 0.01364113326337879,\n",
       " 766: 0.01364113326337879,\n",
       " 767: 0.01364113326337879,\n",
       " 768: 0.01364113326337879,\n",
       " 769: 0.01364113326337879,\n",
       " 770: 0.01364113326337879,\n",
       " 771: 0.01364113326337879,\n",
       " 772: 0.01364113326337879,\n",
       " 773: 0.01364113326337879,\n",
       " 774: 0.01364113326337879,\n",
       " 775: 0.01364113326337879,\n",
       " 776: 0.01364113326337879,\n",
       " 777: 0.01364113326337879,\n",
       " 778: 0.01364113326337879,\n",
       " 779: 0.01364113326337879,\n",
       " 780: 0.01364113326337879,\n",
       " 781: 0.01364113326337879,\n",
       " 782: 0.01364113326337879,\n",
       " 783: 0.01364113326337879,\n",
       " 784: 0.01364113326337879,\n",
       " 785: 0.01364113326337879,\n",
       " 786: 0.01364113326337879,\n",
       " 787: 0.01364113326337879,\n",
       " 788: 0.01364113326337879,\n",
       " 789: 0.01364113326337879,\n",
       " 790: 0.01364113326337879,\n",
       " 791: 0.01364113326337879,\n",
       " 792: 0.01364113326337879,\n",
       " 793: 0.01364113326337879,\n",
       " 794: 0.01364113326337879,\n",
       " 795: 0.01364113326337879,\n",
       " 796: 0.01364113326337879,\n",
       " 797: 0.01364113326337879,\n",
       " 798: 0.01364113326337879,\n",
       " 799: 0.01364113326337879,\n",
       " 800: 0.01364113326337879,\n",
       " 801: 0.01364113326337879,\n",
       " 802: 0.01364113326337879,\n",
       " 803: 0.01364113326337879,\n",
       " 804: 0.01364113326337879,\n",
       " 805: 0.01364113326337879,\n",
       " 806: 0.01364113326337879,\n",
       " 807: 0.01364113326337879,\n",
       " 808: 0.01364113326337879,\n",
       " 809: 0.01364113326337879,\n",
       " 810: 0.01364113326337879,\n",
       " 811: 0.01364113326337879,\n",
       " 812: 0.01364113326337879,\n",
       " 813: 0.01364113326337879,\n",
       " 814: 0.01364113326337879,\n",
       " 815: 0.01364113326337879,\n",
       " 816: 0.01364113326337879,\n",
       " 817: 0.01364113326337879,\n",
       " 818: 0.01364113326337879,\n",
       " 819: 0.01364113326337879,\n",
       " 820: 0.01364113326337879,\n",
       " 821: 0.01364113326337879,\n",
       " 822: 0.01364113326337879,\n",
       " 823: 0.01364113326337879,\n",
       " 824: 0.01364113326337879,\n",
       " 825: 0.01364113326337879,\n",
       " 826: 0.01364113326337879,\n",
       " 827: 0.01364113326337879,\n",
       " 828: 0.01364113326337879,\n",
       " 829: 0.01364113326337879,\n",
       " 830: 0.01364113326337879,\n",
       " 831: 0.01364113326337879,\n",
       " 832: 0.01364113326337879,\n",
       " 833: 0.01364113326337879,\n",
       " 834: 0.01364113326337879,\n",
       " 835: 0.01364113326337879,\n",
       " 836: 0.01364113326337879,\n",
       " 837: 0.01364113326337879,\n",
       " 838: 0.01364113326337879,\n",
       " 839: 0.01364113326337879,\n",
       " 840: 0.01364113326337879,\n",
       " 841: 0.01364113326337879,\n",
       " 842: 0.01364113326337879,\n",
       " 843: 0.01364113326337879,\n",
       " 844: 0.01364113326337879,\n",
       " 845: 0.01364113326337879,\n",
       " 846: 0.01364113326337879,\n",
       " 847: 0.01364113326337879,\n",
       " 848: 0.01364113326337879,\n",
       " 849: 0.01364113326337879,\n",
       " 850: 0.01364113326337879,\n",
       " 851: 0.01364113326337879,\n",
       " 852: 0.01364113326337879,\n",
       " 853: 0.01364113326337879,\n",
       " 854: 0.01364113326337879,\n",
       " 855: 0.01364113326337879,\n",
       " 856: 0.01364113326337879,\n",
       " 857: 0.01364113326337879,\n",
       " 858: 0.01364113326337879,\n",
       " 859: 0.01364113326337879,\n",
       " 860: 0.01364113326337879,\n",
       " 861: 0.01364113326337879,\n",
       " 862: 0.01364113326337879,\n",
       " 863: 0.01364113326337879,\n",
       " 864: 0.01364113326337879,\n",
       " 865: 0.01364113326337879,\n",
       " 866: 0.01364113326337879,\n",
       " 867: 0.01364113326337879,\n",
       " 868: 0.01364113326337879,\n",
       " 869: 0.01364113326337879,\n",
       " 870: 0.01364113326337879,\n",
       " 871: 0.01364113326337879,\n",
       " 872: 0.01364113326337879,\n",
       " 873: 0.01364113326337879,\n",
       " 874: 0.01364113326337879,\n",
       " 875: 0.01364113326337879,\n",
       " 876: 0.01364113326337879,\n",
       " 877: 0.01364113326337879,\n",
       " 878: 0.01364113326337879,\n",
       " 879: 0.01364113326337879,\n",
       " 880: 0.01364113326337879,\n",
       " 881: 0.01364113326337879,\n",
       " 882: 0.01364113326337879,\n",
       " 883: 0.01364113326337879,\n",
       " 884: 0.01364113326337879,\n",
       " 885: 0.01364113326337879,\n",
       " 886: 0.01364113326337879,\n",
       " 887: 0.01364113326337879,\n",
       " 888: 0.01364113326337879,\n",
       " 889: 0.01364113326337879,\n",
       " 890: 0.01364113326337879,\n",
       " 891: 0.01364113326337879,\n",
       " 892: 0.01364113326337879,\n",
       " 893: 0.01364113326337879,\n",
       " 894: 0.01364113326337879,\n",
       " 895: 0.01364113326337879,\n",
       " 896: 0.01364113326337879,\n",
       " 897: 0.01364113326337879,\n",
       " 898: 0.01364113326337879,\n",
       " 899: 0.01364113326337879,\n",
       " 900: 0.01364113326337879,\n",
       " 901: 0.01364113326337879,\n",
       " 902: 0.01364113326337879,\n",
       " 903: 0.01364113326337879,\n",
       " 904: 0.01364113326337879,\n",
       " 905: 0.01364113326337879,\n",
       " 906: 0.01364113326337879,\n",
       " 907: 0.01364113326337879,\n",
       " 908: 0.01364113326337879,\n",
       " 909: 0.01364113326337879,\n",
       " 910: 0.01364113326337879,\n",
       " 911: 0.01364113326337879,\n",
       " 912: 0.01364113326337879,\n",
       " 913: 0.01364113326337879,\n",
       " 914: 0.01364113326337879,\n",
       " 915: 0.01364113326337879,\n",
       " 916: 0.01364113326337879,\n",
       " 917: 0.01364113326337879,\n",
       " 918: 0.01364113326337879,\n",
       " 919: 0.01364113326337879,\n",
       " 920: 0.01364113326337879,\n",
       " 921: 0.01364113326337879,\n",
       " 922: 0.01364113326337879,\n",
       " 923: 0.01364113326337879,\n",
       " 924: 0.01364113326337879,\n",
       " 925: 0.01364113326337879,\n",
       " 926: 0.01364113326337879,\n",
       " 927: 0.01364113326337879,\n",
       " 928: 0.01364113326337879,\n",
       " 929: 0.01364113326337879,\n",
       " 930: 0.01364113326337879,\n",
       " 931: 0.01364113326337879,\n",
       " 932: 0.01364113326337879,\n",
       " 933: 0.01364113326337879,\n",
       " 934: 0.01364113326337879,\n",
       " 935: 0.01364113326337879,\n",
       " 936: 0.01364113326337879,\n",
       " 937: 0.01364113326337879,\n",
       " 938: 0.01364113326337879,\n",
       " 939: 0.01364113326337879,\n",
       " 940: 0.01364113326337879,\n",
       " 941: 0.01364113326337879,\n",
       " 942: 0.01364113326337879,\n",
       " 943: 0.01364113326337879,\n",
       " 944: 0.01364113326337879,\n",
       " 945: 0.01364113326337879,\n",
       " 946: 0.01364113326337879,\n",
       " 947: 0.01364113326337879,\n",
       " 948: 0.01364113326337879,\n",
       " 949: 0.01364113326337879,\n",
       " 950: 0.01364113326337879,\n",
       " 951: 0.01364113326337879,\n",
       " 952: 0.01364113326337879,\n",
       " 953: 0.01364113326337879,\n",
       " 954: 0.01364113326337879,\n",
       " 955: 0.01364113326337879,\n",
       " 956: 0.01364113326337879,\n",
       " 957: 0.01364113326337879,\n",
       " 958: 0.01364113326337879,\n",
       " 959: 0.01364113326337879,\n",
       " 960: 0.01364113326337879,\n",
       " 961: 0.01364113326337879,\n",
       " 962: 0.01364113326337879,\n",
       " 963: 0.01364113326337879,\n",
       " 964: 0.01364113326337879,\n",
       " 965: 0.01364113326337879,\n",
       " 966: 0.01364113326337879,\n",
       " 967: 0.01364113326337879,\n",
       " 968: 0.01364113326337879,\n",
       " 969: 0.01364113326337879,\n",
       " 970: 0.01364113326337879,\n",
       " 971: 0.01364113326337879,\n",
       " 972: 0.01364113326337879,\n",
       " 973: 0.01364113326337879,\n",
       " 974: 0.01364113326337879,\n",
       " 975: 0.01364113326337879,\n",
       " 976: 0.01364113326337879,\n",
       " 977: 0.01364113326337879,\n",
       " 978: 0.01364113326337879,\n",
       " 979: 0.01364113326337879,\n",
       " 980: 0.01364113326337879,\n",
       " 981: 0.01364113326337879,\n",
       " 982: 0.01364113326337879,\n",
       " 983: 0.01364113326337879,\n",
       " 984: 0.01364113326337879,\n",
       " 985: 0.01364113326337879,\n",
       " 986: 0.01364113326337879,\n",
       " 987: 0.01364113326337879,\n",
       " 988: 0.01364113326337879,\n",
       " 989: 0.01364113326337879,\n",
       " 990: 0.01364113326337879,\n",
       " 991: 0.01364113326337879,\n",
       " 992: 0.01364113326337879,\n",
       " 993: 0.01364113326337879,\n",
       " 994: 0.01364113326337879,\n",
       " 995: 0.01364113326337879,\n",
       " 996: 0.01364113326337879,\n",
       " 997: 0.01364113326337879,\n",
       " 998: 0.01364113326337879,\n",
       " 999: 0.01364113326337879,\n",
       " 1000: 0.01364113326337879}"
      ]
     },
     "execution_count": 103,
     "metadata": {},
     "output_type": "execute_result"
    }
   ],
   "source": [
    "error_rate"
   ]
  },
  {
   "cell_type": "code",
   "execution_count": 560,
   "id": "a332b367-2ab8-4844-b9a0-e9fe786cf5a4",
   "metadata": {},
   "outputs": [],
   "source": [
    "oob_series = pd.Series(error_rate)"
   ]
  },
  {
   "cell_type": "code",
   "execution_count": 561,
   "id": "c0a28fa7-52ef-4b8e-a926-a37a5b83ff65",
   "metadata": {},
   "outputs": [
    {
     "data": {
      "text/plain": [
       "Text(0.5, 1.0, 'OOB Error Rate Across various Forest sizes \\n(From 15 to 1000 Trees)')"
      ]
     },
     "execution_count": 561,
     "metadata": {},
     "output_type": "execute_result"
    },
    {
     "data": {
      "image/png": "[encoded data removed]",
      "text/plain": [
       "<Figure size 1000x600 with 1 Axes>"
      ]
     },
     "metadata": {},
     "output_type": "display_data"
    }
   ],
   "source": [
    "fig, ax = plt.subplots(figsize=(10,6))\n",
    "\n",
    "ax.set_facecolor('#fafafa')\n",
    "\n",
    "oob_series.plot(kind='line',color = 'red')\n",
    "plt.axhline(0.035,color='blue',linestyle='--')\n",
    "plt.axhline(0.04,color='blue',linestyle='--')\n",
    "plt.xlabel('n_estimators')\n",
    "plt.ylabel('OOB Error Rate')\n",
    "plt.title('OOB Error Rate Across various Forest sizes \\n(From 15 to 1000 Trees)')"
   ]
  },
  {
   "cell_type": "code",
   "execution_count": 562,
   "id": "ff8ba5ed-ffa0-433b-9f98-fa870e834f14",
   "metadata": {},
   "outputs": [
    {
     "name": "stdout",
     "output_type": "stream",
     "text": [
      "OOB Error rate for 650 trees is: 0.01364\n"
     ]
    }
   ],
   "source": [
    "print('OOB Error rate for 650 trees is: %0.5f'%oob_series[650])"
   ]
  },
  {
   "cell_type": "code",
   "execution_count": 563,
   "id": "4bc8c692-4ed7-47b8-8886-aed3ca8244ac",
   "metadata": {},
   "outputs": [
    {
     "data": {
      "text/html": [
       "<style>#sk-container-id-13 {color: black;background-color: white;}#sk-container-id-13 pre{padding: 0;}#sk-container-id-13 div.sk-toggleable {background-color: white;}#sk-container-id-13 label.sk-toggleable__label {cursor: pointer;display: block;width: 100%;margin-bottom: 0;padding: 0.3em;box-sizing: border-box;text-align: center;}#sk-container-id-13 label.sk-toggleable__label-arrow:before {content: \"▸\";float: left;margin-right: 0.25em;color: #696969;}#sk-container-id-13 label.sk-toggleable__label-arrow:hover:before {color: black;}#sk-container-id-13 div.sk-estimator:hover label.sk-toggleable__label-arrow:before {color: black;}#sk-container-id-13 div.sk-toggleable__content {max-height: 0;max-width: 0;overflow: hidden;text-align: left;background-color: #f0f8ff;}#sk-container-id-13 div.sk-toggleable__content pre {margin: 0.2em;color: black;border-radius: 0.25em;background-color: #f0f8ff;}#sk-container-id-13 input.sk-toggleable__control:checked~div.sk-toggleable__content {max-height: 200px;max-width: 100%;overflow: auto;}#sk-container-id-13 input.sk-toggleable__control:checked~label.sk-toggleable__label-arrow:before {content: \"▾\";}#sk-container-id-13 div.sk-estimator input.sk-toggleable__control:checked~label.sk-toggleable__label {background-color: #d4ebff;}#sk-container-id-13 div.sk-label input.sk-toggleable__control:checked~label.sk-toggleable__label {background-color: #d4ebff;}#sk-container-id-13 input.sk-hidden--visually {border: 0;clip: rect(1px 1px 1px 1px);clip: rect(1px, 1px, 1px, 1px);height: 1px;margin: -1px;overflow: hidden;padding: 0;position: absolute;width: 1px;}#sk-container-id-13 div.sk-estimator {font-family: monospace;background-color: #f0f8ff;border: 1px dotted black;border-radius: 0.25em;box-sizing: border-box;margin-bottom: 0.5em;}#sk-container-id-13 div.sk-estimator:hover {background-color: #d4ebff;}#sk-container-id-13 div.sk-parallel-item::after {content: \"\";width: 100%;border-bottom: 1px solid gray;flex-grow: 1;}#sk-container-id-13 div.sk-label:hover label.sk-toggleable__label {background-color: #d4ebff;}#sk-container-id-13 div.sk-serial::before {content: \"\";position: absolute;border-left: 1px solid gray;box-sizing: border-box;top: 0;bottom: 0;left: 50%;z-index: 0;}#sk-container-id-13 div.sk-serial {display: flex;flex-direction: column;align-items: center;background-color: white;padding-right: 0.2em;padding-left: 0.2em;position: relative;}#sk-container-id-13 div.sk-item {position: relative;z-index: 1;}#sk-container-id-13 div.sk-parallel {display: flex;align-items: stretch;justify-content: center;background-color: white;position: relative;}#sk-container-id-13 div.sk-item::before, #sk-container-id-13 div.sk-parallel-item::before {content: \"\";position: absolute;border-left: 1px solid gray;box-sizing: border-box;top: 0;bottom: 0;left: 50%;z-index: -1;}#sk-container-id-13 div.sk-parallel-item {display: flex;flex-direction: column;z-index: 1;position: relative;background-color: white;}#sk-container-id-13 div.sk-parallel-item:first-child::after {align-self: flex-end;width: 50%;}#sk-container-id-13 div.sk-parallel-item:last-child::after {align-self: flex-start;width: 50%;}#sk-container-id-13 div.sk-parallel-item:only-child::after {width: 0;}#sk-container-id-13 div.sk-dashed-wrapped {border: 1px dashed gray;margin: 0 0.4em 0.5em 0.4em;box-sizing: border-box;padding-bottom: 0.4em;background-color: white;}#sk-container-id-13 div.sk-label label {font-family: monospace;font-weight: bold;display: inline-block;line-height: 1.2em;}#sk-container-id-13 div.sk-label-container {text-align: center;}#sk-container-id-13 div.sk-container {/* jupyter's `normalize.less` sets `[hidden] { display: none; }` but bootstrap.min.css set `[hidden] { display: none !important; }` so we also need the `!important` here to be able to override the default hidden behavior on the sphinx rendered scikit-learn.org. See: https://github.com/scikit-learn/scikit-learn/issues/21755 */display: inline-block !important;position: relative;}#sk-container-id-13 div.sk-text-repr-fallback {display: none;}</style><div id=\"sk-container-id-13\" class=\"sk-top-container\"><div class=\"sk-text-repr-fallback\"><pre>RandomForestClassifier(max_depth=2, max_features=None, n_estimators=650,\n",
       "                       random_state=40)</pre><b>In a Jupyter environment, please rerun this cell to show the HTML representation or trust the notebook. <br />On GitHub, the HTML representation is unable to render, please try loading this page with nbviewer.org.</b></div><div class=\"sk-container\" hidden><div class=\"sk-item\"><div class=\"sk-estimator sk-toggleable\"><input class=\"sk-toggleable__control sk-hidden--visually\" id=\"sk-estimator-id-13\" type=\"checkbox\" checked><label for=\"sk-estimator-id-13\" class=\"sk-toggleable__label sk-toggleable__label-arrow\">RandomForestClassifier</label><div class=\"sk-toggleable__content\"><pre>RandomForestClassifier(max_depth=2, max_features=None, n_estimators=650,\n",
       "                       random_state=40)</pre></div></div></div></div></div>"
      ],
      "text/plain": [
       "RandomForestClassifier(max_depth=2, max_features=None, n_estimators=650,\n",
       "                       random_state=40)"
      ]
     },
     "execution_count": 563,
     "metadata": {},
     "output_type": "execute_result"
    }
   ],
   "source": [
    "fit_rf.set_params(n_estimators=650,bootstrap=True,warm_start=False,oob_score=False)"
   ]
  },
  {
   "cell_type": "code",
   "execution_count": 564,
   "id": "de01991e-599e-4adb-a971-b4053eb3cea5",
   "metadata": {},
   "outputs": [],
   "source": [
    "\n",
    "model_rf = fit_rf.fit(x_train,y_train)"
   ]
  },
  {
   "cell_type": "code",
   "execution_count": 565,
   "id": "3f0b04cc-baeb-48f0-9927-28eb12b598f0",
   "metadata": {},
   "outputs": [
    {
     "name": "stdout",
     "output_type": "stream",
     "text": [
      "[0 0 0 0 0 0 0 0 0 0 0 0 0 0 0 0 0 0 0 0 0 0 0 0 0 0 0 0 0 0 0 0 0 0 0 0 0\n",
      " 0 0 0 0 0 0 0 0 0 0 0 0 0 0 0 0 0 0 0 0 0 0 0 0 0 0 0 0 0 0 0 0 0 0 0 0 0\n",
      " 0 0 0 0 0 0 0 0 0 0 0 0 0 0 0 0 0 0 0 0 0 0 0 0 0 0 0 0 0 0 0 0 0 0 0 0 0\n",
      " 0 0 0 0 0 0 0 0 0 0 0 0 0 0 0 0 0 0 0 0 0 0 0 0 0 0 0 0 0 0 0 0 0 0 0 0 0\n",
      " 0 0 0 0 0 0 0 0 0 0 0 0 0 0 0 0 0 0 0 0 0 0 0 0 0 0 0 0 0 0 0 0 0 0 0 0 0\n",
      " 0 0 0 0 0 0 0 0 0 0 0 0 0 0 0 0 0 0 0 0 0 0 0 0 0 0 0 0 0 0 0 0 0 0 0 0 0\n",
      " 0 0 0 0 0 0 0 0 0 0 0 0 0 0 0 0 0 0 0 0 0 1 0 0 0 0 0 0 0 0 0 0 0 0 0 0 0\n",
      " 0 0 0 0 0 0 0 0 0 0 0 0 0 0 0 0 0 0 0 0 0 0 0 0 0 0 0 0 0 0 0 0 0 0 0 0 0\n",
      " 0 0 0 0 0 0 0 0 0 0 0 0 0 0 0 0 0 0 0 0 0 0 0 0 0 0 0 0 0 0 0 0 0 0 0 0 0\n",
      " 0 0 0 0 0 0 0 0 0 0 0 0 0 0 0 0 0 0 0 0 0 0 0 0 0 0 0 0 0 0 0 0 0 0 0 0 0\n",
      " 0 0 0 0 0 0 0 0 0 0 0 0 0 0 0 0 0 0 0 0 0 0 0 0 0 0 0 0 0 0 0 0 0 0 0 0 0\n",
      " 0 0 0 0 0 0 0 0 0 0 0 0 0 0 0 0 0 0 0 0 0 0 0 0 0 0 0 0 0 0 0 0 0 0 0 0 0\n",
      " 0 0 0 0 0 0 0 0 0 0 0 0 0 0 0 0 0 0 0 0 0 0 0 0 0 0 0 0 0 0 0 0 0 0 0 0 0\n",
      " 0 0 0 0 0 0 0 0 0 0 0 0 0 0 0 0 0 0 0 0 0 0 0 0 0 0 0 0 0 0 0 0 0 0 0 0 0\n",
      " 0 0 0 0 0 0 0 0 0 0 0 0 0 0 0 0 0 0 0 0 0 0 0 0 0 0 0 0 0 0 0 0 0 0 0 0 0\n",
      " 0 0 0 0 0 0 0 0 0 0 0 0 0 0 0 0 0 0 0 0 0 0 0 0 0 0 0 0 0 0 0 0 0 0 0 0 0\n",
      " 0 0 0 0 0 0 0 0 0 0 0 0 0 0 0 0 0 0 0 0 0 0 0 0 0 0 0 0 0 0 0 0 0 0 0 0 0\n",
      " 0 0 0 0 0 0 0]\n"
     ]
    }
   ],
   "source": [
    "y_pred_rf = fit_rf.predict(x_test)\n",
    "print(y_pred_rf)"
   ]
  },
  {
   "cell_type": "code",
   "execution_count": 566,
   "id": "d4fdd857-314b-4333-ad92-c570f5f638ef",
   "metadata": {},
   "outputs": [
    {
     "name": "stdout",
     "output_type": "stream",
     "text": [
      "[0 0 0 0 0 0 0 0 0 0 0 0 0 0 0 0 0 0 0 0 0 0 0 0 0 0 0 0 0 0 0 0 0 0 0 0 0\n",
      " 0 0 0 0 0 0 0 0 0 0 0 0 0 0 0 0 0 0 0 0 0 0 0 0 0 0 0 0 0 0 0 0 0 0 0 0 0\n",
      " 0 0 0 0 0 0 0 0 0 0 0 0 0 0 0 0 0 0 0 0 0 0 0 0 0 0 0 0 0 0 0 0 0 0 0 0 0\n",
      " 0 0 0 0 0 0 0 0 0 0 0 0 0 0 0 0 0 0 0 0 0 0 0 0 0 0 0 0 0 0 0 0 0 0 0 0 0\n",
      " 0 0 1 0 0 0 0 0 0 0 0 0 0 0 0 0 0 0 0 0 0 0 0 0 1 0 0 0 0 0 0 0 0 0 0 1 0\n",
      " 0 0 0 0 0 0 0 0 0 0 0 0 0 0 0 0 0 1 0 0 0 0 0 0 0 0 0 0 0 0 0 0 0 0 0 0 0\n",
      " 0 0 0 0 0 0 0 0 0 0 0 0 0 1 0 0 0 0 0 0 0 1 0 0 0 0 0 0 0 0 0 0 0 0 0 0 0\n",
      " 0 0 0 0 0 0 0 0 0 0 0 0 0 0 0 0 0 0 0 0 0 0 0 0 0 0 0 0 0 0 0 0 0 0 0 0 0\n",
      " 0 0 0 0 0 0 0 0 0 0 0 0 0 0 0 0 0 0 0 0 0 0 0 0 0 0 0 0 0 0 0 0 0 0 0 0 0\n",
      " 0 0 0 0 0 0 0 0 0 0 0 0 0 0 0 0 0 0 0 0 0 0 0 0 0 0 0 0 0 0 0 0 0 0 0 0 0\n",
      " 0 0 0 0 0 0 0 0 0 0 0 1 0 0 0 0 0 0 0 0 0 0 0 0 0 0 0 0 0 0 0 0 0 0 0 0 0\n",
      " 0 0 0 0 0 0 0 0 0 0 0 0 0 0 0 0 0 0 0 0 0 0 0 0 0 0 0 0 0 0 0 0 0 0 0 0 0\n",
      " 0 0 0 0 0 0 1 0 0 0 0 0 0 0 1 0 0 0 0 0 0 0 0 0 0 0 0 0 0 0 0 0 0 0 0 0 0\n",
      " 0 0 0 0 0 0 0 0 0 0 0 0 0 0 0 0 0 0 0 0 0 0 0 0 0 0 0 0 0 0 0 0 0 0 0 0 0\n",
      " 0 0 0 0 0 0 0 0 0 0 0 0 0 0 0 0 0 0 0 0 0 0 0 0 0 0 0 0 0 0 0 0 0 0 0 0 0\n",
      " 0 0 0 0 0 0 0 0 0 0 0 0 0 0 0 0 0 0 0 0 0 0 0 0 0 0 0 0 0 0 0 0 0 0 0 0 0\n",
      " 0 0 0 0 0 0 0 0 0 0 0 0 0 0 0 0 0 0 0 0 0 0 0 0 0 0 0 0 0 0 0 0 0 0 0 0 0\n",
      " 0 0 0 0 0 0 0]\n"
     ]
    }
   ],
   "source": [
    "print(y_test)"
   ]
  },
  {
   "cell_type": "code",
   "execution_count": 567,
   "id": "db97daa8-aa57-415b-8a6b-bfd48a15b402",
   "metadata": {},
   "outputs": [
    {
     "data": {
      "image/png": "[encoded data removed]",
      "text/plain": [
       "<Figure size 640x480 with 2 Axes>"
      ]
     },
     "metadata": {},
     "output_type": "display_data"
    }
   ],
   "source": [
    "# confusion matrix\n",
    "con_matrix_rf = confusion_matrix(y_test,y_pred_rf)\n",
    "sns.heatmap(con_matrix_rf,annot = True)\n",
    "plt.xlabel('Actual Values')\n",
    "plt.ylabel('predicted values')\n",
    "plt.show()"
   ]
  },
  {
   "cell_type": "code",
   "execution_count": 568,
   "id": "0903c6c1-6bf2-4ec3-bba3-3c69561308fe",
   "metadata": {},
   "outputs": [
    {
     "data": {
      "text/plain": [
       "0.9874213836477987"
      ]
     },
     "execution_count": 568,
     "metadata": {},
     "output_type": "execute_result"
    }
   ],
   "source": [
    "accuracy_rf = model_rf.score(x_test,y_test)\n",
    "accuracy_rf"
   ]
  },
  {
   "cell_type": "code",
   "execution_count": 569,
   "id": "74c159d6-aac3-4904-9358-14d51f6254c0",
   "metadata": {},
   "outputs": [
    {
     "data": {
      "text/plain": [
       "1.0"
      ]
     },
     "execution_count": 569,
     "metadata": {},
     "output_type": "execute_result"
    }
   ],
   "source": [
    "precision_rf = metrics.precision_score(y_test,y_pred_rf)\n",
    "precision_rf"
   ]
  },
  {
   "cell_type": "code",
   "execution_count": 570,
   "id": "75edb2e1-41e5-4bc8-8247-1b3ab64dca6e",
   "metadata": {},
   "outputs": [
    {
     "data": {
      "text/plain": [
       "0.1111111111111111"
      ]
     },
     "execution_count": 570,
     "metadata": {},
     "output_type": "execute_result"
    }
   ],
   "source": [
    "recall_rf = metrics.recall_score(y_test,y_pred_rf)\n",
    "recall_rf"
   ]
  },
  {
   "cell_type": "code",
   "execution_count": 571,
   "id": "2b1f90bb-122f-46fd-b81e-113bca9d8e75",
   "metadata": {},
   "outputs": [],
   "source": [
    "#AUC\n",
    "predictions_proba = model_rf.predict_proba(x_test)[:,1]\n",
    "fpr2, tpr2, _ = roc_curve(y_test,predictions_proba,pos_label=1)\n"
   ]
  },
  {
   "cell_type": "code",
   "execution_count": 572,
   "id": "5538ebba-f965-423f-9118-76b55e17ff1c",
   "metadata": {},
   "outputs": [
    {
     "data": {
      "text/plain": [
       "0.8799397483608009"
      ]
     },
     "execution_count": 572,
     "metadata": {},
     "output_type": "execute_result"
    }
   ],
   "source": [
    "auc_rf = metrics.auc(fpr2,tpr2)\n",
    "auc_rf"
   ]
  },
  {
   "cell_type": "code",
   "execution_count": 573,
   "id": "10421029-a63b-494a-b022-e89f8045147c",
   "metadata": {
    "scrolled": true
   },
   "outputs": [
    {
     "data": {
      "image/png": "[encoded data removed]",
      "text/plain": [
       "<Figure size 1200x1000 with 1 Axes>"
      ]
     },
     "metadata": {},
     "output_type": "display_data"
    }
   ],
   "source": [
    "auc = metrics.roc_auc_score(y_test, predictions_proba)\n",
    "plt.figure(figsize=(12,10))\n",
    "plt.plot(fpr2,tpr2,label=\"auc=\"+str(auc))\n",
    "plt.legend(loc=4)\n",
    "plt.title(\"Receiver Operating Characteristic Curve (ROC)\")\n",
    "plt.xlabel(\"FPR2 ---->\")\n",
    "plt.ylabel(\"TPR2 ---->\")\n",
    "plt.show()"
   ]
  },
  {
   "cell_type": "code",
   "execution_count": 574,
   "id": "bf004136-fc4d-470b-88e7-b4f48a3a491b",
   "metadata": {},
   "outputs": [],
   "source": [
    "#Model 5 : Grdient Booster \n",
    "fit_gb = GradientBoostingClassifier(random_state = 40 )"
   ]
  },
  {
   "cell_type": "code",
   "execution_count": 575,
   "id": "2468926d-99c9-43e2-998a-8ce4d21e8c0a",
   "metadata": {},
   "outputs": [
    {
     "name": "stdout",
     "output_type": "stream",
     "text": [
      "{'criterion': 'friedman_mse', 'learning_rate': 1, 'loss': 'exponential', 'max_depth': 3, 'max_features': 'sqrt', 'n_estimators': 100}\n",
      "time taken to execute: 141.40\n"
     ]
    }
   ],
   "source": [
    "# Hyper parameter tuning \n",
    "np.random.seed(40)\n",
    "start = time.time()\n",
    "parameters={\n",
    "\n",
    "    'n_estimators' :[50,100,500],\n",
    "    'learning_rate' : [0.001,0.1,1],\n",
    "    'criterion' : ['friedman_mse','squared_error'],\n",
    "    'max_features' : ['sqrt','log2'],\n",
    "    'loss' : ['log_logs','exponential'],\n",
    "    'max_depth':[2,3,4,5]\n",
    "}\n",
    "\n",
    "cv_gb = GridSearchCV(fit_gb,param_grid = parameters,cv = 10,n_jobs = 3)\n",
    "cv_gb.fit(x_train,y_train)\n",
    "\n",
    "print(cv_gb.best_params_)\n",
    "end = time.time()\n",
    "print(\"time taken to execute: %0.2f\"%(end-start))\n",
    "    "
   ]
  },
  {
   "cell_type": "code",
   "execution_count": 576,
   "id": "173c06d4-1010-4163-99b1-5a97ef33b210",
   "metadata": {},
   "outputs": [],
   "source": [
    "model_gb = fit_gb.set_params(\n",
    "    n_estimators =100,\n",
    "    criterion = 'friedman_mse',\n",
    "    learning_rate = 1 ,\n",
    "    max_features = 'sqrt',\n",
    "    loss = 'exponential',\n",
    "    max_depth = 3)\n",
    "\n",
    "\n"
   ]
  },
  {
   "cell_type": "code",
   "execution_count": 577,
   "id": "7f6d0dcf-a207-4302-8651-f68dd202b653",
   "metadata": {},
   "outputs": [
    {
     "data": {
      "text/html": [
       "<style>#sk-container-id-14 {color: black;background-color: white;}#sk-container-id-14 pre{padding: 0;}#sk-container-id-14 div.sk-toggleable {background-color: white;}#sk-container-id-14 label.sk-toggleable__label {cursor: pointer;display: block;width: 100%;margin-bottom: 0;padding: 0.3em;box-sizing: border-box;text-align: center;}#sk-container-id-14 label.sk-toggleable__label-arrow:before {content: \"▸\";float: left;margin-right: 0.25em;color: #696969;}#sk-container-id-14 label.sk-toggleable__label-arrow:hover:before {color: black;}#sk-container-id-14 div.sk-estimator:hover label.sk-toggleable__label-arrow:before {color: black;}#sk-container-id-14 div.sk-toggleable__content {max-height: 0;max-width: 0;overflow: hidden;text-align: left;background-color: #f0f8ff;}#sk-container-id-14 div.sk-toggleable__content pre {margin: 0.2em;color: black;border-radius: 0.25em;background-color: #f0f8ff;}#sk-container-id-14 input.sk-toggleable__control:checked~div.sk-toggleable__content {max-height: 200px;max-width: 100%;overflow: auto;}#sk-container-id-14 input.sk-toggleable__control:checked~label.sk-toggleable__label-arrow:before {content: \"▾\";}#sk-container-id-14 div.sk-estimator input.sk-toggleable__control:checked~label.sk-toggleable__label {background-color: #d4ebff;}#sk-container-id-14 div.sk-label input.sk-toggleable__control:checked~label.sk-toggleable__label {background-color: #d4ebff;}#sk-container-id-14 input.sk-hidden--visually {border: 0;clip: rect(1px 1px 1px 1px);clip: rect(1px, 1px, 1px, 1px);height: 1px;margin: -1px;overflow: hidden;padding: 0;position: absolute;width: 1px;}#sk-container-id-14 div.sk-estimator {font-family: monospace;background-color: #f0f8ff;border: 1px dotted black;border-radius: 0.25em;box-sizing: border-box;margin-bottom: 0.5em;}#sk-container-id-14 div.sk-estimator:hover {background-color: #d4ebff;}#sk-container-id-14 div.sk-parallel-item::after {content: \"\";width: 100%;border-bottom: 1px solid gray;flex-grow: 1;}#sk-container-id-14 div.sk-label:hover label.sk-toggleable__label {background-color: #d4ebff;}#sk-container-id-14 div.sk-serial::before {content: \"\";position: absolute;border-left: 1px solid gray;box-sizing: border-box;top: 0;bottom: 0;left: 50%;z-index: 0;}#sk-container-id-14 div.sk-serial {display: flex;flex-direction: column;align-items: center;background-color: white;padding-right: 0.2em;padding-left: 0.2em;position: relative;}#sk-container-id-14 div.sk-item {position: relative;z-index: 1;}#sk-container-id-14 div.sk-parallel {display: flex;align-items: stretch;justify-content: center;background-color: white;position: relative;}#sk-container-id-14 div.sk-item::before, #sk-container-id-14 div.sk-parallel-item::before {content: \"\";position: absolute;border-left: 1px solid gray;box-sizing: border-box;top: 0;bottom: 0;left: 50%;z-index: -1;}#sk-container-id-14 div.sk-parallel-item {display: flex;flex-direction: column;z-index: 1;position: relative;background-color: white;}#sk-container-id-14 div.sk-parallel-item:first-child::after {align-self: flex-end;width: 50%;}#sk-container-id-14 div.sk-parallel-item:last-child::after {align-self: flex-start;width: 50%;}#sk-container-id-14 div.sk-parallel-item:only-child::after {width: 0;}#sk-container-id-14 div.sk-dashed-wrapped {border: 1px dashed gray;margin: 0 0.4em 0.5em 0.4em;box-sizing: border-box;padding-bottom: 0.4em;background-color: white;}#sk-container-id-14 div.sk-label label {font-family: monospace;font-weight: bold;display: inline-block;line-height: 1.2em;}#sk-container-id-14 div.sk-label-container {text-align: center;}#sk-container-id-14 div.sk-container {/* jupyter's `normalize.less` sets `[hidden] { display: none; }` but bootstrap.min.css set `[hidden] { display: none !important; }` so we also need the `!important` here to be able to override the default hidden behavior on the sphinx rendered scikit-learn.org. See: https://github.com/scikit-learn/scikit-learn/issues/21755 */display: inline-block !important;position: relative;}#sk-container-id-14 div.sk-text-repr-fallback {display: none;}</style><div id=\"sk-container-id-14\" class=\"sk-top-container\"><div class=\"sk-text-repr-fallback\"><pre>GradientBoostingClassifier(learning_rate=1, loss=&#x27;exponential&#x27;,\n",
       "                           max_features=&#x27;sqrt&#x27;, random_state=40)</pre><b>In a Jupyter environment, please rerun this cell to show the HTML representation or trust the notebook. <br />On GitHub, the HTML representation is unable to render, please try loading this page with nbviewer.org.</b></div><div class=\"sk-container\" hidden><div class=\"sk-item\"><div class=\"sk-estimator sk-toggleable\"><input class=\"sk-toggleable__control sk-hidden--visually\" id=\"sk-estimator-id-14\" type=\"checkbox\" checked><label for=\"sk-estimator-id-14\" class=\"sk-toggleable__label sk-toggleable__label-arrow\">GradientBoostingClassifier</label><div class=\"sk-toggleable__content\"><pre>GradientBoostingClassifier(learning_rate=1, loss=&#x27;exponential&#x27;,\n",
       "                           max_features=&#x27;sqrt&#x27;, random_state=40)</pre></div></div></div></div></div>"
      ],
      "text/plain": [
       "GradientBoostingClassifier(learning_rate=1, loss='exponential',\n",
       "                           max_features='sqrt', random_state=40)"
      ]
     },
     "execution_count": 577,
     "metadata": {},
     "output_type": "execute_result"
    }
   ],
   "source": [
    "fit_gb.fit(x_train,y_train)"
   ]
  },
  {
   "cell_type": "code",
   "execution_count": 578,
   "id": "90c98b85-6e26-4990-aec3-5031c4f3c729",
   "metadata": {},
   "outputs": [],
   "source": [
    "y_pred_gb = fit_gb.predict(x_test)"
   ]
  },
  {
   "cell_type": "code",
   "execution_count": 579,
   "id": "d50072fe-ec8d-4360-bf71-48033a5c3fb0",
   "metadata": {},
   "outputs": [
    {
     "data": {
      "text/plain": [
       "array([0, 0, 0, 0, 0, 0, 0, 0, 0, 0, 0, 0, 0, 0, 0, 0, 0, 0, 0, 0, 0, 0,\n",
       "       0, 0, 0, 0, 0, 0, 0, 0, 0, 0, 0, 0, 0, 0, 0, 0, 0, 0, 0, 0, 0, 0,\n",
       "       0, 0, 0, 0, 0, 0, 0, 0, 0, 0, 0, 0, 0, 0, 0, 0, 0, 0, 0, 0, 0, 0,\n",
       "       0, 0, 0, 0, 0, 0, 0, 0, 0, 0, 0, 0, 0, 0, 0, 0, 0, 0, 0, 0, 0, 0,\n",
       "       0, 0, 0, 0, 0, 0, 0, 0, 0, 0, 0, 0, 0, 0, 0, 0, 0, 0, 0, 0, 0, 0,\n",
       "       0, 0, 0, 0, 0, 0, 0, 0, 0, 0, 0, 0, 0, 0, 0, 0, 0, 0, 0, 0, 0, 0,\n",
       "       0, 0, 0, 0, 0, 0, 0, 0, 0, 0, 0, 0, 0, 0, 0, 0, 0, 0, 0, 0, 0, 0,\n",
       "       0, 0, 0, 0, 1, 0, 0, 0, 0, 0, 0, 0, 0, 0, 0, 0, 0, 0, 0, 0, 0, 0,\n",
       "       0, 0, 0, 0, 0, 0, 0, 0, 0, 0, 0, 0, 0, 0, 0, 0, 0, 0, 0, 0, 0, 0,\n",
       "       0, 0, 0, 0, 0, 0, 0, 0, 0, 0, 0, 0, 0, 0, 0, 0, 0, 0, 0, 0, 0, 0,\n",
       "       0, 0, 0, 0, 0, 0, 0, 0, 0, 0, 0, 0, 0, 0, 0, 0, 0, 0, 0, 0, 0, 0,\n",
       "       0, 0, 0, 0, 0, 0, 0, 0, 0, 0, 0, 0, 0, 0, 0, 0, 0, 0, 0, 0, 0, 0,\n",
       "       0, 0, 0, 0, 0, 0, 0, 0, 0, 0, 0, 0, 0, 0, 0, 0, 0, 0, 0, 0, 0, 0,\n",
       "       0, 0, 0, 0, 0, 0, 0, 0, 0, 0, 0, 0, 0, 0, 0, 1, 0, 0, 0, 0, 0, 0,\n",
       "       0, 0, 0, 0, 0, 0, 0, 0, 0, 0, 0, 0, 0, 0, 0, 0, 0, 0, 0, 0, 0, 0,\n",
       "       0, 0, 0, 0, 0, 0, 0, 0, 0, 0, 0, 0, 0, 0, 0, 0, 0, 0, 0, 0, 0, 0,\n",
       "       0, 0, 0, 0, 0, 0, 0, 0, 0, 0, 0, 0, 0, 0, 0, 0, 0, 0, 0, 0, 0, 0,\n",
       "       0, 0, 0, 0, 0, 0, 0, 0, 0, 0, 0, 0, 0, 0, 0, 0, 0, 0, 0, 0, 0, 0,\n",
       "       0, 0, 0, 0, 0, 0, 0, 0, 0, 0, 0, 0, 0, 0, 0, 0, 0, 0, 0, 0, 0, 0,\n",
       "       0, 0, 0, 0, 0, 0, 0, 0, 0, 0, 0, 0, 0, 0, 0, 0, 0, 0, 0, 0, 0, 0,\n",
       "       0, 0, 0, 0, 0, 0, 0, 0, 0, 0, 0, 0, 0, 0, 0, 0, 0, 0, 0, 0, 0, 0,\n",
       "       0, 0, 0, 0, 0, 0, 0, 0, 0, 0, 0, 0, 0, 0, 0, 0, 0, 0, 0, 0, 0, 0,\n",
       "       0, 0, 0, 0, 0, 0, 0, 0, 0, 0, 0, 0, 0, 0, 0, 0, 0, 0, 0, 0, 0, 0,\n",
       "       0, 0, 0, 0, 0, 0, 0, 0, 0, 0, 0, 0, 0, 0, 0, 0, 0, 0, 0, 0, 0, 0,\n",
       "       0, 0, 0, 0, 0, 0, 0, 0, 0, 0, 0, 0, 0, 0, 0, 0, 0, 0, 0, 0, 0, 0,\n",
       "       0, 0, 0, 0, 0, 0, 0, 0, 0, 0, 0, 0, 0, 0, 0, 0, 0, 0, 0, 0, 0, 0,\n",
       "       0, 0, 0, 0, 0, 0, 0, 0, 0, 0, 0, 0, 0, 0, 0, 0, 0, 0, 0, 0, 0, 0,\n",
       "       0, 0, 0, 0, 0, 0, 0, 0, 0, 0, 0, 0, 0, 0, 0, 0, 0, 0, 0, 0, 0, 0,\n",
       "       0, 0, 0, 0, 0, 0, 0, 0, 0, 0, 0, 0, 0, 0, 0, 0, 0, 0, 0, 0],\n",
       "      dtype=int64)"
      ]
     },
     "execution_count": 579,
     "metadata": {},
     "output_type": "execute_result"
    }
   ],
   "source": [
    "y_pred_gb\n"
   ]
  },
  {
   "cell_type": "code",
   "execution_count": 580,
   "id": "3fe1bc18-35b2-4a0f-b3da-b20f8846e474",
   "metadata": {},
   "outputs": [
    {
     "data": {
      "text/plain": [
       "array([0, 0, 0, 0, 0, 0, 0, 0, 0, 0, 0, 0, 0, 0, 0, 0, 0, 0, 0, 0, 0, 0,\n",
       "       0, 0, 0, 0, 0, 0, 0, 0, 0, 0, 0, 0, 0, 0, 0, 0, 0, 0, 0, 0, 0, 0,\n",
       "       0, 0, 0, 0, 0, 0, 0, 0, 0, 0, 0, 0, 0, 0, 0, 0, 0, 0, 0, 0, 0, 0,\n",
       "       0, 0, 0, 0, 0, 0, 0, 0, 0, 0, 0, 0, 0, 0, 0, 0, 0, 0, 0, 0, 0, 0,\n",
       "       0, 0, 0, 0, 0, 0, 0, 0, 0, 0, 0, 0, 0, 0, 0, 0, 0, 0, 0, 0, 0, 0,\n",
       "       0, 0, 0, 0, 0, 0, 0, 0, 0, 0, 0, 0, 0, 0, 0, 0, 0, 0, 0, 0, 0, 0,\n",
       "       0, 0, 0, 0, 0, 0, 0, 0, 0, 0, 0, 0, 0, 0, 0, 0, 0, 0, 1, 0, 0, 0,\n",
       "       0, 0, 0, 0, 0, 0, 0, 0, 0, 0, 0, 0, 0, 0, 0, 0, 0, 0, 1, 0, 0, 0,\n",
       "       0, 0, 0, 0, 0, 0, 0, 1, 0, 0, 0, 0, 0, 0, 0, 0, 0, 0, 0, 0, 0, 0,\n",
       "       0, 0, 0, 0, 1, 0, 0, 0, 0, 0, 0, 0, 0, 0, 0, 0, 0, 0, 0, 0, 0, 0,\n",
       "       0, 0, 0, 0, 0, 0, 0, 0, 0, 0, 0, 0, 0, 0, 0, 1, 0, 0, 0, 0, 0, 0,\n",
       "       0, 1, 0, 0, 0, 0, 0, 0, 0, 0, 0, 0, 0, 0, 0, 0, 0, 0, 0, 0, 0, 0,\n",
       "       0, 0, 0, 0, 0, 0, 0, 0, 0, 0, 0, 0, 0, 0, 0, 0, 0, 0, 0, 0, 0, 0,\n",
       "       0, 0, 0, 0, 0, 0, 0, 0, 0, 0, 0, 0, 0, 0, 0, 0, 0, 0, 0, 0, 0, 0,\n",
       "       0, 0, 0, 0, 0, 0, 0, 0, 0, 0, 0, 0, 0, 0, 0, 0, 0, 0, 0, 0, 0, 0,\n",
       "       0, 0, 0, 0, 0, 0, 0, 0, 0, 0, 0, 0, 0, 0, 0, 0, 0, 0, 0, 0, 0, 0,\n",
       "       0, 0, 0, 0, 0, 0, 0, 0, 0, 0, 0, 0, 0, 0, 0, 0, 0, 0, 0, 0, 0, 0,\n",
       "       0, 0, 0, 0, 0, 0, 0, 1, 0, 0, 0, 0, 0, 0, 0, 0, 0, 0, 0, 0, 0, 0,\n",
       "       0, 0, 0, 0, 0, 0, 0, 0, 0, 0, 0, 0, 0, 0, 0, 0, 0, 0, 0, 0, 0, 0,\n",
       "       0, 0, 0, 0, 0, 0, 0, 0, 0, 0, 0, 0, 0, 0, 0, 0, 0, 0, 0, 0, 0, 0,\n",
       "       0, 0, 0, 0, 0, 0, 0, 0, 0, 0, 1, 0, 0, 0, 0, 0, 0, 0, 1, 0, 0, 0,\n",
       "       0, 0, 0, 0, 0, 0, 0, 0, 0, 0, 0, 0, 0, 0, 0, 0, 0, 0, 0, 0, 0, 0,\n",
       "       0, 0, 0, 0, 0, 0, 0, 0, 0, 0, 0, 0, 0, 0, 0, 0, 0, 0, 0, 0, 0, 0,\n",
       "       0, 0, 0, 0, 0, 0, 0, 0, 0, 0, 0, 0, 0, 0, 0, 0, 0, 0, 0, 0, 0, 0,\n",
       "       0, 0, 0, 0, 0, 0, 0, 0, 0, 0, 0, 0, 0, 0, 0, 0, 0, 0, 0, 0, 0, 0,\n",
       "       0, 0, 0, 0, 0, 0, 0, 0, 0, 0, 0, 0, 0, 0, 0, 0, 0, 0, 0, 0, 0, 0,\n",
       "       0, 0, 0, 0, 0, 0, 0, 0, 0, 0, 0, 0, 0, 0, 0, 0, 0, 0, 0, 0, 0, 0,\n",
       "       0, 0, 0, 0, 0, 0, 0, 0, 0, 0, 0, 0, 0, 0, 0, 0, 0, 0, 0, 0, 0, 0,\n",
       "       0, 0, 0, 0, 0, 0, 0, 0, 0, 0, 0, 0, 0, 0, 0, 0, 0, 0, 0, 0],\n",
       "      dtype=int64)"
      ]
     },
     "execution_count": 580,
     "metadata": {},
     "output_type": "execute_result"
    }
   ],
   "source": [
    "y_test"
   ]
  },
  {
   "cell_type": "code",
   "execution_count": 581,
   "id": "615dd307-a018-4954-8b0d-4e7eb96b963e",
   "metadata": {},
   "outputs": [
    {
     "data": {
      "image/png": "[encoded data removed]",
      "text/plain": [
       "<Figure size 640x480 with 2 Axes>"
      ]
     },
     "metadata": {},
     "output_type": "display_data"
    }
   ],
   "source": [
    "# Performance Metrics\n",
    "conf_matrix = confusion_matrix(y_pred_gb,y_test)\n",
    "sns.heatmap(conf_matrix , cmap = 'coolwarm', annot = True)\n",
    "plt.xlabel('Predicted Values')\n",
    "plt.ylabel('Actual Values')\n",
    "plt.show()"
   ]
  },
  {
   "cell_type": "code",
   "execution_count": 582,
   "id": "ab8d54ec-401e-4ac9-b948-2758ae139174",
   "metadata": {},
   "outputs": [
    {
     "data": {
      "text/plain": [
       "0.9827044025157232"
      ]
     },
     "execution_count": 582,
     "metadata": {},
     "output_type": "execute_result"
    }
   ],
   "source": [
    "acuraccy_gb = model_gb.score(x_test,y_test)\n",
    "acuraccy_gb"
   ]
  },
  {
   "cell_type": "code",
   "execution_count": 583,
   "id": "b2ec1a2c-0d4d-45b5-8018-21dc69916cc8",
   "metadata": {},
   "outputs": [
    {
     "data": {
      "text/plain": [
       "0.0"
      ]
     },
     "execution_count": 583,
     "metadata": {},
     "output_type": "execute_result"
    }
   ],
   "source": [
    "precision_gb = metrics.precision_score(y_pred_gb,y_test)\n",
    "precision_gb"
   ]
  },
  {
   "cell_type": "code",
   "execution_count": 584,
   "id": "cb4a6c45-ce57-40bf-9817-07a4aeff1b36",
   "metadata": {},
   "outputs": [
    {
     "data": {
      "text/plain": [
       "0.0"
      ]
     },
     "execution_count": 584,
     "metadata": {},
     "output_type": "execute_result"
    }
   ],
   "source": [
    "recall_gb = metrics.recall_score(y_pred_gb,y_test)\n",
    "recall_gb"
   ]
  },
  {
   "cell_type": "code",
   "execution_count": 585,
   "id": "a2de154d-48fe-47a9-9876-086834efaa05",
   "metadata": {},
   "outputs": [
    {
     "data": {
      "text/plain": [
       "0.01729559748427678"
      ]
     },
     "execution_count": 585,
     "metadata": {},
     "output_type": "execute_result"
    }
   ],
   "source": [
    "#Error Rate \n",
    "test_error_rate_gb = 1 - acuraccy_gb\n",
    "test_error_rate_gb"
   ]
  },
  {
   "cell_type": "code",
   "execution_count": 586,
   "id": "40805c32-a66c-4f20-85b2-13e9083ba7b9",
   "metadata": {},
   "outputs": [],
   "source": [
    "#AUC \n",
    "predictions_proba = model_gb.predict_proba(x_test)[:,1]\n",
    "fpr3,tpr3,_=roc_curve(y_test,predictions_proba,pos_label = 1)\n",
    "auc_gb = metrics.auc(fpr3,tpr3)"
   ]
  },
  {
   "cell_type": "code",
   "execution_count": null,
   "id": "c27c7857-0149-4315-94f6-d15ee723e348",
   "metadata": {},
   "outputs": [],
   "source": []
  },
  {
   "cell_type": "code",
   "execution_count": 587,
   "id": "aa9a4f7b-bc4f-4141-b83f-1ef74e28d1e7",
   "metadata": {},
   "outputs": [
    {
     "data": {
      "image/png": "[encoded data removed]",
      "text/plain": [
       "<Figure size 1200x1000 with 1 Axes>"
      ]
     },
     "metadata": {},
     "output_type": "display_data"
    }
   ],
   "source": [
    "auc = metrics.roc_auc_score(y_test, predictions_proba)\n",
    "plt.figure(figsize=(12,10))\n",
    "plt.plot(fpr3,tpr3,label=\"auc=\"+str(auc))\n",
    "plt.legend(loc=4)\n",
    "plt.title(\"Receiver Operating Characteristic Curve (ROC)\")\n",
    "plt.xlabel(\"FPR2 ---->\")\n",
    "plt.ylabel(\"TPR2 ---->\")\n",
    "plt.show()"
   ]
  },
  {
   "cell_type": "code",
   "execution_count": 588,
   "id": "bbfdce9c-fe00-4dcc-8b9a-ef4e310d4a5a",
   "metadata": {},
   "outputs": [
    {
     "name": "stdout",
     "output_type": "stream",
     "text": [
      "[0.9867844916805988, 0.9867844916805988, 0.9867844916805988, 0.9867844916805988, 0.9867844916805988, 0.9861555608629887, 0.9861555608629887, 0.9855266300453787, 0.9855266300453787, 0.9855266300453787, 0.9855266300453787, 0.9855266300453787, 0.9855266300453787, 0.9848976992277686, 0.9848976992277686, 0.9855266300453787, 0.9855266300453787, 0.9855266300453787, 0.9855266300453787]\n"
     ]
    }
   ],
   "source": [
    "# model 6 SVM\n",
    "\n",
    "C_range = list(np.arange(0.1,2,0.1))\n",
    "acc_scores = []\n",
    "for c in C_range:\n",
    "    svm = SVC(kernel = 'linear',C = c)\n",
    "    scores = cross_val_score(svm,X,y,cv = 10, scoring = 'accuracy')\n",
    "    acc_scores.append(scores.mean())\n",
    "print(acc_scores)\n"
   ]
  },
  {
   "cell_type": "code",
   "execution_count": 589,
   "id": "c11d6b08-83b4-4fe9-a464-7221c740ab5d",
   "metadata": {},
   "outputs": [
    {
     "data": {
      "text/plain": [
       "Text(0, 0.5, 'Cross-Validate Accuracy')"
      ]
     },
     "execution_count": 589,
     "metadata": {},
     "output_type": "execute_result"
    },
    {
     "data": {
      "image/png": "[encoded data removed]",
      "text/plain": [
       "<Figure size 1000x600 with 1 Axes>"
      ]
     },
     "metadata": {},
     "output_type": "display_data"
    }
   ],
   "source": [
    "plt.figure(figsize = (10,6))\n",
    "C_values = list(np.arange(0.1,2,0.1))\n",
    "plt.plot(C_values,acc_scores)\n",
    "plt.xticks(np.arange(0.1,2,0.1))\n",
    "plt.xlabel('Value of C for SVM')\n",
    "plt.ylabel('Cross-Validate Accuracy')"
   ]
  },
  {
   "cell_type": "code",
   "execution_count": 590,
   "id": "d2af154c-900a-4ea3-8e70-36572166bf07",
   "metadata": {},
   "outputs": [],
   "source": [
    "#Observation the value c can be considered as 0.5"
   ]
  },
  {
   "cell_type": "code",
   "execution_count": 591,
   "id": "cf181a88-c239-4159-8d7f-478018993c00",
   "metadata": {},
   "outputs": [
    {
     "name": "stdout",
     "output_type": "stream",
     "text": [
      "[0.9867844916805988, 0.9867844916805988, 0.9867844916805988, 0.9861515802881937, 0.9867844916805988, 0.9867844916805988, 0.9867844916805988]\n"
     ]
    }
   ],
   "source": [
    "#Optimising the hyper parameter gamma\n",
    "gamma_range  = [0.0001,0.001,0.01,.1,1,10,100]\n",
    "acc_score =[]\n",
    "for g in gamma_range:\n",
    "    svc = SVC(kernel = 'rbf',gamma = g)\n",
    "    scores = cross_val_score(svc,X,y,cv =10,scoring = 'accuracy')\n",
    "    acc_score.append(scores.mean())\n",
    "print(acc_score)    \n"
   ]
  },
  {
   "cell_type": "code",
   "execution_count": 592,
   "id": "29f5663b-c74c-4d79-bbdf-a9aa0a747a2f",
   "metadata": {},
   "outputs": [
    {
     "data": {
      "text/plain": [
       "Text(0, 0.5, 'Cross-Validated Accuracy')"
      ]
     },
     "execution_count": 592,
     "metadata": {},
     "output_type": "execute_result"
    },
    {
     "data": {
      "image/png": "[encoded data removed]",
      "text/plain": [
       "<Figure size 2000x600 with 1 Axes>"
      ]
     },
     "metadata": {},
     "output_type": "display_data"
    }
   ],
   "source": [
    "plt.figure(figsize = (20,6))\n",
    "gamma_range = [0.0001,0.001,0.01,.1,1,10,100]\n",
    "#,1,10,100\n",
    "plt.plot(gamma_range,acc_score)\n",
    "plt.xlabel('Value of gamma for SVC ')\n",
    "plt.xticks(np.arange(0.0001,100,5))\n",
    "plt.ylabel('Cross-Validated Accuracy')"
   ]
  },
  {
   "cell_type": "code",
   "execution_count": 593,
   "id": "adb80c7c-a497-4976-b5aa-97af9fac0503",
   "metadata": {},
   "outputs": [],
   "source": [
    "#Observation : degree can be taken as anyvalue since its almost same"
   ]
  },
  {
   "cell_type": "code",
   "execution_count": 594,
   "id": "6c8c9c2b-8128-4b25-9d13-b942475ac3e2",
   "metadata": {},
   "outputs": [
    {
     "name": "stdout",
     "output_type": "stream",
     "text": [
      "[0.9867844916805988, 0.9867844916805988, 0.9867844916805988, 0.9867844916805988]\n"
     ]
    }
   ],
   "source": [
    "# hyper parameter degree\n",
    "degree_range=[2,3,4,5]\n",
    "acc_scores = []\n",
    "for d in degree_range:\n",
    "    svc =SVC(kernel='rbf',degree= d)\n",
    "    scores = cross_val_score(svc,X,y,cv= 10,scoring='accuracy')\n",
    "    acc_scores.append(scores.mean())\n",
    "print(acc_scores) "
   ]
  },
  {
   "cell_type": "code",
   "execution_count": 595,
   "id": "b590b6f8-1cf0-4456-8fa6-502d03349c29",
   "metadata": {},
   "outputs": [
    {
     "data": {
      "text/plain": [
       "Text(0, 0.5, 'Cross validation accuracy')"
      ]
     },
     "execution_count": 595,
     "metadata": {},
     "output_type": "execute_result"
    },
    {
     "data": {
      "image/png": "[encoded data removed]",
      "text/plain": [
       "<Figure size 2000x600 with 1 Axes>"
      ]
     },
     "metadata": {},
     "output_type": "display_data"
    }
   ],
   "source": [
    "plt.figure(figsize = (20,6))\n",
    "plt.plot(degree_range,acc_scores)\n",
    "plt.title(\"Optimizing using hyperparameter degree\")\n",
    "plt.xlabel(\"Value of degree\")\n",
    "plt.ylabel(\"Cross validation accuracy\")"
   ]
  },
  {
   "cell_type": "code",
   "execution_count": 596,
   "id": "d8e84146-943a-4b0b-9cac-a8fd5e1c7a7d",
   "metadata": {},
   "outputs": [],
   "source": [
    "#Observation : degree can be taken as anyvalue since its almost same"
   ]
  },
  {
   "cell_type": "code",
   "execution_count": 597,
   "id": "55547733-15bc-446b-a52a-139cba5c2794",
   "metadata": {},
   "outputs": [],
   "source": [
    "#Optimizing hyper parameter using GridSearchCV\n",
    "\n",
    "#tuning the parameters\n",
    "tuned_parameters = {\n",
    "    'C' : [0.5],\n",
    "    'degree' : [2],\n",
    "    'gamma' : [0.01],\n",
    "    'kernel' : ['liner','rbf','ploy']\n",
    "    \n",
    "}"
   ]
  },
  {
   "cell_type": "code",
   "execution_count": 598,
   "id": "5ef421b4-3839-4be1-b273-d1b8c2949a99",
   "metadata": {},
   "outputs": [
    {
     "name": "stdout",
     "output_type": "stream",
     "text": [
      "0.9874232456140352\n"
     ]
    }
   ],
   "source": [
    "model_svm = GridSearchCV(svc,tuned_parameters,cv =10,scoring = 'accuracy')\n",
    "model_svm.fit(x_train,y_train)\n",
    "print(model_svm.best_score_)"
   ]
  },
  {
   "cell_type": "code",
   "execution_count": 599,
   "id": "2b9e04c6-e082-44d1-940b-a2083e6a686e",
   "metadata": {},
   "outputs": [
    {
     "name": "stdout",
     "output_type": "stream",
     "text": [
      "{'C': 0.5, 'degree': 2, 'gamma': 0.01, 'kernel': 'rbf'}\n"
     ]
    }
   ],
   "source": [
    "print(model_svm.best_params_)"
   ]
  },
  {
   "cell_type": "code",
   "execution_count": 600,
   "id": "87ae552b-2d7f-46e3-b148-a56824f99889",
   "metadata": {},
   "outputs": [],
   "source": [
    "#training and evaluating the model with best parameters\n",
    "svc = SVC(gamma = 0.01 , C = 0.5,degree = 2,kernel = 'rbf')"
   ]
  },
  {
   "cell_type": "code",
   "execution_count": 601,
   "id": "e92bb43d-baea-4418-80e6-23bb80ea5cbb",
   "metadata": {},
   "outputs": [],
   "source": [
    "svc_model = model_svm.fit(x_train,y_train)"
   ]
  },
  {
   "cell_type": "code",
   "execution_count": 602,
   "id": "59e35b48-1e9d-4e05-9f1e-d99f1266d04d",
   "metadata": {},
   "outputs": [
    {
     "data": {
      "text/plain": [
       "array([0, 0, 0, 0, 0, 0, 0, 0, 0, 0, 0, 0, 0, 0, 0, 0, 0, 0, 0, 0, 0, 0,\n",
       "       0, 0, 0, 0, 0, 0, 0, 0, 0, 0, 0, 0, 0, 0, 0, 0, 0, 0, 0, 0, 0, 0,\n",
       "       0, 0, 0, 0, 0, 0, 0, 0, 0, 0, 0, 0, 0, 0, 0, 0, 0, 0, 0, 0, 0, 0,\n",
       "       0, 0, 0, 0, 0, 0, 0, 0, 0, 0, 0, 0, 0, 0, 0, 0, 0, 0, 0, 0, 0, 0,\n",
       "       0, 0, 0, 0, 0, 0, 0, 0, 0, 0, 0, 0, 0, 0, 0, 0, 0, 0, 0, 0, 0, 0,\n",
       "       0, 0, 0, 0, 0, 0, 0, 0, 0, 0, 0, 0, 0, 0, 0, 0, 0, 0, 0, 0, 0, 0,\n",
       "       0, 0, 0, 0, 0, 0, 0, 0, 0, 0, 0, 0, 0, 0, 0, 0, 0, 0], dtype=int64)"
      ]
     },
     "execution_count": 602,
     "metadata": {},
     "output_type": "execute_result"
    }
   ],
   "source": [
    "y_pred_svc = svc_model.predict(x_test)\n",
    "y_pred_svc[:150]"
   ]
  },
  {
   "cell_type": "code",
   "execution_count": 603,
   "id": "dbd1b2bd-a800-4f95-b029-bb9b1f875e03",
   "metadata": {},
   "outputs": [
    {
     "data": {
      "text/plain": [
       "0.9858490566037735"
      ]
     },
     "execution_count": 603,
     "metadata": {},
     "output_type": "execute_result"
    }
   ],
   "source": [
    "#Accuracy\n",
    "accuracy_svc = metrics.accuracy_score(y_test,y_pred_svc)\n",
    "accuracy_svc"
   ]
  },
  {
   "cell_type": "code",
   "execution_count": 604,
   "id": "3718c858-3126-41b5-ac3a-5472feda1d86",
   "metadata": {},
   "outputs": [
    {
     "data": {
      "text/plain": [
       "0.0"
      ]
     },
     "execution_count": 604,
     "metadata": {},
     "output_type": "execute_result"
    }
   ],
   "source": [
    "#precision\n",
    "precision_svc = metrics.precision_score(y_test,y_pred_svc)\n",
    "precision_svc"
   ]
  },
  {
   "cell_type": "code",
   "execution_count": 605,
   "id": "50ec1f6c-fbc0-42c6-b373-5b01b8465a4b",
   "metadata": {},
   "outputs": [
    {
     "data": {
      "text/plain": [
       "0.0"
      ]
     },
     "execution_count": 605,
     "metadata": {},
     "output_type": "execute_result"
    }
   ],
   "source": [
    "#recall\n",
    "recall_svc = metrics.recall_score(y_test,y_pred_svc)\n",
    "recall_svc"
   ]
  },
  {
   "cell_type": "code",
   "execution_count": 606,
   "id": "b89788fa-6a75-4828-ade0-47120e14ac39",
   "metadata": {},
   "outputs": [
    {
     "data": {
      "text/plain": [
       "array([[627,   0],\n",
       "       [  9,   0]], dtype=int64)"
      ]
     },
     "execution_count": 606,
     "metadata": {},
     "output_type": "execute_result"
    }
   ],
   "source": [
    "#Confusion matrix\n",
    "svc_con_matrix = confusion_matrix(y_test,y_pred_svc)\n",
    "svc_con_matrix"
   ]
  },
  {
   "cell_type": "code",
   "execution_count": 607,
   "id": "e96481bb-f1bd-4371-b29e-c8d72f4e9c43",
   "metadata": {},
   "outputs": [
    {
     "data": {
      "image/png": "[encoded data removed]",
      "text/plain": [
       "<Figure size 640x480 with 2 Axes>"
      ]
     },
     "metadata": {},
     "output_type": "display_data"
    }
   ],
   "source": [
    "sns.heatmap(svc_con_matrix,annot=True, cmap=\"YlGnBu\")\n",
    "plt.show()"
   ]
  },
  {
   "cell_type": "code",
   "execution_count": 608,
   "id": "1f36c47e-64ef-4060-878d-921cbe2e0b4e",
   "metadata": {},
   "outputs": [
    {
     "data": {
      "image/png": "[encoded data removed]",
      "text/plain": [
       "<Figure size 640x480 with 1 Axes>"
      ]
     },
     "metadata": {},
     "output_type": "display_data"
    }
   ],
   "source": [
    "#AUC\n",
    "fpr,tpr,_ = roc_curve(y_test,y_pred_svc)\n",
    "auc_svc = roc_auc_score(y_test,y_pred_svc)\n",
    "plt.plot(fpr,tpr,label = 'auc='+str(auc_svc) )\n",
    "plt.legend(loc =4)\n",
    "plt.show()"
   ]
  },
  {
   "cell_type": "code",
   "execution_count": 609,
   "id": "97a5a59f-c28b-4cc8-8bab-c1a1234e0e53",
   "metadata": {},
   "outputs": [
    {
     "data": {
      "text/html": [
       "<style>#sk-container-id-15 {color: black;background-color: white;}#sk-container-id-15 pre{padding: 0;}#sk-container-id-15 div.sk-toggleable {background-color: white;}#sk-container-id-15 label.sk-toggleable__label {cursor: pointer;display: block;width: 100%;margin-bottom: 0;padding: 0.3em;box-sizing: border-box;text-align: center;}#sk-container-id-15 label.sk-toggleable__label-arrow:before {content: \"▸\";float: left;margin-right: 0.25em;color: #696969;}#sk-container-id-15 label.sk-toggleable__label-arrow:hover:before {color: black;}#sk-container-id-15 div.sk-estimator:hover label.sk-toggleable__label-arrow:before {color: black;}#sk-container-id-15 div.sk-toggleable__content {max-height: 0;max-width: 0;overflow: hidden;text-align: left;background-color: #f0f8ff;}#sk-container-id-15 div.sk-toggleable__content pre {margin: 0.2em;color: black;border-radius: 0.25em;background-color: #f0f8ff;}#sk-container-id-15 input.sk-toggleable__control:checked~div.sk-toggleable__content {max-height: 200px;max-width: 100%;overflow: auto;}#sk-container-id-15 input.sk-toggleable__control:checked~label.sk-toggleable__label-arrow:before {content: \"▾\";}#sk-container-id-15 div.sk-estimator input.sk-toggleable__control:checked~label.sk-toggleable__label {background-color: #d4ebff;}#sk-container-id-15 div.sk-label input.sk-toggleable__control:checked~label.sk-toggleable__label {background-color: #d4ebff;}#sk-container-id-15 input.sk-hidden--visually {border: 0;clip: rect(1px 1px 1px 1px);clip: rect(1px, 1px, 1px, 1px);height: 1px;margin: -1px;overflow: hidden;padding: 0;position: absolute;width: 1px;}#sk-container-id-15 div.sk-estimator {font-family: monospace;background-color: #f0f8ff;border: 1px dotted black;border-radius: 0.25em;box-sizing: border-box;margin-bottom: 0.5em;}#sk-container-id-15 div.sk-estimator:hover {background-color: #d4ebff;}#sk-container-id-15 div.sk-parallel-item::after {content: \"\";width: 100%;border-bottom: 1px solid gray;flex-grow: 1;}#sk-container-id-15 div.sk-label:hover label.sk-toggleable__label {background-color: #d4ebff;}#sk-container-id-15 div.sk-serial::before {content: \"\";position: absolute;border-left: 1px solid gray;box-sizing: border-box;top: 0;bottom: 0;left: 50%;z-index: 0;}#sk-container-id-15 div.sk-serial {display: flex;flex-direction: column;align-items: center;background-color: white;padding-right: 0.2em;padding-left: 0.2em;position: relative;}#sk-container-id-15 div.sk-item {position: relative;z-index: 1;}#sk-container-id-15 div.sk-parallel {display: flex;align-items: stretch;justify-content: center;background-color: white;position: relative;}#sk-container-id-15 div.sk-item::before, #sk-container-id-15 div.sk-parallel-item::before {content: \"\";position: absolute;border-left: 1px solid gray;box-sizing: border-box;top: 0;bottom: 0;left: 50%;z-index: -1;}#sk-container-id-15 div.sk-parallel-item {display: flex;flex-direction: column;z-index: 1;position: relative;background-color: white;}#sk-container-id-15 div.sk-parallel-item:first-child::after {align-self: flex-end;width: 50%;}#sk-container-id-15 div.sk-parallel-item:last-child::after {align-self: flex-start;width: 50%;}#sk-container-id-15 div.sk-parallel-item:only-child::after {width: 0;}#sk-container-id-15 div.sk-dashed-wrapped {border: 1px dashed gray;margin: 0 0.4em 0.5em 0.4em;box-sizing: border-box;padding-bottom: 0.4em;background-color: white;}#sk-container-id-15 div.sk-label label {font-family: monospace;font-weight: bold;display: inline-block;line-height: 1.2em;}#sk-container-id-15 div.sk-label-container {text-align: center;}#sk-container-id-15 div.sk-container {/* jupyter's `normalize.less` sets `[hidden] { display: none; }` but bootstrap.min.css set `[hidden] { display: none !important; }` so we also need the `!important` here to be able to override the default hidden behavior on the sphinx rendered scikit-learn.org. See: https://github.com/scikit-learn/scikit-learn/issues/21755 */display: inline-block !important;position: relative;}#sk-container-id-15 div.sk-text-repr-fallback {display: none;}</style><div id=\"sk-container-id-15\" class=\"sk-top-container\"><div class=\"sk-text-repr-fallback\"><pre>GaussianNB()</pre><b>In a Jupyter environment, please rerun this cell to show the HTML representation or trust the notebook. <br />On GitHub, the HTML representation is unable to render, please try loading this page with nbviewer.org.</b></div><div class=\"sk-container\" hidden><div class=\"sk-item\"><div class=\"sk-estimator sk-toggleable\"><input class=\"sk-toggleable__control sk-hidden--visually\" id=\"sk-estimator-id-15\" type=\"checkbox\" checked><label for=\"sk-estimator-id-15\" class=\"sk-toggleable__label sk-toggleable__label-arrow\">GaussianNB</label><div class=\"sk-toggleable__content\"><pre>GaussianNB()</pre></div></div></div></div></div>"
      ],
      "text/plain": [
       "GaussianNB()"
      ]
     },
     "execution_count": 609,
     "metadata": {},
     "output_type": "execute_result"
    }
   ],
   "source": [
    "#Naive bayes algorithm\n",
    "model_NB = GaussianNB()\n",
    "model_NB.fit(x_train,y_train)"
   ]
  },
  {
   "cell_type": "code",
   "execution_count": 610,
   "id": "437c1583-43bc-48a6-a662-894fefc4da07",
   "metadata": {},
   "outputs": [
    {
     "data": {
      "text/plain": [
       "array([0, 1, 0, 0, 1, 1, 0, 1, 0, 0, 1, 0, 0, 1, 0, 0, 0, 0, 0, 0, 1, 0,\n",
       "       0, 0, 0, 0, 0, 1, 1, 1, 1, 0, 0, 0, 1, 1, 1, 0, 0, 0, 0, 1, 1, 0,\n",
       "       0, 0, 1, 0, 0, 0, 0, 0, 0, 0, 0, 0, 0, 0, 0, 0, 0, 1, 0, 1, 1, 0,\n",
       "       0, 0, 0, 0, 1, 0, 0, 0, 1, 1, 0, 0, 1, 0, 1, 1, 0, 0, 1, 0, 0, 0,\n",
       "       0, 1, 0, 0, 0, 0, 1, 0, 0, 0, 0, 1, 0, 1, 0, 1, 0, 1, 0, 0, 1, 1,\n",
       "       0, 1, 0, 0, 0, 0, 0, 1, 0, 0, 0, 1, 0, 1, 0, 0, 0, 0, 0, 0, 0, 1,\n",
       "       0, 0, 1, 1, 0, 0, 0, 0, 0, 0, 1, 0, 0, 0, 0, 0, 1, 1, 1, 0, 1, 0,\n",
       "       1, 0, 1, 0, 1, 1, 0, 0, 0, 0, 0, 1, 0, 1, 0, 0, 0, 1, 1, 0, 1, 0,\n",
       "       0, 0, 0, 1, 0, 1, 0, 0, 1, 0, 0, 0, 0, 0, 0, 1, 1, 1, 0, 1, 0, 0,\n",
       "       0, 0, 1, 0, 1, 0, 1, 0, 0, 1, 0, 0, 0, 0, 0, 0, 1, 0, 0, 0, 0, 0,\n",
       "       0, 1, 1, 0, 0, 0, 1, 1, 1, 0, 0, 1, 0, 0, 1, 1, 0, 0, 0, 1, 1, 0,\n",
       "       0, 1, 0, 0, 1, 1, 0, 0, 0, 1, 1, 0, 0, 1, 1, 0, 0, 0, 0, 1, 1, 0,\n",
       "       1, 0, 1, 1, 0, 1, 0, 0, 0, 0, 0, 0, 1, 0, 0, 0, 0, 0, 1, 0, 1, 1,\n",
       "       0, 0, 0, 0, 0, 1, 1, 1, 0, 0, 1, 0, 1, 0, 1, 1, 1, 0, 0, 0, 0, 0,\n",
       "       1, 1, 1, 0, 0, 1, 0, 1, 1, 0, 1, 0, 1, 0, 0, 0, 1, 0, 0, 1, 0, 0,\n",
       "       0, 0, 0, 0, 1, 0, 1, 1, 0, 0, 1, 0, 0, 0, 0, 0, 0, 0, 1, 0, 0, 0,\n",
       "       0, 0, 0, 1, 1, 1, 1, 0, 1, 0, 1, 1, 0, 1, 0, 1, 1, 0, 0, 0, 0, 0,\n",
       "       0, 0, 0, 0, 0, 0, 0, 1, 1, 1, 0, 0, 0, 0, 0, 0, 0, 1, 1, 1, 1, 1,\n",
       "       0, 0, 0, 0, 0, 0, 1, 1, 0, 0, 1, 0, 0, 1, 1, 0, 0, 0, 1, 1, 1, 0,\n",
       "       0, 0, 0, 0, 0, 0, 0, 0, 1, 0, 0, 0, 1, 0, 0, 0, 0, 1, 0, 1, 0, 0,\n",
       "       0, 0, 1, 1, 0, 1, 0, 0, 0, 1, 1, 1, 0, 0, 1, 0, 1, 0, 1, 0, 0, 0,\n",
       "       1, 1, 0, 0, 1, 0, 0, 1, 1, 0, 0, 0, 0, 1, 1, 0, 0, 1, 1, 1, 0, 0,\n",
       "       0, 1, 0, 1, 0, 0, 0, 0, 1, 1, 0, 0, 0, 0, 0, 0, 1, 1, 0, 1, 0, 0,\n",
       "       0, 1, 0, 0, 1, 0, 1, 1, 0, 0, 0, 1, 1, 0, 0, 0, 0, 0, 0, 0, 1, 1,\n",
       "       0, 1, 0, 0, 0, 1, 1, 0, 0, 1, 0, 1, 0, 1, 0, 0, 0, 1, 1, 0, 1, 0,\n",
       "       0, 1, 0, 1, 1, 1, 0, 1, 1, 1, 1, 1, 0, 0, 0, 1, 1, 0, 1, 1, 0, 0,\n",
       "       0, 1, 1, 1, 1, 0, 1, 0, 1, 0, 0, 0, 1, 0, 1, 0, 0, 1, 1, 0, 0, 1,\n",
       "       1, 0, 1, 0, 0, 0, 1, 0, 0, 0, 1, 1, 1, 0, 1, 1, 1, 1, 0, 0, 0, 1,\n",
       "       0, 0, 0, 0, 0, 1, 0, 0, 0, 0, 0, 0, 1, 0, 0, 0, 1, 0, 0, 0],\n",
       "      dtype=int64)"
      ]
     },
     "execution_count": 610,
     "metadata": {},
     "output_type": "execute_result"
    }
   ],
   "source": [
    "y_pred_NB = model_NB.predict(x_test)\n",
    "y_pred_NB"
   ]
  },
  {
   "cell_type": "code",
   "execution_count": 611,
   "id": "524d4081-4186-49e5-a446-e54d403680ac",
   "metadata": {},
   "outputs": [
    {
     "data": {
      "text/plain": [
       "array([0, 0, 0, 0, 0, 0, 0, 0, 0, 0, 0, 0, 0, 0, 0, 0, 0, 0, 0, 0, 0, 0,\n",
       "       0, 0, 0, 0, 0, 0, 0, 0, 0, 0, 0, 0, 0, 0, 0, 0, 0, 0, 0, 0, 0, 0,\n",
       "       0, 0, 0, 0, 0, 0, 0, 0, 0, 0, 0, 0, 0, 0, 0, 0, 0, 0, 0, 0, 0, 0,\n",
       "       0, 0, 0, 0, 0, 0, 0, 0, 0, 0, 0, 0, 0, 0, 0, 0, 0, 0, 0, 0, 0, 0,\n",
       "       0, 0, 0, 0, 0, 0, 0, 0, 0, 0, 0, 0, 0, 0, 0, 0, 0, 0, 0, 0, 0, 0,\n",
       "       0, 0, 0, 0, 0, 0, 0, 0, 0, 0, 0, 0, 0, 0, 0, 0, 0, 0, 0, 0, 0, 0,\n",
       "       0, 0, 0, 0, 0, 0, 0, 0, 0, 0, 0, 0, 0, 0, 0, 0, 0, 0, 1, 0, 0, 0,\n",
       "       0, 0, 0, 0, 0, 0, 0, 0, 0, 0, 0, 0, 0, 0, 0, 0, 0, 0, 1, 0, 0, 0,\n",
       "       0, 0, 0, 0, 0, 0, 0, 1, 0, 0, 0, 0, 0, 0, 0, 0, 0, 0, 0, 0, 0, 0,\n",
       "       0, 0, 0, 0, 1, 0, 0, 0, 0, 0, 0, 0, 0, 0, 0, 0, 0, 0, 0, 0, 0, 0,\n",
       "       0, 0, 0, 0, 0, 0, 0, 0, 0, 0, 0, 0, 0, 0, 0, 1, 0, 0, 0, 0, 0, 0,\n",
       "       0, 1, 0, 0, 0, 0, 0, 0, 0, 0, 0, 0, 0, 0, 0, 0, 0, 0, 0, 0, 0, 0,\n",
       "       0, 0, 0, 0, 0, 0, 0, 0, 0, 0, 0, 0, 0, 0, 0, 0, 0, 0, 0, 0, 0, 0,\n",
       "       0, 0, 0, 0, 0, 0, 0, 0, 0, 0, 0, 0, 0, 0, 0, 0, 0, 0, 0, 0, 0, 0,\n",
       "       0, 0, 0, 0, 0, 0, 0, 0, 0, 0, 0, 0, 0, 0, 0, 0, 0, 0, 0, 0, 0, 0,\n",
       "       0, 0, 0, 0, 0, 0, 0, 0, 0, 0, 0, 0, 0, 0, 0, 0, 0, 0, 0, 0, 0, 0,\n",
       "       0, 0, 0, 0, 0, 0, 0, 0, 0, 0, 0, 0, 0, 0, 0, 0, 0, 0, 0, 0, 0, 0,\n",
       "       0, 0, 0, 0, 0, 0, 0, 1, 0, 0, 0, 0, 0, 0, 0, 0, 0, 0, 0, 0, 0, 0,\n",
       "       0, 0, 0, 0, 0, 0, 0, 0, 0, 0, 0, 0, 0, 0, 0, 0, 0, 0, 0, 0, 0, 0,\n",
       "       0, 0, 0, 0, 0, 0, 0, 0, 0, 0, 0, 0, 0, 0, 0, 0, 0, 0, 0, 0, 0, 0,\n",
       "       0, 0, 0, 0, 0, 0, 0, 0, 0, 0, 1, 0, 0, 0, 0, 0, 0, 0, 1, 0, 0, 0,\n",
       "       0, 0, 0, 0, 0, 0, 0, 0, 0, 0, 0, 0, 0, 0, 0, 0, 0, 0, 0, 0, 0, 0,\n",
       "       0, 0, 0, 0, 0, 0, 0, 0, 0, 0, 0, 0, 0, 0, 0, 0, 0, 0, 0, 0, 0, 0,\n",
       "       0, 0, 0, 0, 0, 0, 0, 0, 0, 0, 0, 0, 0, 0, 0, 0, 0, 0, 0, 0, 0, 0,\n",
       "       0, 0, 0, 0, 0, 0, 0, 0, 0, 0, 0, 0, 0, 0, 0, 0, 0, 0, 0, 0, 0, 0,\n",
       "       0, 0, 0, 0, 0, 0, 0, 0, 0, 0, 0, 0, 0, 0, 0, 0, 0, 0, 0, 0, 0, 0,\n",
       "       0, 0, 0, 0, 0, 0, 0, 0, 0, 0, 0, 0, 0, 0, 0, 0, 0, 0, 0, 0, 0, 0,\n",
       "       0, 0, 0, 0, 0, 0, 0, 0, 0, 0, 0, 0, 0, 0, 0, 0, 0, 0, 0, 0, 0, 0,\n",
       "       0, 0, 0, 0, 0, 0, 0, 0, 0, 0, 0, 0, 0, 0, 0, 0, 0, 0, 0, 0],\n",
       "      dtype=int64)"
      ]
     },
     "execution_count": 611,
     "metadata": {},
     "output_type": "execute_result"
    }
   ],
   "source": [
    "y_test"
   ]
  },
  {
   "cell_type": "code",
   "execution_count": 612,
   "id": "bd61cbcf-eabe-48f3-8969-3b57a7264696",
   "metadata": {},
   "outputs": [
    {
     "data": {
      "text/plain": [
       "0.6509433962264151"
      ]
     },
     "execution_count": 612,
     "metadata": {},
     "output_type": "execute_result"
    }
   ],
   "source": [
    "#accuracy\n",
    "accuracy_GNB = metrics.accuracy_score(y_test,y_pred_NB)\n",
    "accuracy_GNB"
   ]
  },
  {
   "cell_type": "code",
   "execution_count": 613,
   "id": "a285e205-e612-48bc-86a7-733fadabb160",
   "metadata": {},
   "outputs": [
    {
     "data": {
      "text/plain": [
       "0.034934497816593885"
      ]
     },
     "execution_count": 613,
     "metadata": {},
     "output_type": "execute_result"
    }
   ],
   "source": [
    "#precision\n",
    "precision_GNB = metrics.precision_score(y_test,y_pred_NB)\n",
    "precision_GNB"
   ]
  },
  {
   "cell_type": "code",
   "execution_count": 614,
   "id": "0a7d98eb-30cb-46e5-ba4f-c8b507c3b245",
   "metadata": {},
   "outputs": [
    {
     "data": {
      "text/plain": [
       "0.8888888888888888"
      ]
     },
     "execution_count": 614,
     "metadata": {},
     "output_type": "execute_result"
    }
   ],
   "source": [
    "#recall\n",
    "recall_GNB = metrics.recall_score(y_test,y_pred_NB)\n",
    "recall_GNB"
   ]
  },
  {
   "cell_type": "code",
   "execution_count": null,
   "id": "515c642d-f80b-40d9-afc4-b59e7cedce0c",
   "metadata": {},
   "outputs": [],
   "source": []
  },
  {
   "cell_type": "code",
   "execution_count": 615,
   "id": "f452e053-ca12-467a-989e-d4c83a140bd5",
   "metadata": {},
   "outputs": [
    {
     "data": {
      "image/png": "[encoded data removed]",
      "text/plain": [
       "<Figure size 640x480 with 2 Axes>"
      ]
     },
     "metadata": {},
     "output_type": "display_data"
    }
   ],
   "source": [
    "#Confusion matrix\n",
    "Confustion_matrix_GNB = confusion_matrix(y_pred_NB,y_test)\n",
    "names = np.unique(y_pred_NB)\n",
    "sns.heatmap(Confustion_matrix_GNB,annot = True)\n",
    "plt.xlabel('Actual Values')\n",
    "plt.ylabel('Predicted Values')\n",
    "plt.show()\n"
   ]
  },
  {
   "cell_type": "code",
   "execution_count": 616,
   "id": "1ee05883-0c13-4f8b-81b9-8632ee0f7302",
   "metadata": {},
   "outputs": [
    {
     "name": "stdout",
     "output_type": "stream",
     "text": [
      "              precision    recall  f1-score   support\n",
      "\n",
      "           0       0.65      1.00      0.79       407\n",
      "           1       0.89      0.03      0.07       229\n",
      "\n",
      "    accuracy                           0.65       636\n",
      "   macro avg       0.77      0.52      0.43       636\n",
      "weighted avg       0.73      0.65      0.53       636\n",
      "\n"
     ]
    }
   ],
   "source": [
    "#Classification report\n",
    "print(metrics.classification_report(y_pred_NB,y_test,labels = [0,1]))"
   ]
  },
  {
   "cell_type": "code",
   "execution_count": 617,
   "id": "9b867091-024e-41af-8131-bb195c3bf8b5",
   "metadata": {},
   "outputs": [
    {
     "data": {
      "image/png": "[encoded data removed]",
      "text/plain": [
       "<Figure size 640x480 with 1 Axes>"
      ]
     },
     "metadata": {},
     "output_type": "display_data"
    }
   ],
   "source": [
    "#AUC plot\n",
    "fpr,tpr,_ = roc_curve(y_test,y_pred_NB)\n",
    "auc_NB = roc_auc_score(y_test,y_pred_NB)\n",
    "plt.plot(fpr,tpr,label = 'auc_NB'+str(auc_NB))\n",
    "plt.legend(loc = 4)\n",
    "plt.show()"
   ]
  },
  {
   "cell_type": "code",
   "execution_count": 732,
   "id": "0e46b714-cdf2-49a6-815b-9c8f4ba151a9",
   "metadata": {},
   "outputs": [
    {
     "name": "stdout",
     "output_type": "stream",
     "text": [
      "[0.9735650027864026, 0.9836398375925484, 0.9817411034153333, 0.9848897380781786, 0.9848897380781786, 0.9855226494705838, 0.9836318764429584, 0.9861515802881937, 0.9861515802881937, 0.9867844916805988, 0.9861515802881937, 0.9867844916805988, 0.9867844916805988, 0.9867844916805988, 0.9867844916805988, 0.9867844916805988, 0.9867844916805988, 0.9867844916805988, 0.9867844916805988, 0.9867844916805988, 0.9867844916805988, 0.9867844916805988, 0.9867844916805988, 0.9867844916805988, 0.9867844916805988, 0.9867844916805988, 0.9867844916805988, 0.9867844916805988, 0.9867844916805988, 0.9867844916805988, 0.9867844916805988, 0.9867844916805988, 0.9867844916805988, 0.9867844916805988, 0.9867844916805988, 0.9867844916805988, 0.9867844916805988, 0.9867844916805988, 0.9867844916805988]\n",
      "[0.026434997213597433, 0.01636016240745164, 0.01825889658466673, 0.01511026192182141, 0.01511026192182141, 0.014477350529416233, 0.016368123557041647, 0.013848419711806281, 0.013848419711806281, 0.013215508319401215, 0.013848419711806281, 0.013215508319401215, 0.013215508319401215, 0.013215508319401215, 0.013215508319401215, 0.013215508319401215, 0.013215508319401215, 0.013215508319401215, 0.013215508319401215, 0.013215508319401215, 0.013215508319401215, 0.013215508319401215, 0.013215508319401215, 0.013215508319401215, 0.013215508319401215, 0.013215508319401215, 0.013215508319401215, 0.013215508319401215, 0.013215508319401215, 0.013215508319401215, 0.013215508319401215, 0.013215508319401215, 0.013215508319401215, 0.013215508319401215, 0.013215508319401215, 0.013215508319401215, 0.013215508319401215, 0.013215508319401215, 0.013215508319401215]\n"
     ]
    }
   ],
   "source": [
    "# KNN Model\n",
    "accuracy_rate = []\n",
    "error_rate = []\n",
    "\n",
    "for i in range(1,40):\n",
    "    knn = KNeighborsClassifier(n_neighbors =i)\n",
    "    score = cross_val_score(knn,X,y,cv= 10)\n",
    "    accuracy_rate.append(score.mean())\n",
    "\n",
    "for j in range(1,40):\n",
    "    knn = KNeighborsClassifier(n_neighbors = j)\n",
    "    score = cross_val_score(knn,X,y,cv =10)\n",
    "    error_rate.append(1-score.mean())\n",
    "\n",
    "print(accuracy_rate)\n",
    "print(error_rate)"
   ]
  },
  {
   "cell_type": "code",
   "execution_count": 762,
   "id": "4753df26-671f-4f98-be92-a46e7e8cfa74",
   "metadata": {},
   "outputs": [
    {
     "data": {
      "text/plain": [
       "Text(0, 0.5, 'Accuracy Rate')"
      ]
     },
     "execution_count": 762,
     "metadata": {},
     "output_type": "execute_result"
    },
    {
     "data": {
      "image/png": "[encoded data removed]",
      "text/plain": [
       "<Figure size 640x480 with 1 Axes>"
      ]
     },
     "metadata": {},
     "output_type": "display_data"
    }
   ],
   "source": [
    "plt.plot(range(1,40),accuracy_rate,color='Blue',linestyle = 'dashed',marker = 'o',markerfacecolor = 'red',markersize = 10 )\n",
    "plt.title(\"K vs Accuracy rate\")\n",
    "plt.xlabel(\"K\")\n",
    "plt.ylabel(\"Accuracy Rate\")"
   ]
  },
  {
   "cell_type": "code",
   "execution_count": 760,
   "id": "0bc6556e-5eba-42eb-95e5-6dc85d61ac95",
   "metadata": {},
   "outputs": [
    {
     "data": {
      "text/plain": [
       "Text(0, 0.5, 'Error Rate')"
      ]
     },
     "execution_count": 760,
     "metadata": {},
     "output_type": "execute_result"
    },
    {
     "data": {
      "image/png": "[encoded data removed]",
      "text/plain": [
       "<Figure size 640x480 with 1 Axes>"
      ]
     },
     "metadata": {},
     "output_type": "display_data"
    }
   ],
   "source": [
    "plt.plot(range(1,40),error_rate,color='Blue',linestyle = 'dashed',marker = 'o',markerfacecolor = 'red',markersize = 10 )\n",
    "plt.title(\"K vs Error rate\")\n",
    "plt.xlabel(\"K\")\n",
    "plt.ylabel(\"Error Rate\")"
   ]
  },
  {
   "cell_type": "code",
   "execution_count": 772,
   "id": "2a47c7e1-57cf-4a4e-9494-7fe6fb0ecdd3",
   "metadata": {},
   "outputs": [
    {
     "data": {
      "text/plain": [
       "array([0, 0, 0, 0, 0, 0, 0, 0, 0, 0, 0, 0, 0, 0, 0, 0, 0, 0, 0, 0, 0, 0,\n",
       "       0, 0, 0, 0, 0, 0, 0, 0, 0, 0, 0, 0, 0, 0, 0, 0, 0, 0, 0, 0, 0, 0,\n",
       "       0, 0, 0, 0, 0, 0, 0, 0, 0, 0, 0, 0, 0, 0, 0, 0, 0, 0, 0, 0, 0, 0,\n",
       "       0, 0, 0, 0, 0, 0, 0, 0, 0, 0, 0, 0, 0, 0, 0, 0, 0, 0, 0, 0, 0, 0,\n",
       "       0, 0, 0, 0, 0, 0, 0, 0, 0, 0, 0, 0, 0, 0, 0, 0, 0, 0, 0, 0, 0, 0,\n",
       "       0, 0, 0, 0, 0, 0, 0, 0, 0, 0, 0, 0, 0, 0, 0, 0, 0, 0, 0, 0, 0, 0,\n",
       "       0, 0, 0, 0, 0, 0, 0, 0, 0, 0, 0, 0, 0, 0, 0, 0, 0, 0, 0, 0, 0, 0,\n",
       "       0, 0, 0, 0, 0, 0, 0, 0, 0, 0, 0, 0, 0, 0, 0, 0, 0, 0, 0, 0, 0, 0,\n",
       "       0, 0, 0, 0, 0, 0, 0, 0, 0, 0, 0, 0, 0, 0, 0, 0, 0, 0, 0, 0, 0, 0,\n",
       "       0, 0, 0, 0, 0, 0, 0, 0, 0, 0, 0, 0, 0, 0, 0, 0, 0, 0, 0, 0, 0, 0,\n",
       "       0, 0, 0, 0, 0, 0, 0, 0, 0, 0, 0, 0, 0, 0, 0, 0, 0, 0, 0, 0, 0, 0,\n",
       "       0, 0, 0, 0, 0, 0, 0, 0, 0, 0, 0, 0, 0, 0, 0, 0, 0, 0, 0, 0, 0, 0,\n",
       "       0, 0, 0, 0, 0, 0, 0, 0, 0, 0, 0, 0, 0, 0, 0, 0, 0, 0, 0, 0, 0, 0,\n",
       "       0, 0, 0, 0, 0, 0, 0, 0, 0, 0, 0, 0, 0, 0, 0, 0, 0, 0, 0, 0, 0, 0,\n",
       "       0, 0, 0, 0, 0, 0, 0, 0, 0, 0, 0, 0, 0, 0, 0, 0, 0, 0, 0, 0, 0, 0,\n",
       "       0, 0, 0, 0, 0, 0, 0, 0, 0, 0, 0, 0, 0, 0, 0, 0, 0, 0, 0, 0, 0, 0,\n",
       "       0, 0, 0, 0, 0, 0, 0, 0, 0, 0, 0, 0, 0, 0, 0, 0, 0, 0, 0, 0, 0, 0,\n",
       "       0, 0, 0, 0, 0, 0, 0, 0, 0, 0, 0, 0, 0, 0, 0, 0, 0, 0, 0, 0, 0, 0,\n",
       "       0, 0, 0, 0, 0, 0, 0, 0, 0, 0, 0, 0, 0, 0, 0, 0, 0, 0, 0, 0, 0, 0,\n",
       "       0, 0, 0, 0, 0, 0, 0, 0, 0, 0, 0, 0, 0, 0, 0, 0, 0, 0, 0, 0, 0, 0,\n",
       "       0, 0, 0, 0, 0, 0, 0, 0, 0, 0, 0, 0, 0, 0, 0, 0, 0, 0, 0, 0, 0, 0,\n",
       "       0, 0, 0, 0, 0, 0, 0, 0, 0, 0, 0, 0, 0, 0, 0, 0, 0, 0, 0, 0, 0, 0,\n",
       "       0, 0, 0, 0, 0, 0, 0, 0, 0, 0, 0, 0, 0, 0, 0, 0, 0, 0, 0, 0, 0, 0,\n",
       "       0, 0, 0, 0, 0, 0, 0, 0, 0, 0, 0, 0, 0, 0, 0, 0, 0, 0, 0, 0, 0, 0,\n",
       "       0, 0, 0, 0, 0, 0, 0, 0, 0, 0, 0, 0, 0, 0, 0, 0, 0, 0, 0, 0, 0, 0,\n",
       "       0, 0, 0, 0, 0, 0, 0, 0, 0, 0, 0, 0, 0, 0, 0, 0, 0, 0, 0, 0, 0, 0,\n",
       "       0, 0, 0, 0, 0, 0, 0, 0, 0, 0, 0, 0, 0, 0, 0, 0, 0, 0, 0, 0, 0, 0,\n",
       "       0, 0, 0, 0, 0, 0, 0, 0, 0, 0, 0, 0, 0, 0, 0, 0, 0, 0, 0, 0, 0, 0,\n",
       "       0, 0, 0, 0, 0, 0, 0, 0, 0, 0, 0, 0, 0, 0, 0, 0, 0, 0, 0, 0],\n",
       "      dtype=int64)"
      ]
     },
     "execution_count": 772,
     "metadata": {},
     "output_type": "execute_result"
    }
   ],
   "source": [
    "#So K value is 12\n",
    "knn = KNeighborsClassifier(n_neighbors =12)\n",
    "model_knn = knn.fit(x_train,y_train)\n",
    "y_pred_knn = model_knn.predict(x_test)\n",
    "y_pred_knn"
   ]
  },
  {
   "cell_type": "code",
   "execution_count": 774,
   "id": "49b0f6aa-1046-4055-9608-e1e9a2936832",
   "metadata": {},
   "outputs": [
    {
     "data": {
      "text/plain": [
       "array([[627,   0],\n",
       "       [  9,   0]], dtype=int64)"
      ]
     },
     "execution_count": 774,
     "metadata": {},
     "output_type": "execute_result"
    }
   ],
   "source": [
    "confusion_matrix_knn = confusion_matrix(y_test,y_pred_knn)\n",
    "confusion_matrix_knn"
   ]
  },
  {
   "cell_type": "code",
   "execution_count": 778,
   "id": "8e654480-a636-4758-8ca6-d3a53677f29b",
   "metadata": {},
   "outputs": [
    {
     "name": "stdout",
     "output_type": "stream",
     "text": [
      "              precision    recall  f1-score   support\n",
      "\n",
      "           0       0.99      1.00      0.99       627\n",
      "           1       0.00      0.00      0.00         9\n",
      "\n",
      "    accuracy                           0.99       636\n",
      "   macro avg       0.49      0.50      0.50       636\n",
      "weighted avg       0.97      0.99      0.98       636\n",
      "\n"
     ]
    }
   ],
   "source": [
    "classification_report_knn = classification_report(y_test,y_pred_knn)\n",
    "print(classification_report_knn)"
   ]
  },
  {
   "cell_type": "code",
   "execution_count": 782,
   "id": "f53d0d53-5edc-4868-8877-ebe1b42896c9",
   "metadata": {},
   "outputs": [
    {
     "data": {
      "text/plain": [
       "Text(50.722222222222214, 0.5, 'Predicted')"
      ]
     },
     "execution_count": 782,
     "metadata": {},
     "output_type": "execute_result"
    },
    {
     "data": {
      "image/png": "[encoded data removed]",
      "text/plain": [
       "<Figure size 640x480 with 2 Axes>"
      ]
     },
     "metadata": {},
     "output_type": "display_data"
    }
   ],
   "source": [
    "sns.heatmap(confusion_matrix_knn,annot =True)\n",
    "plt.title(\"confusion_matrix_knn\")\n",
    "plt.xlabel(\"Actual\")\n",
    "plt.ylabel(\"Predicted\")"
   ]
  },
  {
   "cell_type": "code",
   "execution_count": 784,
   "id": "d75c9e39-dc60-492a-a922-72d9c0833358",
   "metadata": {},
   "outputs": [
    {
     "data": {
      "text/plain": [
       "0.9858490566037735"
      ]
     },
     "execution_count": 784,
     "metadata": {},
     "output_type": "execute_result"
    }
   ],
   "source": [
    "#accuracy\n",
    "accuracy_knn = metrics.accuracy_score(y_test,y_pred_knn)\n",
    "accuracy_knn"
   ]
  },
  {
   "cell_type": "code",
   "execution_count": 786,
   "id": "74e392b4-cbf1-4743-ad0d-d8d953ebea72",
   "metadata": {},
   "outputs": [
    {
     "data": {
      "text/plain": [
       "0.0"
      ]
     },
     "execution_count": 786,
     "metadata": {},
     "output_type": "execute_result"
    }
   ],
   "source": [
    "#precision\n",
    "precision_knn = metrics.precision_score(y_test,y_pred_knn)\n",
    "precision_knn"
   ]
  },
  {
   "cell_type": "code",
   "execution_count": 788,
   "id": "2506d3f5-e19e-4017-afc5-6bb0c869f818",
   "metadata": {},
   "outputs": [
    {
     "data": {
      "text/plain": [
       "0.0"
      ]
     },
     "execution_count": 788,
     "metadata": {},
     "output_type": "execute_result"
    }
   ],
   "source": [
    "#recall\n",
    "recall_knn = metrics.recall_score(y_test,y_pred_knn)\n",
    "recall_knn"
   ]
  },
  {
   "cell_type": "code",
   "execution_count": 790,
   "id": "81d56bf0-9d89-4049-9a5e-83606dbe9763",
   "metadata": {},
   "outputs": [
    {
     "data": {
      "text/plain": [
       "0.5"
      ]
     },
     "execution_count": 790,
     "metadata": {},
     "output_type": "execute_result"
    }
   ],
   "source": [
    "#Auc\n",
    "auc_knn = metrics.roc_auc_score(y_test,y_pred_knn)\n",
    "auc_knn"
   ]
  },
  {
   "cell_type": "code",
   "execution_count": 798,
   "id": "6d5a2691-17f7-4a6a-b274-708adb1141cc",
   "metadata": {},
   "outputs": [
    {
     "data": {
      "image/png": "[encoded data removed]",
      "text/plain": [
       "<Figure size 640x480 with 1 Axes>"
      ]
     },
     "metadata": {},
     "output_type": "display_data"
    }
   ],
   "source": [
    "fpr,tpr,_ = roc_curve(y_test,y_pred_knn)\n",
    "plt.plot(fpr,tpr,label = \"auc : \"+str(auc_knn))\n",
    "plt.legend(loc = 4)\n",
    "plt.title(\"AUC ROC CURVE\")\n",
    "plt.xlabel(\"fpr\")\n",
    "plt.ylabel(\"tpr\")\n",
    "plt.show()"
   ]
  },
  {
   "cell_type": "code",
   "execution_count": 800,
   "id": "f7c32247-fe63-4f9f-9271-7aebbca6a1e0",
   "metadata": {},
   "outputs": [],
   "source": [
    "data = [[accuracy_logreg,precision_logreg, recall_logreg,auc_logreg],\n",
    "        [accuracy_dt,precision_dt, recall_dt,auc_dt],\n",
    "        [accuracy_rf,precision_rf, recall_rf,auc_rf],\n",
    "        [acuraccy_gb,precision_gb, recall_gb,auc_gb],\n",
    "       [accuracy_svc,precision_svc, recall_svc,auc_svc],\n",
    "       [accuracy_GNB,precision_GNB, recall_GNB,auc_NB],\n",
    "       [accuracy_knn,precision_knn, recall_knn,auc_knn]]\n",
    "result_df = pd.DataFrame(data,columns=[\"Accuracy\",\"Precision\",\"Recall\",\"AUC\"],\n",
    "                         index=['LogisticRegression','DecisionTree','RandomForest',\n",
    "                              'GradientBoost','SVM','Naive Bayes','KNN'])"
   ]
  },
  {
   "cell_type": "code",
   "execution_count": 802,
   "id": "e5561e5b-ca72-476c-a4d3-b2cb4b49c526",
   "metadata": {},
   "outputs": [
    {
     "data": {
      "text/html": [
       "<div>\n",
       "<style scoped>\n",
       "    .dataframe tbody tr th:only-of-type {\n",
       "        vertical-align: middle;\n",
       "    }\n",
       "\n",
       "    .dataframe tbody tr th {\n",
       "        vertical-align: top;\n",
       "    }\n",
       "\n",
       "    .dataframe thead th {\n",
       "        text-align: right;\n",
       "    }\n",
       "</style>\n",
       "<table border=\"1\" class=\"dataframe\">\n",
       "  <thead>\n",
       "    <tr style=\"text-align: right;\">\n",
       "      <th></th>\n",
       "      <th>Accuracy</th>\n",
       "      <th>Precision</th>\n",
       "      <th>Recall</th>\n",
       "      <th>AUC</th>\n",
       "    </tr>\n",
       "  </thead>\n",
       "  <tbody>\n",
       "    <tr>\n",
       "      <th>LogisticRegression</th>\n",
       "      <td>0.992138</td>\n",
       "      <td>1.000000</td>\n",
       "      <td>0.285714</td>\n",
       "      <td>0.926641</td>\n",
       "    </tr>\n",
       "    <tr>\n",
       "      <th>DecisionTree</th>\n",
       "      <td>0.988994</td>\n",
       "      <td>0.000000</td>\n",
       "      <td>0.000000</td>\n",
       "      <td>0.680445</td>\n",
       "    </tr>\n",
       "    <tr>\n",
       "      <th>RandomForest</th>\n",
       "      <td>0.987421</td>\n",
       "      <td>1.000000</td>\n",
       "      <td>0.111111</td>\n",
       "      <td>0.879940</td>\n",
       "    </tr>\n",
       "    <tr>\n",
       "      <th>GradientBoost</th>\n",
       "      <td>0.982704</td>\n",
       "      <td>0.000000</td>\n",
       "      <td>0.000000</td>\n",
       "      <td>0.932306</td>\n",
       "    </tr>\n",
       "    <tr>\n",
       "      <th>SVM</th>\n",
       "      <td>0.985849</td>\n",
       "      <td>0.000000</td>\n",
       "      <td>0.000000</td>\n",
       "      <td>0.500000</td>\n",
       "    </tr>\n",
       "    <tr>\n",
       "      <th>Naive Bayes</th>\n",
       "      <td>0.650943</td>\n",
       "      <td>0.034934</td>\n",
       "      <td>0.888889</td>\n",
       "      <td>0.768208</td>\n",
       "    </tr>\n",
       "    <tr>\n",
       "      <th>KNN</th>\n",
       "      <td>0.985849</td>\n",
       "      <td>0.000000</td>\n",
       "      <td>0.000000</td>\n",
       "      <td>0.500000</td>\n",
       "    </tr>\n",
       "  </tbody>\n",
       "</table>\n",
       "</div>"
      ],
      "text/plain": [
       "                    Accuracy  Precision    Recall       AUC\n",
       "LogisticRegression  0.992138   1.000000  0.285714  0.926641\n",
       "DecisionTree        0.988994   0.000000  0.000000  0.680445\n",
       "RandomForest        0.987421   1.000000  0.111111  0.879940\n",
       "GradientBoost       0.982704   0.000000  0.000000  0.932306\n",
       "SVM                 0.985849   0.000000  0.000000  0.500000\n",
       "Naive Bayes         0.650943   0.034934  0.888889  0.768208\n",
       "KNN                 0.985849   0.000000  0.000000  0.500000"
      ]
     },
     "execution_count": 802,
     "metadata": {},
     "output_type": "execute_result"
    }
   ],
   "source": [
    "result_df"
   ]
  },
  {
   "cell_type": "markdown",
   "id": "6d8a3c7c-6b98-4e9d-8557-4a1a9b36204f",
   "metadata": {},
   "source": [
    "Conclusion\r\n",
    "From above models, only Logistic Regression, RandomForest  and Naive Bayes has recall and precision values. So from these32 models, we will choose LogisticRegression as its accuracy ismore %"
   ]
  },
  {
   "cell_type": "code",
   "execution_count": null,
   "id": "8054c467-5c71-4f61-8737-8b0dec37eaa2",
   "metadata": {},
   "outputs": [],
   "source": []
  }
 ],
 "metadata": {
  "kernelspec": {
   "display_name": "Python 3 (ipykernel)",
   "language": "python",
   "name": "python3"
  },
  "language_info": {
   "codemirror_mode": {
    "name": "ipython",
    "version": 3
   },
   "file_extension": ".py",
   "mimetype": "text/x-python",
   "name": "python",
   "nbconvert_exporter": "python",
   "pygments_lexer": "ipython3",
   "version": "3.11.7"
  }
 },
 "nbformat": 4,
 "nbformat_minor": 5
}
